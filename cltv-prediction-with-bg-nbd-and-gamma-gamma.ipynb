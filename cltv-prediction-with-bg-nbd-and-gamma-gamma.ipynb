{
 "cells": [
  {
   "cell_type": "markdown",
   "id": "e67cc8cc",
   "metadata": {
    "papermill": {
     "duration": 0.010081,
     "end_time": "2022-11-23T21:12:02.734480",
     "exception": false,
     "start_time": "2022-11-23T21:12:02.724399",
     "status": "completed"
    },
    "tags": []
   },
   "source": [
    "# **Customer Lifetime Value (CLTV) Prediction with the models BG-NBD and Gamma-Gamma - FLO Example**\n",
    "\n",
    "# Business problem\n",
    "\n",
    "### FLO wants to set a roadmap for sales and marketing activities. In order for the company to make a medium-long-term plan, it is necessary to estimate the potential value that existing customers will provide to the company in the future.\n",
    "\n",
    "# Dataset story\n",
    "### The dataset consists of the information obtained from the past shopping behavior of customers who made their last purchases from Flo as OmniChannel (both online and offline shopper) between 2020 and 2021.\n",
    "\n",
    "* master_id: Unique client number\n",
    "* order_channel: Which channel of the shopping platform is used (Android, ios, Desktop, Mobile)\n",
    "* last_order_channel: The channel where the last purchase was made\n",
    "* first_order_date: The date of the first purchase made by the customer\n",
    "* last_order_date: The date of the customer's last purchase\n",
    "* last_order_date_online: The date of the last purchase made by the customer on the online platform\n",
    "* last_order_date_offline: The date of the last purchase made by the customer on the offline platform\n",
    "* order_num_total_ever_online: The total number of purchases made by the customer on the online platform\n",
    "* order_num_total_ever_offline: Total number of purchases made by the customer offline\n",
    "* customer_value_total_ever_offline: The total price paid by the customer for offline purchases\n",
    "* customer_value_total_ever_online: The total price paid by the customer for their online shopping\n",
    "* interested_in_categories_12: List of categories the customer has purchased from in the last 12 months"
   ]
  },
  {
   "cell_type": "markdown",
   "id": "730d75fd",
   "metadata": {
    "papermill": {
     "duration": 0.010064,
     "end_time": "2022-11-23T21:12:02.753985",
     "exception": false,
     "start_time": "2022-11-23T21:12:02.743921",
     "status": "completed"
    },
    "tags": []
   },
   "source": [
    "# Importing libraries"
   ]
  },
  {
   "cell_type": "code",
   "execution_count": 1,
   "id": "f0d685b6",
   "metadata": {
    "execution": {
     "iopub.execute_input": "2022-11-23T21:12:02.773757Z",
     "iopub.status.busy": "2022-11-23T21:12:02.773214Z",
     "iopub.status.idle": "2022-11-23T21:12:15.127630Z",
     "shell.execute_reply": "2022-11-23T21:12:15.126849Z"
    },
    "papermill": {
     "duration": 12.367376,
     "end_time": "2022-11-23T21:12:15.130254",
     "exception": false,
     "start_time": "2022-11-23T21:12:02.762878",
     "status": "completed"
    },
    "tags": []
   },
   "outputs": [
    {
     "name": "stdout",
     "output_type": "stream",
     "text": [
      "Collecting lifetimes\r\n",
      "  Downloading Lifetimes-0.11.3-py3-none-any.whl (584 kB)\r\n",
      "\u001b[2K     \u001b[90m━━━━━━━━━━━━━━━━━━━━━━━━━━━━━━━━━━━━━━━\u001b[0m \u001b[32m584.2/584.2 kB\u001b[0m \u001b[31m1.5 MB/s\u001b[0m eta \u001b[36m0:00:00\u001b[0m\r\n",
      "\u001b[?25hCollecting autograd>=1.2.0\r\n",
      "  Downloading autograd-1.5-py3-none-any.whl (48 kB)\r\n",
      "\u001b[2K     \u001b[90m━━━━━━━━━━━━━━━━━━━━━━━━━━━━━━━━━━━━━━━━\u001b[0m \u001b[32m48.9/48.9 kB\u001b[0m \u001b[31m4.1 MB/s\u001b[0m eta \u001b[36m0:00:00\u001b[0m\r\n",
      "\u001b[?25hRequirement already satisfied: pandas>=0.24.0 in /opt/conda/lib/python3.7/site-packages (from lifetimes) (1.3.5)\r\n",
      "Requirement already satisfied: numpy>=1.10.0 in /opt/conda/lib/python3.7/site-packages (from lifetimes) (1.21.6)\r\n",
      "Requirement already satisfied: dill>=0.2.6 in /opt/conda/lib/python3.7/site-packages (from lifetimes) (0.3.5.1)\r\n",
      "Requirement already satisfied: scipy>=1.0.0 in /opt/conda/lib/python3.7/site-packages (from lifetimes) (1.7.3)\r\n",
      "Requirement already satisfied: future>=0.15.2 in /opt/conda/lib/python3.7/site-packages (from autograd>=1.2.0->lifetimes) (0.18.2)\r\n",
      "Requirement already satisfied: python-dateutil>=2.7.3 in /opt/conda/lib/python3.7/site-packages (from pandas>=0.24.0->lifetimes) (2.8.2)\r\n",
      "Requirement already satisfied: pytz>=2017.3 in /opt/conda/lib/python3.7/site-packages (from pandas>=0.24.0->lifetimes) (2022.1)\r\n",
      "Requirement already satisfied: six>=1.5 in /opt/conda/lib/python3.7/site-packages (from python-dateutil>=2.7.3->pandas>=0.24.0->lifetimes) (1.15.0)\r\n",
      "Installing collected packages: autograd, lifetimes\r\n",
      "Successfully installed autograd-1.5 lifetimes-0.11.3\r\n",
      "\u001b[33mWARNING: Running pip as the 'root' user can result in broken permissions and conflicting behaviour with the system package manager. It is recommended to use a virtual environment instead: https://pip.pypa.io/warnings/venv\u001b[0m\u001b[33m\r\n",
      "\u001b[0m"
     ]
    }
   ],
   "source": [
    "!pip install lifetimes"
   ]
  },
  {
   "cell_type": "code",
   "execution_count": 2,
   "id": "4c5113ed",
   "metadata": {
    "execution": {
     "iopub.execute_input": "2022-11-23T21:12:15.151528Z",
     "iopub.status.busy": "2022-11-23T21:12:15.151154Z",
     "iopub.status.idle": "2022-11-23T21:12:16.402313Z",
     "shell.execute_reply": "2022-11-23T21:12:16.401088Z"
    },
    "papermill": {
     "duration": 1.264856,
     "end_time": "2022-11-23T21:12:16.405180",
     "exception": false,
     "start_time": "2022-11-23T21:12:15.140324",
     "status": "completed"
    },
    "tags": []
   },
   "outputs": [],
   "source": [
    "import pandas as pd\n",
    "import datetime as dt\n",
    "import seaborn as sns\n",
    "import matplotlib.pyplot as plt\n",
    "from lifetimes import GammaGammaFitter, BetaGeoFitter\n",
    "from lifetimes.plotting import plot_period_transactions\n",
    "from sklearn.preprocessing import MinMaxScaler\n",
    "import warnings\n",
    "warnings.filterwarnings('ignore')\n",
    "\n",
    "pd.set_option('display.max_columns', None)\n",
    "pd.set_option('display.width', 2000)\n",
    "pd.set_option('display.float_format', lambda x: '%.3f' % x)"
   ]
  },
  {
   "cell_type": "markdown",
   "id": "5db4a5dd",
   "metadata": {
    "papermill": {
     "duration": 0.009715,
     "end_time": "2022-11-23T21:12:16.424955",
     "exception": false,
     "start_time": "2022-11-23T21:12:16.415240",
     "status": "completed"
    },
    "tags": []
   },
   "source": [
    "# Let's prepare the data"
   ]
  },
  {
   "cell_type": "markdown",
   "id": "e5674c92",
   "metadata": {
    "papermill": {
     "duration": 0.009621,
     "end_time": "2022-11-23T21:12:16.444537",
     "exception": false,
     "start_time": "2022-11-23T21:12:16.434916",
     "status": "completed"
    },
    "tags": []
   },
   "source": [
    "### Reading dataset"
   ]
  },
  {
   "cell_type": "code",
   "execution_count": 3,
   "id": "268f877e",
   "metadata": {
    "execution": {
     "iopub.execute_input": "2022-11-23T21:12:16.466729Z",
     "iopub.status.busy": "2022-11-23T21:12:16.465833Z",
     "iopub.status.idle": "2022-11-23T21:12:16.577312Z",
     "shell.execute_reply": "2022-11-23T21:12:16.576132Z"
    },
    "papermill": {
     "duration": 0.125396,
     "end_time": "2022-11-23T21:12:16.579831",
     "exception": false,
     "start_time": "2022-11-23T21:12:16.454435",
     "status": "completed"
    },
    "tags": []
   },
   "outputs": [
    {
     "data": {
      "text/html": [
       "<div>\n",
       "<style scoped>\n",
       "    .dataframe tbody tr th:only-of-type {\n",
       "        vertical-align: middle;\n",
       "    }\n",
       "\n",
       "    .dataframe tbody tr th {\n",
       "        vertical-align: top;\n",
       "    }\n",
       "\n",
       "    .dataframe thead th {\n",
       "        text-align: right;\n",
       "    }\n",
       "</style>\n",
       "<table border=\"1\" class=\"dataframe\">\n",
       "  <thead>\n",
       "    <tr style=\"text-align: right;\">\n",
       "      <th></th>\n",
       "      <th>master_id</th>\n",
       "      <th>order_channel</th>\n",
       "      <th>last_order_channel</th>\n",
       "      <th>first_order_date</th>\n",
       "      <th>last_order_date</th>\n",
       "      <th>last_order_date_online</th>\n",
       "      <th>last_order_date_offline</th>\n",
       "      <th>order_num_total_ever_online</th>\n",
       "      <th>order_num_total_ever_offline</th>\n",
       "      <th>customer_value_total_ever_offline</th>\n",
       "      <th>customer_value_total_ever_online</th>\n",
       "      <th>interested_in_categories_12</th>\n",
       "    </tr>\n",
       "  </thead>\n",
       "  <tbody>\n",
       "    <tr>\n",
       "      <th>0</th>\n",
       "      <td>cc294636-19f0-11eb-8d74-000d3a38a36f</td>\n",
       "      <td>Android App</td>\n",
       "      <td>Offline</td>\n",
       "      <td>2020-10-30</td>\n",
       "      <td>2021-02-26</td>\n",
       "      <td>2021-02-21</td>\n",
       "      <td>2021-02-26</td>\n",
       "      <td>4.000</td>\n",
       "      <td>1.000</td>\n",
       "      <td>139.990</td>\n",
       "      <td>799.380</td>\n",
       "      <td>[KADIN]</td>\n",
       "    </tr>\n",
       "    <tr>\n",
       "      <th>1</th>\n",
       "      <td>f431bd5a-ab7b-11e9-a2fc-000d3a38a36f</td>\n",
       "      <td>Android App</td>\n",
       "      <td>Mobile</td>\n",
       "      <td>2017-02-08</td>\n",
       "      <td>2021-02-16</td>\n",
       "      <td>2021-02-16</td>\n",
       "      <td>2020-01-10</td>\n",
       "      <td>19.000</td>\n",
       "      <td>2.000</td>\n",
       "      <td>159.970</td>\n",
       "      <td>1853.580</td>\n",
       "      <td>[ERKEK, COCUK, KADIN, AKTIFSPOR]</td>\n",
       "    </tr>\n",
       "    <tr>\n",
       "      <th>2</th>\n",
       "      <td>69b69676-1a40-11ea-941b-000d3a38a36f</td>\n",
       "      <td>Android App</td>\n",
       "      <td>Android App</td>\n",
       "      <td>2019-11-27</td>\n",
       "      <td>2020-11-27</td>\n",
       "      <td>2020-11-27</td>\n",
       "      <td>2019-12-01</td>\n",
       "      <td>3.000</td>\n",
       "      <td>2.000</td>\n",
       "      <td>189.970</td>\n",
       "      <td>395.350</td>\n",
       "      <td>[ERKEK, KADIN]</td>\n",
       "    </tr>\n",
       "    <tr>\n",
       "      <th>3</th>\n",
       "      <td>1854e56c-491f-11eb-806e-000d3a38a36f</td>\n",
       "      <td>Android App</td>\n",
       "      <td>Android App</td>\n",
       "      <td>2021-01-06</td>\n",
       "      <td>2021-01-17</td>\n",
       "      <td>2021-01-17</td>\n",
       "      <td>2021-01-06</td>\n",
       "      <td>1.000</td>\n",
       "      <td>1.000</td>\n",
       "      <td>39.990</td>\n",
       "      <td>81.980</td>\n",
       "      <td>[AKTIFCOCUK, COCUK]</td>\n",
       "    </tr>\n",
       "    <tr>\n",
       "      <th>4</th>\n",
       "      <td>d6ea1074-f1f5-11e9-9346-000d3a38a36f</td>\n",
       "      <td>Desktop</td>\n",
       "      <td>Desktop</td>\n",
       "      <td>2019-08-03</td>\n",
       "      <td>2021-03-07</td>\n",
       "      <td>2021-03-07</td>\n",
       "      <td>2019-08-03</td>\n",
       "      <td>1.000</td>\n",
       "      <td>1.000</td>\n",
       "      <td>49.990</td>\n",
       "      <td>159.990</td>\n",
       "      <td>[AKTIFSPOR]</td>\n",
       "    </tr>\n",
       "  </tbody>\n",
       "</table>\n",
       "</div>"
      ],
      "text/plain": [
       "                              master_id order_channel last_order_channel first_order_date last_order_date last_order_date_online last_order_date_offline  order_num_total_ever_online  order_num_total_ever_offline  customer_value_total_ever_offline  customer_value_total_ever_online       interested_in_categories_12\n",
       "0  cc294636-19f0-11eb-8d74-000d3a38a36f   Android App            Offline       2020-10-30      2021-02-26             2021-02-21              2021-02-26                        4.000                         1.000                            139.990                           799.380                           [KADIN]\n",
       "1  f431bd5a-ab7b-11e9-a2fc-000d3a38a36f   Android App             Mobile       2017-02-08      2021-02-16             2021-02-16              2020-01-10                       19.000                         2.000                            159.970                          1853.580  [ERKEK, COCUK, KADIN, AKTIFSPOR]\n",
       "2  69b69676-1a40-11ea-941b-000d3a38a36f   Android App        Android App       2019-11-27      2020-11-27             2020-11-27              2019-12-01                        3.000                         2.000                            189.970                           395.350                    [ERKEK, KADIN]\n",
       "3  1854e56c-491f-11eb-806e-000d3a38a36f   Android App        Android App       2021-01-06      2021-01-17             2021-01-17              2021-01-06                        1.000                         1.000                             39.990                            81.980               [AKTIFCOCUK, COCUK]\n",
       "4  d6ea1074-f1f5-11e9-9346-000d3a38a36f       Desktop            Desktop       2019-08-03      2021-03-07             2021-03-07              2019-08-03                        1.000                         1.000                             49.990                           159.990                       [AKTIFSPOR]"
      ]
     },
     "execution_count": 3,
     "metadata": {},
     "output_type": "execute_result"
    }
   ],
   "source": [
    "df_ = pd.read_csv('/kaggle/input/flo-customer-segmentation/flo_rfm_analizi_dataset.csv')\n",
    "df = df_.copy()\n",
    "df.columns = [col.lower() for col in df.columns]\n",
    "df.head()"
   ]
  },
  {
   "cell_type": "markdown",
   "id": "1e6741b0",
   "metadata": {
    "papermill": {
     "duration": 0.010546,
     "end_time": "2022-11-23T21:12:16.600717",
     "exception": false,
     "start_time": "2022-11-23T21:12:16.590171",
     "status": "completed"
    },
    "tags": []
   },
   "source": [
    "### Define the outlier_thresholds and replace_with_thresholds functions needed to suppress outliers. \n",
    "### Note: When calculating cltv, frequency values must be integers. Therefore, round the lower and upper limits with round()."
   ]
  },
  {
   "cell_type": "markdown",
   "id": "6f3cf89d",
   "metadata": {
    "papermill": {
     "duration": 0.009858,
     "end_time": "2022-11-23T21:12:16.620872",
     "exception": false,
     "start_time": "2022-11-23T21:12:16.611014",
     "status": "completed"
    },
    "tags": []
   },
   "source": [
    "### Let's check the descriptive statistics"
   ]
  },
  {
   "cell_type": "code",
   "execution_count": 4,
   "id": "fbbc2bcf",
   "metadata": {
    "execution": {
     "iopub.execute_input": "2022-11-23T21:12:16.643215Z",
     "iopub.status.busy": "2022-11-23T21:12:16.642673Z",
     "iopub.status.idle": "2022-11-23T21:12:16.679696Z",
     "shell.execute_reply": "2022-11-23T21:12:16.678634Z"
    },
    "papermill": {
     "duration": 0.050631,
     "end_time": "2022-11-23T21:12:16.681853",
     "exception": false,
     "start_time": "2022-11-23T21:12:16.631222",
     "status": "completed"
    },
    "tags": []
   },
   "outputs": [
    {
     "data": {
      "text/html": [
       "<div>\n",
       "<style scoped>\n",
       "    .dataframe tbody tr th:only-of-type {\n",
       "        vertical-align: middle;\n",
       "    }\n",
       "\n",
       "    .dataframe tbody tr th {\n",
       "        vertical-align: top;\n",
       "    }\n",
       "\n",
       "    .dataframe thead th {\n",
       "        text-align: right;\n",
       "    }\n",
       "</style>\n",
       "<table border=\"1\" class=\"dataframe\">\n",
       "  <thead>\n",
       "    <tr style=\"text-align: right;\">\n",
       "      <th></th>\n",
       "      <th>count</th>\n",
       "      <th>mean</th>\n",
       "      <th>std</th>\n",
       "      <th>min</th>\n",
       "      <th>5%</th>\n",
       "      <th>10%</th>\n",
       "      <th>25%</th>\n",
       "      <th>50%</th>\n",
       "      <th>75%</th>\n",
       "      <th>90%</th>\n",
       "      <th>95%</th>\n",
       "      <th>99%</th>\n",
       "      <th>max</th>\n",
       "    </tr>\n",
       "  </thead>\n",
       "  <tbody>\n",
       "    <tr>\n",
       "      <th>order_num_total_ever_online</th>\n",
       "      <td>19945.000</td>\n",
       "      <td>3.111</td>\n",
       "      <td>4.226</td>\n",
       "      <td>1.000</td>\n",
       "      <td>1.000</td>\n",
       "      <td>1.000</td>\n",
       "      <td>1.000</td>\n",
       "      <td>2.000</td>\n",
       "      <td>4.000</td>\n",
       "      <td>7.000</td>\n",
       "      <td>10.000</td>\n",
       "      <td>20.000</td>\n",
       "      <td>200.000</td>\n",
       "    </tr>\n",
       "    <tr>\n",
       "      <th>order_num_total_ever_offline</th>\n",
       "      <td>19945.000</td>\n",
       "      <td>1.914</td>\n",
       "      <td>2.063</td>\n",
       "      <td>1.000</td>\n",
       "      <td>1.000</td>\n",
       "      <td>1.000</td>\n",
       "      <td>1.000</td>\n",
       "      <td>1.000</td>\n",
       "      <td>2.000</td>\n",
       "      <td>4.000</td>\n",
       "      <td>4.000</td>\n",
       "      <td>7.000</td>\n",
       "      <td>109.000</td>\n",
       "    </tr>\n",
       "    <tr>\n",
       "      <th>customer_value_total_ever_offline</th>\n",
       "      <td>19945.000</td>\n",
       "      <td>253.923</td>\n",
       "      <td>301.533</td>\n",
       "      <td>10.000</td>\n",
       "      <td>39.990</td>\n",
       "      <td>59.990</td>\n",
       "      <td>99.990</td>\n",
       "      <td>179.980</td>\n",
       "      <td>319.970</td>\n",
       "      <td>519.950</td>\n",
       "      <td>694.222</td>\n",
       "      <td>1219.947</td>\n",
       "      <td>18119.140</td>\n",
       "    </tr>\n",
       "    <tr>\n",
       "      <th>customer_value_total_ever_online</th>\n",
       "      <td>19945.000</td>\n",
       "      <td>497.322</td>\n",
       "      <td>832.602</td>\n",
       "      <td>12.990</td>\n",
       "      <td>63.990</td>\n",
       "      <td>84.990</td>\n",
       "      <td>149.980</td>\n",
       "      <td>286.460</td>\n",
       "      <td>578.440</td>\n",
       "      <td>1082.036</td>\n",
       "      <td>1556.726</td>\n",
       "      <td>3143.810</td>\n",
       "      <td>45220.130</td>\n",
       "    </tr>\n",
       "  </tbody>\n",
       "</table>\n",
       "</div>"
      ],
      "text/plain": [
       "                                      count    mean     std    min     5%    10%     25%     50%     75%      90%      95%      99%       max\n",
       "order_num_total_ever_online       19945.000   3.111   4.226  1.000  1.000  1.000   1.000   2.000   4.000    7.000   10.000   20.000   200.000\n",
       "order_num_total_ever_offline      19945.000   1.914   2.063  1.000  1.000  1.000   1.000   1.000   2.000    4.000    4.000    7.000   109.000\n",
       "customer_value_total_ever_offline 19945.000 253.923 301.533 10.000 39.990 59.990  99.990 179.980 319.970  519.950  694.222 1219.947 18119.140\n",
       "customer_value_total_ever_online  19945.000 497.322 832.602 12.990 63.990 84.990 149.980 286.460 578.440 1082.036 1556.726 3143.810 45220.130"
      ]
     },
     "execution_count": 4,
     "metadata": {},
     "output_type": "execute_result"
    }
   ],
   "source": [
    "df.describe([0.05, 0.10, 0.25, 0.50, 0.75, 0.90, 0.95, 0.99]).T"
   ]
  },
  {
   "cell_type": "markdown",
   "id": "bf570523",
   "metadata": {
    "papermill": {
     "duration": 0.009935,
     "end_time": "2022-11-23T21:12:16.702249",
     "exception": false,
     "start_time": "2022-11-23T21:12:16.692314",
     "status": "completed"
    },
    "tags": []
   },
   "source": [
    "### Let's define a function that grabs outliers"
   ]
  },
  {
   "cell_type": "code",
   "execution_count": 5,
   "id": "86b612be",
   "metadata": {
    "execution": {
     "iopub.execute_input": "2022-11-23T21:12:16.724188Z",
     "iopub.status.busy": "2022-11-23T21:12:16.723849Z",
     "iopub.status.idle": "2022-11-23T21:12:16.729822Z",
     "shell.execute_reply": "2022-11-23T21:12:16.728481Z"
    },
    "papermill": {
     "duration": 0.019236,
     "end_time": "2022-11-23T21:12:16.731758",
     "exception": false,
     "start_time": "2022-11-23T21:12:16.712522",
     "status": "completed"
    },
    "tags": []
   },
   "outputs": [],
   "source": [
    "def outlier_thresholds(dataframe, variable):\n",
    "    quartile1 = dataframe[variable].quantile(0.01)\n",
    "    quartile3 = dataframe[variable].quantile(0.99)\n",
    "    interquantile_range = quartile3 - quartile1\n",
    "    up_limit = quartile3 + 1.5 * interquantile_range\n",
    "    low_limit = quartile1 - 1.5 * interquantile_range\n",
    "    return low_limit, up_limit"
   ]
  },
  {
   "cell_type": "markdown",
   "id": "3ea8949b",
   "metadata": {
    "papermill": {
     "duration": 0.009862,
     "end_time": "2022-11-23T21:12:16.752483",
     "exception": false,
     "start_time": "2022-11-23T21:12:16.742621",
     "status": "completed"
    },
    "tags": []
   },
   "source": [
    "### Let's define a function that suppresses outliers"
   ]
  },
  {
   "cell_type": "code",
   "execution_count": 6,
   "id": "dbc4eb7c",
   "metadata": {
    "execution": {
     "iopub.execute_input": "2022-11-23T21:12:16.774746Z",
     "iopub.status.busy": "2022-11-23T21:12:16.774162Z",
     "iopub.status.idle": "2022-11-23T21:12:16.779216Z",
     "shell.execute_reply": "2022-11-23T21:12:16.778598Z"
    },
    "papermill": {
     "duration": 0.0183,
     "end_time": "2022-11-23T21:12:16.780975",
     "exception": false,
     "start_time": "2022-11-23T21:12:16.762675",
     "status": "completed"
    },
    "tags": []
   },
   "outputs": [],
   "source": [
    "def replace_with_thresholds(dataframe, variable):\n",
    "    low_limit, up_limit = outlier_thresholds(dataframe, variable)\n",
    "    dataframe.loc[dataframe[variable] < low_limit, variable] = round(low_limit, 0)\n",
    "    dataframe.loc[dataframe[variable] > up_limit, variable] = round(up_limit, 0)"
   ]
  },
  {
   "cell_type": "markdown",
   "id": "53216e2c",
   "metadata": {
    "papermill": {
     "duration": 0.009789,
     "end_time": "2022-11-23T21:12:16.800900",
     "exception": false,
     "start_time": "2022-11-23T21:12:16.791111",
     "status": "completed"
    },
    "tags": []
   },
   "source": [
    "### If the variables \"order_num_total_ever_online\", \"order_num_total_ever_offline\", \"customer_value_total_ever_offline\", \"customer_value_total_ever_online\" have outliers, let's suppress them"
   ]
  },
  {
   "cell_type": "code",
   "execution_count": 7,
   "id": "6462ca0e",
   "metadata": {
    "execution": {
     "iopub.execute_input": "2022-11-23T21:12:16.822548Z",
     "iopub.status.busy": "2022-11-23T21:12:16.822247Z",
     "iopub.status.idle": "2022-11-23T21:12:16.837521Z",
     "shell.execute_reply": "2022-11-23T21:12:16.836884Z"
    },
    "papermill": {
     "duration": 0.028864,
     "end_time": "2022-11-23T21:12:16.839791",
     "exception": false,
     "start_time": "2022-11-23T21:12:16.810927",
     "status": "completed"
    },
    "tags": []
   },
   "outputs": [],
   "source": [
    "variables = [col for col in df.columns if 'ever' in col]\n",
    "for col in variables:\n",
    "    replace_with_thresholds(df, col)"
   ]
  },
  {
   "cell_type": "markdown",
   "id": "c50e6122",
   "metadata": {
    "papermill": {
     "duration": 0.009911,
     "end_time": "2022-11-23T21:12:16.860077",
     "exception": false,
     "start_time": "2022-11-23T21:12:16.850166",
     "status": "completed"
    },
    "tags": []
   },
   "source": [
    "### Let's check the descriptive statistics again"
   ]
  },
  {
   "cell_type": "code",
   "execution_count": 8,
   "id": "df6df6d0",
   "metadata": {
    "execution": {
     "iopub.execute_input": "2022-11-23T21:12:16.882401Z",
     "iopub.status.busy": "2022-11-23T21:12:16.881849Z",
     "iopub.status.idle": "2022-11-23T21:12:16.906959Z",
     "shell.execute_reply": "2022-11-23T21:12:16.905656Z"
    },
    "papermill": {
     "duration": 0.038824,
     "end_time": "2022-11-23T21:12:16.909000",
     "exception": false,
     "start_time": "2022-11-23T21:12:16.870176",
     "status": "completed"
    },
    "tags": []
   },
   "outputs": [
    {
     "data": {
      "text/html": [
       "<div>\n",
       "<style scoped>\n",
       "    .dataframe tbody tr th:only-of-type {\n",
       "        vertical-align: middle;\n",
       "    }\n",
       "\n",
       "    .dataframe tbody tr th {\n",
       "        vertical-align: top;\n",
       "    }\n",
       "\n",
       "    .dataframe thead th {\n",
       "        text-align: right;\n",
       "    }\n",
       "</style>\n",
       "<table border=\"1\" class=\"dataframe\">\n",
       "  <thead>\n",
       "    <tr style=\"text-align: right;\">\n",
       "      <th></th>\n",
       "      <th>count</th>\n",
       "      <th>mean</th>\n",
       "      <th>std</th>\n",
       "      <th>min</th>\n",
       "      <th>5%</th>\n",
       "      <th>10%</th>\n",
       "      <th>25%</th>\n",
       "      <th>50%</th>\n",
       "      <th>75%</th>\n",
       "      <th>90%</th>\n",
       "      <th>95%</th>\n",
       "      <th>99%</th>\n",
       "      <th>max</th>\n",
       "    </tr>\n",
       "  </thead>\n",
       "  <tbody>\n",
       "    <tr>\n",
       "      <th>order_num_total_ever_online</th>\n",
       "      <td>19945.000</td>\n",
       "      <td>3.092</td>\n",
       "      <td>3.810</td>\n",
       "      <td>1.000</td>\n",
       "      <td>1.000</td>\n",
       "      <td>1.000</td>\n",
       "      <td>1.000</td>\n",
       "      <td>2.000</td>\n",
       "      <td>4.000</td>\n",
       "      <td>7.000</td>\n",
       "      <td>10.000</td>\n",
       "      <td>20.000</td>\n",
       "      <td>48.000</td>\n",
       "    </tr>\n",
       "    <tr>\n",
       "      <th>order_num_total_ever_offline</th>\n",
       "      <td>19945.000</td>\n",
       "      <td>1.886</td>\n",
       "      <td>1.435</td>\n",
       "      <td>1.000</td>\n",
       "      <td>1.000</td>\n",
       "      <td>1.000</td>\n",
       "      <td>1.000</td>\n",
       "      <td>1.000</td>\n",
       "      <td>2.000</td>\n",
       "      <td>4.000</td>\n",
       "      <td>4.000</td>\n",
       "      <td>7.000</td>\n",
       "      <td>16.000</td>\n",
       "    </tr>\n",
       "    <tr>\n",
       "      <th>customer_value_total_ever_offline</th>\n",
       "      <td>19945.000</td>\n",
       "      <td>251.921</td>\n",
       "      <td>251.024</td>\n",
       "      <td>10.000</td>\n",
       "      <td>39.990</td>\n",
       "      <td>59.990</td>\n",
       "      <td>99.990</td>\n",
       "      <td>179.980</td>\n",
       "      <td>319.970</td>\n",
       "      <td>519.950</td>\n",
       "      <td>694.222</td>\n",
       "      <td>1219.947</td>\n",
       "      <td>3020.000</td>\n",
       "    </tr>\n",
       "    <tr>\n",
       "      <th>customer_value_total_ever_online</th>\n",
       "      <td>19945.000</td>\n",
       "      <td>489.706</td>\n",
       "      <td>632.610</td>\n",
       "      <td>12.990</td>\n",
       "      <td>63.990</td>\n",
       "      <td>84.990</td>\n",
       "      <td>149.980</td>\n",
       "      <td>286.460</td>\n",
       "      <td>578.440</td>\n",
       "      <td>1082.036</td>\n",
       "      <td>1556.726</td>\n",
       "      <td>3143.810</td>\n",
       "      <td>7800.000</td>\n",
       "    </tr>\n",
       "  </tbody>\n",
       "</table>\n",
       "</div>"
      ],
      "text/plain": [
       "                                      count    mean     std    min     5%    10%     25%     50%     75%      90%      95%      99%      max\n",
       "order_num_total_ever_online       19945.000   3.092   3.810  1.000  1.000  1.000   1.000   2.000   4.000    7.000   10.000   20.000   48.000\n",
       "order_num_total_ever_offline      19945.000   1.886   1.435  1.000  1.000  1.000   1.000   1.000   2.000    4.000    4.000    7.000   16.000\n",
       "customer_value_total_ever_offline 19945.000 251.921 251.024 10.000 39.990 59.990  99.990 179.980 319.970  519.950  694.222 1219.947 3020.000\n",
       "customer_value_total_ever_online  19945.000 489.706 632.610 12.990 63.990 84.990 149.980 286.460 578.440 1082.036 1556.726 3143.810 7800.000"
      ]
     },
     "execution_count": 8,
     "metadata": {},
     "output_type": "execute_result"
    }
   ],
   "source": [
    "df.describe([0.05, 0.10, 0.25, 0.50, 0.75, 0.90, 0.95, 0.99]).T"
   ]
  },
  {
   "cell_type": "markdown",
   "id": "4bc26bc6",
   "metadata": {
    "papermill": {
     "duration": 0.010044,
     "end_time": "2022-11-23T21:12:16.929559",
     "exception": false,
     "start_time": "2022-11-23T21:12:16.919515",
     "status": "completed"
    },
    "tags": []
   },
   "source": [
    "### Omnichannel means that customers shop from both online and offline platforms. Let's create new variables for each customer's total purchases and spending"
   ]
  },
  {
   "cell_type": "code",
   "execution_count": 9,
   "id": "aa121c4f",
   "metadata": {
    "execution": {
     "iopub.execute_input": "2022-11-23T21:12:16.952643Z",
     "iopub.status.busy": "2022-11-23T21:12:16.952022Z",
     "iopub.status.idle": "2022-11-23T21:12:16.981289Z",
     "shell.execute_reply": "2022-11-23T21:12:16.980175Z"
    },
    "papermill": {
     "duration": 0.043009,
     "end_time": "2022-11-23T21:12:16.983238",
     "exception": false,
     "start_time": "2022-11-23T21:12:16.940229",
     "status": "completed"
    },
    "tags": []
   },
   "outputs": [
    {
     "data": {
      "text/html": [
       "<div>\n",
       "<style scoped>\n",
       "    .dataframe tbody tr th:only-of-type {\n",
       "        vertical-align: middle;\n",
       "    }\n",
       "\n",
       "    .dataframe tbody tr th {\n",
       "        vertical-align: top;\n",
       "    }\n",
       "\n",
       "    .dataframe thead th {\n",
       "        text-align: right;\n",
       "    }\n",
       "</style>\n",
       "<table border=\"1\" class=\"dataframe\">\n",
       "  <thead>\n",
       "    <tr style=\"text-align: right;\">\n",
       "      <th></th>\n",
       "      <th>count</th>\n",
       "      <th>mean</th>\n",
       "      <th>std</th>\n",
       "      <th>min</th>\n",
       "      <th>25%</th>\n",
       "      <th>50%</th>\n",
       "      <th>75%</th>\n",
       "      <th>max</th>\n",
       "    </tr>\n",
       "  </thead>\n",
       "  <tbody>\n",
       "    <tr>\n",
       "      <th>order_num_total_ever_online</th>\n",
       "      <td>19945.000</td>\n",
       "      <td>3.092</td>\n",
       "      <td>3.810</td>\n",
       "      <td>1.000</td>\n",
       "      <td>1.000</td>\n",
       "      <td>2.000</td>\n",
       "      <td>4.000</td>\n",
       "      <td>48.000</td>\n",
       "    </tr>\n",
       "    <tr>\n",
       "      <th>order_num_total_ever_offline</th>\n",
       "      <td>19945.000</td>\n",
       "      <td>1.886</td>\n",
       "      <td>1.435</td>\n",
       "      <td>1.000</td>\n",
       "      <td>1.000</td>\n",
       "      <td>1.000</td>\n",
       "      <td>2.000</td>\n",
       "      <td>16.000</td>\n",
       "    </tr>\n",
       "    <tr>\n",
       "      <th>customer_value_total_ever_offline</th>\n",
       "      <td>19945.000</td>\n",
       "      <td>251.921</td>\n",
       "      <td>251.024</td>\n",
       "      <td>10.000</td>\n",
       "      <td>99.990</td>\n",
       "      <td>179.980</td>\n",
       "      <td>319.970</td>\n",
       "      <td>3020.000</td>\n",
       "    </tr>\n",
       "    <tr>\n",
       "      <th>customer_value_total_ever_online</th>\n",
       "      <td>19945.000</td>\n",
       "      <td>489.706</td>\n",
       "      <td>632.610</td>\n",
       "      <td>12.990</td>\n",
       "      <td>149.980</td>\n",
       "      <td>286.460</td>\n",
       "      <td>578.440</td>\n",
       "      <td>7800.000</td>\n",
       "    </tr>\n",
       "    <tr>\n",
       "      <th>total_price</th>\n",
       "      <td>19945.000</td>\n",
       "      <td>128370.097</td>\n",
       "      <td>304104.245</td>\n",
       "      <td>499.550</td>\n",
       "      <td>21281.143</td>\n",
       "      <td>51235.480</td>\n",
       "      <td>125794.984</td>\n",
       "      <td>11048126.400</td>\n",
       "    </tr>\n",
       "    <tr>\n",
       "      <th>total_order</th>\n",
       "      <td>19945.000</td>\n",
       "      <td>4.978</td>\n",
       "      <td>4.121</td>\n",
       "      <td>2.000</td>\n",
       "      <td>3.000</td>\n",
       "      <td>4.000</td>\n",
       "      <td>6.000</td>\n",
       "      <td>57.000</td>\n",
       "    </tr>\n",
       "  </tbody>\n",
       "</table>\n",
       "</div>"
      ],
      "text/plain": [
       "                                      count       mean        std     min       25%       50%        75%          max\n",
       "order_num_total_ever_online       19945.000      3.092      3.810   1.000     1.000     2.000      4.000       48.000\n",
       "order_num_total_ever_offline      19945.000      1.886      1.435   1.000     1.000     1.000      2.000       16.000\n",
       "customer_value_total_ever_offline 19945.000    251.921    251.024  10.000    99.990   179.980    319.970     3020.000\n",
       "customer_value_total_ever_online  19945.000    489.706    632.610  12.990   149.980   286.460    578.440     7800.000\n",
       "total_price                       19945.000 128370.097 304104.245 499.550 21281.143 51235.480 125794.984 11048126.400\n",
       "total_order                       19945.000      4.978      4.121   2.000     3.000     4.000      6.000       57.000"
      ]
     },
     "execution_count": 9,
     "metadata": {},
     "output_type": "execute_result"
    }
   ],
   "source": [
    "df['total_price'] = df['customer_value_total_ever_offline'] * df['customer_value_total_ever_online']\n",
    "df['total_order'] = df['order_num_total_ever_online'] + df['order_num_total_ever_offline']\n",
    "df.describe().T"
   ]
  },
  {
   "cell_type": "markdown",
   "id": "e4d352cc",
   "metadata": {
    "papermill": {
     "duration": 0.010193,
     "end_time": "2022-11-23T21:12:17.004401",
     "exception": false,
     "start_time": "2022-11-23T21:12:16.994208",
     "status": "completed"
    },
    "tags": []
   },
   "source": [
    "### Let's examine the variable types and change the type of variables that express date to date."
   ]
  },
  {
   "cell_type": "code",
   "execution_count": 10,
   "id": "b8ade669",
   "metadata": {
    "execution": {
     "iopub.execute_input": "2022-11-23T21:12:17.027381Z",
     "iopub.status.busy": "2022-11-23T21:12:17.027010Z",
     "iopub.status.idle": "2022-11-23T21:12:17.061401Z",
     "shell.execute_reply": "2022-11-23T21:12:17.059845Z"
    },
    "papermill": {
     "duration": 0.049138,
     "end_time": "2022-11-23T21:12:17.064141",
     "exception": false,
     "start_time": "2022-11-23T21:12:17.015003",
     "status": "completed"
    },
    "tags": []
   },
   "outputs": [
    {
     "name": "stdout",
     "output_type": "stream",
     "text": [
      "master_id                             object\n",
      "order_channel                         object\n",
      "last_order_channel                    object\n",
      "first_order_date                      object\n",
      "last_order_date                       object\n",
      "last_order_date_online                object\n",
      "last_order_date_offline               object\n",
      "order_num_total_ever_online          float64\n",
      "order_num_total_ever_offline         float64\n",
      "customer_value_total_ever_offline    float64\n",
      "customer_value_total_ever_online     float64\n",
      "interested_in_categories_12           object\n",
      "total_price                          float64\n",
      "total_order                          float64\n",
      "dtype: object\n",
      "--------------------------------------------------\n",
      "master_id                                    object\n",
      "order_channel                                object\n",
      "last_order_channel                           object\n",
      "first_order_date                     datetime64[ns]\n",
      "last_order_date                      datetime64[ns]\n",
      "last_order_date_online               datetime64[ns]\n",
      "last_order_date_offline              datetime64[ns]\n",
      "order_num_total_ever_online                 float64\n",
      "order_num_total_ever_offline                float64\n",
      "customer_value_total_ever_offline           float64\n",
      "customer_value_total_ever_online            float64\n",
      "interested_in_categories_12                  object\n",
      "total_price                                 float64\n",
      "total_order                                 float64\n",
      "dtype: object\n"
     ]
    }
   ],
   "source": [
    "print(df.dtypes)\n",
    "col_names = [col for col in df.columns if 'date' in col]    # selecting the columns including 'date'\n",
    "col_names = df.columns[df.columns.str.contains('date')]     # selecting the columns including 'date'\n",
    "# first solution\n",
    "    # for col in col_names:\n",
    "    #     df[col] = pd.to_datetime(df[col])\n",
    "\n",
    "# second solution\n",
    "df[col_names] = df[col_names].apply(pd.to_datetime)\n",
    "print('--'*25)\n",
    "print(df.dtypes)"
   ]
  },
  {
   "cell_type": "markdown",
   "id": "22ab2260",
   "metadata": {
    "papermill": {
     "duration": 0.010952,
     "end_time": "2022-11-23T21:12:17.086241",
     "exception": false,
     "start_time": "2022-11-23T21:12:17.075289",
     "status": "completed"
    },
    "tags": []
   },
   "source": [
    "# Let's create the CLTV Data Structure"
   ]
  },
  {
   "cell_type": "markdown",
   "id": "381905bd",
   "metadata": {
    "papermill": {
     "duration": 0.010788,
     "end_time": "2022-11-23T21:12:17.108061",
     "exception": false,
     "start_time": "2022-11-23T21:12:17.097273",
     "status": "completed"
    },
    "tags": []
   },
   "source": [
    "### Let's take 2 days after the last shopping date in the data set as the analysis date"
   ]
  },
  {
   "cell_type": "code",
   "execution_count": 11,
   "id": "ec187829",
   "metadata": {
    "execution": {
     "iopub.execute_input": "2022-11-23T21:12:17.131858Z",
     "iopub.status.busy": "2022-11-23T21:12:17.131478Z",
     "iopub.status.idle": "2022-11-23T21:12:17.140876Z",
     "shell.execute_reply": "2022-11-23T21:12:17.139310Z"
    },
    "papermill": {
     "duration": 0.024192,
     "end_time": "2022-11-23T21:12:17.143520",
     "exception": false,
     "start_time": "2022-11-23T21:12:17.119328",
     "status": "completed"
    },
    "tags": []
   },
   "outputs": [],
   "source": [
    "df['last_order_date'].max()\n",
    "today_date = dt.datetime(2021, 6, 1)\n",
    "df['order_date_difference'] = (df['last_order_date'] - df['first_order_date']).dt.days"
   ]
  },
  {
   "cell_type": "markdown",
   "id": "8f3450ad",
   "metadata": {
    "papermill": {
     "duration": 0.010626,
     "end_time": "2022-11-23T21:12:17.165632",
     "exception": false,
     "start_time": "2022-11-23T21:12:17.155006",
     "status": "completed"
    },
    "tags": []
   },
   "source": [
    "### Let's create a new cltv dataframe with customer_id, recency_cltv_weekly, T_weekly, frequency and monetary_cltv_avg values. Monetary value will be expressed as the average value per purchase, and recency and  tenure values will be expressed in weekly terms."
   ]
  },
  {
   "cell_type": "code",
   "execution_count": 12,
   "id": "c85aa33b",
   "metadata": {
    "execution": {
     "iopub.execute_input": "2022-11-23T21:12:17.189348Z",
     "iopub.status.busy": "2022-11-23T21:12:17.189004Z",
     "iopub.status.idle": "2022-11-23T21:12:29.215298Z",
     "shell.execute_reply": "2022-11-23T21:12:29.214025Z"
    },
    "papermill": {
     "duration": 12.041348,
     "end_time": "2022-11-23T21:12:29.218046",
     "exception": false,
     "start_time": "2022-11-23T21:12:17.176698",
     "status": "completed"
    },
    "tags": []
   },
   "outputs": [
    {
     "data": {
      "text/html": [
       "<div>\n",
       "<style scoped>\n",
       "    .dataframe tbody tr th:only-of-type {\n",
       "        vertical-align: middle;\n",
       "    }\n",
       "\n",
       "    .dataframe tbody tr th {\n",
       "        vertical-align: top;\n",
       "    }\n",
       "\n",
       "    .dataframe thead th {\n",
       "        text-align: right;\n",
       "    }\n",
       "</style>\n",
       "<table border=\"1\" class=\"dataframe\">\n",
       "  <thead>\n",
       "    <tr style=\"text-align: right;\">\n",
       "      <th></th>\n",
       "      <th>recency_cltv_weekly</th>\n",
       "      <th>t_weekly</th>\n",
       "      <th>frequency</th>\n",
       "      <th>monetary_cltv_avg</th>\n",
       "    </tr>\n",
       "    <tr>\n",
       "      <th>master_id</th>\n",
       "      <th></th>\n",
       "      <th></th>\n",
       "      <th></th>\n",
       "      <th></th>\n",
       "    </tr>\n",
       "  </thead>\n",
       "  <tbody>\n",
       "    <tr>\n",
       "      <th>00016786-2f5a-11ea-bb80-000d3a38a36f</th>\n",
       "      <td>78.571</td>\n",
       "      <td>80.000</td>\n",
       "      <td>5.000</td>\n",
       "      <td>29807.609</td>\n",
       "    </tr>\n",
       "    <tr>\n",
       "      <th>00034aaa-a838-11e9-a2fc-000d3a38a36f</th>\n",
       "      <td>247.571</td>\n",
       "      <td>290.143</td>\n",
       "      <td>3.000</td>\n",
       "      <td>5968.538</td>\n",
       "    </tr>\n",
       "    <tr>\n",
       "      <th>000be838-85df-11ea-a90b-000d3a38a36f</th>\n",
       "      <td>28.286</td>\n",
       "      <td>58.714</td>\n",
       "      <td>4.000</td>\n",
       "      <td>32637.767</td>\n",
       "    </tr>\n",
       "    <tr>\n",
       "      <th>000c1fe2-a8b7-11ea-8479-000d3a38a36f</th>\n",
       "      <td>47.429</td>\n",
       "      <td>51.286</td>\n",
       "      <td>7.000</td>\n",
       "      <td>26026.033</td>\n",
       "    </tr>\n",
       "    <tr>\n",
       "      <th>000f5e3e-9dde-11ea-80cd-000d3a38a36f</th>\n",
       "      <td>43.286</td>\n",
       "      <td>46.143</td>\n",
       "      <td>7.000</td>\n",
       "      <td>56582.656</td>\n",
       "    </tr>\n",
       "    <tr>\n",
       "      <th>...</th>\n",
       "      <td>...</td>\n",
       "      <td>...</td>\n",
       "      <td>...</td>\n",
       "      <td>...</td>\n",
       "    </tr>\n",
       "    <tr>\n",
       "      <th>fff1db94-afd9-11ea-b736-000d3a38a36f</th>\n",
       "      <td>85.429</td>\n",
       "      <td>111.571</td>\n",
       "      <td>5.000</td>\n",
       "      <td>28940.929</td>\n",
       "    </tr>\n",
       "    <tr>\n",
       "      <th>fff4736a-60a4-11ea-8dd8-000d3a38a36f</th>\n",
       "      <td>46.714</td>\n",
       "      <td>56.286</td>\n",
       "      <td>2.000</td>\n",
       "      <td>12673.166</td>\n",
       "    </tr>\n",
       "    <tr>\n",
       "      <th>fffacd34-ae14-11e9-a2fc-000d3a38a36f</th>\n",
       "      <td>100.571</td>\n",
       "      <td>137.286</td>\n",
       "      <td>6.000</td>\n",
       "      <td>9236.320</td>\n",
       "    </tr>\n",
       "    <tr>\n",
       "      <th>fffacecc-ddc3-11e9-a848-000d3a38a36f</th>\n",
       "      <td>69.714</td>\n",
       "      <td>88.571</td>\n",
       "      <td>9.000</td>\n",
       "      <td>47024.262</td>\n",
       "    </tr>\n",
       "    <tr>\n",
       "      <th>fffe4b30-18e0-11ea-9213-000d3a38a36f</th>\n",
       "      <td>33.429</td>\n",
       "      <td>79.286</td>\n",
       "      <td>4.000</td>\n",
       "      <td>17194.374</td>\n",
       "    </tr>\n",
       "  </tbody>\n",
       "</table>\n",
       "<p>19945 rows × 4 columns</p>\n",
       "</div>"
      ],
      "text/plain": [
       "                                      recency_cltv_weekly  t_weekly  frequency  monetary_cltv_avg\n",
       "master_id                                                                                        \n",
       "00016786-2f5a-11ea-bb80-000d3a38a36f               78.571    80.000      5.000          29807.609\n",
       "00034aaa-a838-11e9-a2fc-000d3a38a36f              247.571   290.143      3.000           5968.538\n",
       "000be838-85df-11ea-a90b-000d3a38a36f               28.286    58.714      4.000          32637.767\n",
       "000c1fe2-a8b7-11ea-8479-000d3a38a36f               47.429    51.286      7.000          26026.033\n",
       "000f5e3e-9dde-11ea-80cd-000d3a38a36f               43.286    46.143      7.000          56582.656\n",
       "...                                                   ...       ...        ...                ...\n",
       "fff1db94-afd9-11ea-b736-000d3a38a36f               85.429   111.571      5.000          28940.929\n",
       "fff4736a-60a4-11ea-8dd8-000d3a38a36f               46.714    56.286      2.000          12673.166\n",
       "fffacd34-ae14-11e9-a2fc-000d3a38a36f              100.571   137.286      6.000           9236.320\n",
       "fffacecc-ddc3-11e9-a848-000d3a38a36f               69.714    88.571      9.000          47024.262\n",
       "fffe4b30-18e0-11ea-9213-000d3a38a36f               33.429    79.286      4.000          17194.374\n",
       "\n",
       "[19945 rows x 4 columns]"
      ]
     },
     "execution_count": 12,
     "metadata": {},
     "output_type": "execute_result"
    }
   ],
   "source": [
    "# first solution\n",
    "df['order_date_difference'] = (df['last_order_date'] - df['first_order_date']).dt.days\n",
    "cltv_df = df.groupby('master_id').agg({\n",
    "     'order_date_difference': lambda order_date_difference: order_date_difference / 7,\n",
    "     'first_order_date': lambda first_order_date: (today_date - first_order_date).dt.days / 7,\n",
    "     'total_order': lambda total_order: total_order,\n",
    "     'total_price': lambda total_price: total_price})\n",
    "cltv_df['total_price'] = cltv_df['total_price'] / cltv_df['total_order']\n",
    "cltv_df.columns = ['recency_cltv_weekly', 't_weekly', 'frequency', 'monetary_cltv_avg']\n",
    "cltv_df = cltv_df[(cltv_df['frequency'] > 1)]\n",
    "cltv_df\n",
    "\n",
    "# second solution\n",
    "# cltv_df = pd.DataFrame()\n",
    "# cltv_df[\"customer_id\"] = df[\"master_id\"]\n",
    "# cltv_df[\"recency_cltv_weekly\"] = (df[\"last_order_date\"] - df[\"first_order_date\"]).dt.days\n",
    "# cltv_df['t_weekly'] = (today_date - df[\"first_order_date\"]).dt.days\n",
    "# cltv_df['frequency'] = df[\"total_order\"]\n",
    "\n",
    "# cltv_df[\"monetary_cltv_avg\"] = df[\"total_price\"] / cltv_df[\"frequency\"]\n",
    "# cltv_df = cltv_df[(cltv_df['frequency'] > 1)]\n",
    "# cltv_df[\"recency_cltv_weekly\"] = cltv_df[\"recency_cltv_weekly\"] / 7\n",
    "# cltv_df[\"t_weekly\"] = cltv_df[\"t_weekly\"] / 7\n",
    "\n",
    "# third solution\n",
    "# def f(x):\n",
    "#     a = (x['last_order_date']- x['first_order_date']).astype('timedelta64[D]')/7 \n",
    "#     b= x['order_num_total']\n",
    "#     c= x[\"customer_value_total\"] / x['order_num_total']\n",
    "#     d = (today_date-x[\"first_order_date\"]).astype('timedelta64[D]')/7\n",
    "#     return pd.DataFrame({'recency':a, 'frequency':b, 'monetary':c , \"tenure\": d})\n",
    "\n",
    "# df1 = df.join(df.groupby('master_id')[[\"master_id\",\"last_order_date\",\"first_order_date\",\"order_num_total\",\"customer_value_total\"]].apply(f))\n",
    "# df1.head()"
   ]
  },
  {
   "cell_type": "markdown",
   "id": "fd2b6204",
   "metadata": {
    "papermill": {
     "duration": 0.011017,
     "end_time": "2022-11-23T21:12:29.240577",
     "exception": false,
     "start_time": "2022-11-23T21:12:29.229560",
     "status": "completed"
    },
    "tags": []
   },
   "source": [
    "# Let's establish the BG/NBD, Gamma-Gamma Models and calculate CLTV"
   ]
  },
  {
   "cell_type": "markdown",
   "id": "7693af65",
   "metadata": {
    "papermill": {
     "duration": 0.014843,
     "end_time": "2022-11-23T21:12:29.266802",
     "exception": false,
     "start_time": "2022-11-23T21:12:29.251959",
     "status": "completed"
    },
    "tags": []
   },
   "source": [
    "## Let's fit the BG/NBD model"
   ]
  },
  {
   "cell_type": "code",
   "execution_count": 13,
   "id": "7b75078d",
   "metadata": {
    "execution": {
     "iopub.execute_input": "2022-11-23T21:12:29.292710Z",
     "iopub.status.busy": "2022-11-23T21:12:29.291486Z",
     "iopub.status.idle": "2022-11-23T21:12:29.779717Z",
     "shell.execute_reply": "2022-11-23T21:12:29.779021Z"
    },
    "papermill": {
     "duration": 0.502851,
     "end_time": "2022-11-23T21:12:29.781500",
     "exception": false,
     "start_time": "2022-11-23T21:12:29.278649",
     "status": "completed"
    },
    "tags": []
   },
   "outputs": [
    {
     "data": {
      "text/plain": [
       "<lifetimes.BetaGeoFitter: fitted with 19945 subjects, a: 0.00, alpha: 76.17, b: 0.00, r: 3.66>"
      ]
     },
     "execution_count": 13,
     "metadata": {},
     "output_type": "execute_result"
    }
   ],
   "source": [
    "bgf = BetaGeoFitter(penalizer_coef=0.001).fit(\n",
    "    cltv_df['frequency'], \n",
    "    cltv_df['recency_cltv_weekly'], \n",
    "    cltv_df['t_weekly'])\n",
    "bgf"
   ]
  },
  {
   "cell_type": "markdown",
   "id": "0ff94e54",
   "metadata": {
    "papermill": {
     "duration": 0.014304,
     "end_time": "2022-11-23T21:12:29.811514",
     "exception": false,
     "start_time": "2022-11-23T21:12:29.797210",
     "status": "completed"
    },
    "tags": []
   },
   "source": [
    "### Let's estimate expected purchases from customers in 3 months and add exp_sales_3_month to cltv dataframe"
   ]
  },
  {
   "cell_type": "code",
   "execution_count": 14,
   "id": "42d7babe",
   "metadata": {
    "execution": {
     "iopub.execute_input": "2022-11-23T21:12:29.842233Z",
     "iopub.status.busy": "2022-11-23T21:12:29.841832Z",
     "iopub.status.idle": "2022-11-23T21:12:29.870432Z",
     "shell.execute_reply": "2022-11-23T21:12:29.869684Z"
    },
    "papermill": {
     "duration": 0.04625,
     "end_time": "2022-11-23T21:12:29.872382",
     "exception": false,
     "start_time": "2022-11-23T21:12:29.826132",
     "status": "completed"
    },
    "tags": []
   },
   "outputs": [
    {
     "data": {
      "text/html": [
       "<div>\n",
       "<style scoped>\n",
       "    .dataframe tbody tr th:only-of-type {\n",
       "        vertical-align: middle;\n",
       "    }\n",
       "\n",
       "    .dataframe tbody tr th {\n",
       "        vertical-align: top;\n",
       "    }\n",
       "\n",
       "    .dataframe thead th {\n",
       "        text-align: right;\n",
       "    }\n",
       "</style>\n",
       "<table border=\"1\" class=\"dataframe\">\n",
       "  <thead>\n",
       "    <tr style=\"text-align: right;\">\n",
       "      <th></th>\n",
       "      <th>recency_cltv_weekly</th>\n",
       "      <th>t_weekly</th>\n",
       "      <th>frequency</th>\n",
       "      <th>monetary_cltv_avg</th>\n",
       "      <th>expected_purc_3_month</th>\n",
       "    </tr>\n",
       "    <tr>\n",
       "      <th>master_id</th>\n",
       "      <th></th>\n",
       "      <th></th>\n",
       "      <th></th>\n",
       "      <th></th>\n",
       "      <th></th>\n",
       "    </tr>\n",
       "  </thead>\n",
       "  <tbody>\n",
       "    <tr>\n",
       "      <th>00016786-2f5a-11ea-bb80-000d3a38a36f</th>\n",
       "      <td>78.571</td>\n",
       "      <td>80.000</td>\n",
       "      <td>5.000</td>\n",
       "      <td>29807.609</td>\n",
       "      <td>0.666</td>\n",
       "    </tr>\n",
       "    <tr>\n",
       "      <th>00034aaa-a838-11e9-a2fc-000d3a38a36f</th>\n",
       "      <td>247.571</td>\n",
       "      <td>290.143</td>\n",
       "      <td>3.000</td>\n",
       "      <td>5968.538</td>\n",
       "      <td>0.218</td>\n",
       "    </tr>\n",
       "    <tr>\n",
       "      <th>000be838-85df-11ea-a90b-000d3a38a36f</th>\n",
       "      <td>28.286</td>\n",
       "      <td>58.714</td>\n",
       "      <td>4.000</td>\n",
       "      <td>32637.767</td>\n",
       "      <td>0.682</td>\n",
       "    </tr>\n",
       "    <tr>\n",
       "      <th>000c1fe2-a8b7-11ea-8479-000d3a38a36f</th>\n",
       "      <td>47.429</td>\n",
       "      <td>51.286</td>\n",
       "      <td>7.000</td>\n",
       "      <td>26026.033</td>\n",
       "      <td>1.004</td>\n",
       "    </tr>\n",
       "    <tr>\n",
       "      <th>000f5e3e-9dde-11ea-80cd-000d3a38a36f</th>\n",
       "      <td>43.286</td>\n",
       "      <td>46.143</td>\n",
       "      <td>7.000</td>\n",
       "      <td>56582.656</td>\n",
       "      <td>1.046</td>\n",
       "    </tr>\n",
       "    <tr>\n",
       "      <th>...</th>\n",
       "      <td>...</td>\n",
       "      <td>...</td>\n",
       "      <td>...</td>\n",
       "      <td>...</td>\n",
       "      <td>...</td>\n",
       "    </tr>\n",
       "    <tr>\n",
       "      <th>fff1db94-afd9-11ea-b736-000d3a38a36f</th>\n",
       "      <td>85.429</td>\n",
       "      <td>111.571</td>\n",
       "      <td>5.000</td>\n",
       "      <td>28940.929</td>\n",
       "      <td>0.554</td>\n",
       "    </tr>\n",
       "    <tr>\n",
       "      <th>fff4736a-60a4-11ea-8dd8-000d3a38a36f</th>\n",
       "      <td>46.714</td>\n",
       "      <td>56.286</td>\n",
       "      <td>2.000</td>\n",
       "      <td>12673.166</td>\n",
       "      <td>0.513</td>\n",
       "    </tr>\n",
       "    <tr>\n",
       "      <th>fffacd34-ae14-11e9-a2fc-000d3a38a36f</th>\n",
       "      <td>100.571</td>\n",
       "      <td>137.286</td>\n",
       "      <td>6.000</td>\n",
       "      <td>9236.320</td>\n",
       "      <td>0.543</td>\n",
       "    </tr>\n",
       "    <tr>\n",
       "      <th>fffacecc-ddc3-11e9-a848-000d3a38a36f</th>\n",
       "      <td>69.714</td>\n",
       "      <td>88.571</td>\n",
       "      <td>9.000</td>\n",
       "      <td>47024.262</td>\n",
       "      <td>0.922</td>\n",
       "    </tr>\n",
       "    <tr>\n",
       "      <th>fffe4b30-18e0-11ea-9213-000d3a38a36f</th>\n",
       "      <td>33.429</td>\n",
       "      <td>79.286</td>\n",
       "      <td>4.000</td>\n",
       "      <td>17194.374</td>\n",
       "      <td>0.592</td>\n",
       "    </tr>\n",
       "  </tbody>\n",
       "</table>\n",
       "<p>19945 rows × 5 columns</p>\n",
       "</div>"
      ],
      "text/plain": [
       "                                      recency_cltv_weekly  t_weekly  frequency  monetary_cltv_avg  expected_purc_3_month\n",
       "master_id                                                                                                               \n",
       "00016786-2f5a-11ea-bb80-000d3a38a36f               78.571    80.000      5.000          29807.609                  0.666\n",
       "00034aaa-a838-11e9-a2fc-000d3a38a36f              247.571   290.143      3.000           5968.538                  0.218\n",
       "000be838-85df-11ea-a90b-000d3a38a36f               28.286    58.714      4.000          32637.767                  0.682\n",
       "000c1fe2-a8b7-11ea-8479-000d3a38a36f               47.429    51.286      7.000          26026.033                  1.004\n",
       "000f5e3e-9dde-11ea-80cd-000d3a38a36f               43.286    46.143      7.000          56582.656                  1.046\n",
       "...                                                   ...       ...        ...                ...                    ...\n",
       "fff1db94-afd9-11ea-b736-000d3a38a36f               85.429   111.571      5.000          28940.929                  0.554\n",
       "fff4736a-60a4-11ea-8dd8-000d3a38a36f               46.714    56.286      2.000          12673.166                  0.513\n",
       "fffacd34-ae14-11e9-a2fc-000d3a38a36f              100.571   137.286      6.000           9236.320                  0.543\n",
       "fffacecc-ddc3-11e9-a848-000d3a38a36f               69.714    88.571      9.000          47024.262                  0.922\n",
       "fffe4b30-18e0-11ea-9213-000d3a38a36f               33.429    79.286      4.000          17194.374                  0.592\n",
       "\n",
       "[19945 rows x 5 columns]"
      ]
     },
     "execution_count": 14,
     "metadata": {},
     "output_type": "execute_result"
    }
   ],
   "source": [
    "cltv_df['expected_purc_3_month'] = bgf.conditional_expected_number_of_purchases_up_to_time(3 * 4,\n",
    "    cltv_df['frequency'],\n",
    "    cltv_df['recency_cltv_weekly'],\n",
    "    cltv_df['t_weekly'])\n",
    "cltv_df"
   ]
  },
  {
   "cell_type": "markdown",
   "id": "e98222f8",
   "metadata": {
    "papermill": {
     "duration": 0.011704,
     "end_time": "2022-11-23T21:12:29.898788",
     "exception": false,
     "start_time": "2022-11-23T21:12:29.887084",
     "status": "completed"
    },
    "tags": []
   },
   "source": [
    "### Let's estimate expected purchases from customers in 6 months and add exp_sales_6_month to cltv dataframe"
   ]
  },
  {
   "cell_type": "code",
   "execution_count": 15,
   "id": "14320b57",
   "metadata": {
    "execution": {
     "iopub.execute_input": "2022-11-23T21:12:29.922555Z",
     "iopub.status.busy": "2022-11-23T21:12:29.922160Z",
     "iopub.status.idle": "2022-11-23T21:12:29.946076Z",
     "shell.execute_reply": "2022-11-23T21:12:29.945183Z"
    },
    "papermill": {
     "duration": 0.03801,
     "end_time": "2022-11-23T21:12:29.947914",
     "exception": false,
     "start_time": "2022-11-23T21:12:29.909904",
     "status": "completed"
    },
    "tags": []
   },
   "outputs": [
    {
     "data": {
      "text/html": [
       "<div>\n",
       "<style scoped>\n",
       "    .dataframe tbody tr th:only-of-type {\n",
       "        vertical-align: middle;\n",
       "    }\n",
       "\n",
       "    .dataframe tbody tr th {\n",
       "        vertical-align: top;\n",
       "    }\n",
       "\n",
       "    .dataframe thead th {\n",
       "        text-align: right;\n",
       "    }\n",
       "</style>\n",
       "<table border=\"1\" class=\"dataframe\">\n",
       "  <thead>\n",
       "    <tr style=\"text-align: right;\">\n",
       "      <th></th>\n",
       "      <th>recency_cltv_weekly</th>\n",
       "      <th>t_weekly</th>\n",
       "      <th>frequency</th>\n",
       "      <th>monetary_cltv_avg</th>\n",
       "      <th>expected_purc_3_month</th>\n",
       "      <th>expected_purc_6_month</th>\n",
       "    </tr>\n",
       "    <tr>\n",
       "      <th>master_id</th>\n",
       "      <th></th>\n",
       "      <th></th>\n",
       "      <th></th>\n",
       "      <th></th>\n",
       "      <th></th>\n",
       "      <th></th>\n",
       "    </tr>\n",
       "  </thead>\n",
       "  <tbody>\n",
       "    <tr>\n",
       "      <th>00016786-2f5a-11ea-bb80-000d3a38a36f</th>\n",
       "      <td>78.571</td>\n",
       "      <td>80.000</td>\n",
       "      <td>5.000</td>\n",
       "      <td>29807.609</td>\n",
       "      <td>0.666</td>\n",
       "      <td>1.331</td>\n",
       "    </tr>\n",
       "    <tr>\n",
       "      <th>00034aaa-a838-11e9-a2fc-000d3a38a36f</th>\n",
       "      <td>247.571</td>\n",
       "      <td>290.143</td>\n",
       "      <td>3.000</td>\n",
       "      <td>5968.538</td>\n",
       "      <td>0.218</td>\n",
       "      <td>0.437</td>\n",
       "    </tr>\n",
       "    <tr>\n",
       "      <th>000be838-85df-11ea-a90b-000d3a38a36f</th>\n",
       "      <td>28.286</td>\n",
       "      <td>58.714</td>\n",
       "      <td>4.000</td>\n",
       "      <td>32637.767</td>\n",
       "      <td>0.682</td>\n",
       "      <td>1.364</td>\n",
       "    </tr>\n",
       "    <tr>\n",
       "      <th>000c1fe2-a8b7-11ea-8479-000d3a38a36f</th>\n",
       "      <td>47.429</td>\n",
       "      <td>51.286</td>\n",
       "      <td>7.000</td>\n",
       "      <td>26026.033</td>\n",
       "      <td>1.004</td>\n",
       "      <td>2.008</td>\n",
       "    </tr>\n",
       "    <tr>\n",
       "      <th>000f5e3e-9dde-11ea-80cd-000d3a38a36f</th>\n",
       "      <td>43.286</td>\n",
       "      <td>46.143</td>\n",
       "      <td>7.000</td>\n",
       "      <td>56582.656</td>\n",
       "      <td>1.046</td>\n",
       "      <td>2.092</td>\n",
       "    </tr>\n",
       "    <tr>\n",
       "      <th>...</th>\n",
       "      <td>...</td>\n",
       "      <td>...</td>\n",
       "      <td>...</td>\n",
       "      <td>...</td>\n",
       "      <td>...</td>\n",
       "      <td>...</td>\n",
       "    </tr>\n",
       "    <tr>\n",
       "      <th>fff1db94-afd9-11ea-b736-000d3a38a36f</th>\n",
       "      <td>85.429</td>\n",
       "      <td>111.571</td>\n",
       "      <td>5.000</td>\n",
       "      <td>28940.929</td>\n",
       "      <td>0.554</td>\n",
       "      <td>1.107</td>\n",
       "    </tr>\n",
       "    <tr>\n",
       "      <th>fff4736a-60a4-11ea-8dd8-000d3a38a36f</th>\n",
       "      <td>46.714</td>\n",
       "      <td>56.286</td>\n",
       "      <td>2.000</td>\n",
       "      <td>12673.166</td>\n",
       "      <td>0.513</td>\n",
       "      <td>1.026</td>\n",
       "    </tr>\n",
       "    <tr>\n",
       "      <th>fffacd34-ae14-11e9-a2fc-000d3a38a36f</th>\n",
       "      <td>100.571</td>\n",
       "      <td>137.286</td>\n",
       "      <td>6.000</td>\n",
       "      <td>9236.320</td>\n",
       "      <td>0.543</td>\n",
       "      <td>1.086</td>\n",
       "    </tr>\n",
       "    <tr>\n",
       "      <th>fffacecc-ddc3-11e9-a848-000d3a38a36f</th>\n",
       "      <td>69.714</td>\n",
       "      <td>88.571</td>\n",
       "      <td>9.000</td>\n",
       "      <td>47024.262</td>\n",
       "      <td>0.922</td>\n",
       "      <td>1.845</td>\n",
       "    </tr>\n",
       "    <tr>\n",
       "      <th>fffe4b30-18e0-11ea-9213-000d3a38a36f</th>\n",
       "      <td>33.429</td>\n",
       "      <td>79.286</td>\n",
       "      <td>4.000</td>\n",
       "      <td>17194.374</td>\n",
       "      <td>0.592</td>\n",
       "      <td>1.183</td>\n",
       "    </tr>\n",
       "  </tbody>\n",
       "</table>\n",
       "<p>19945 rows × 6 columns</p>\n",
       "</div>"
      ],
      "text/plain": [
       "                                      recency_cltv_weekly  t_weekly  frequency  monetary_cltv_avg  expected_purc_3_month  expected_purc_6_month\n",
       "master_id                                                                                                                                      \n",
       "00016786-2f5a-11ea-bb80-000d3a38a36f               78.571    80.000      5.000          29807.609                  0.666                  1.331\n",
       "00034aaa-a838-11e9-a2fc-000d3a38a36f              247.571   290.143      3.000           5968.538                  0.218                  0.437\n",
       "000be838-85df-11ea-a90b-000d3a38a36f               28.286    58.714      4.000          32637.767                  0.682                  1.364\n",
       "000c1fe2-a8b7-11ea-8479-000d3a38a36f               47.429    51.286      7.000          26026.033                  1.004                  2.008\n",
       "000f5e3e-9dde-11ea-80cd-000d3a38a36f               43.286    46.143      7.000          56582.656                  1.046                  2.092\n",
       "...                                                   ...       ...        ...                ...                    ...                    ...\n",
       "fff1db94-afd9-11ea-b736-000d3a38a36f               85.429   111.571      5.000          28940.929                  0.554                  1.107\n",
       "fff4736a-60a4-11ea-8dd8-000d3a38a36f               46.714    56.286      2.000          12673.166                  0.513                  1.026\n",
       "fffacd34-ae14-11e9-a2fc-000d3a38a36f              100.571   137.286      6.000           9236.320                  0.543                  1.086\n",
       "fffacecc-ddc3-11e9-a848-000d3a38a36f               69.714    88.571      9.000          47024.262                  0.922                  1.845\n",
       "fffe4b30-18e0-11ea-9213-000d3a38a36f               33.429    79.286      4.000          17194.374                  0.592                  1.183\n",
       "\n",
       "[19945 rows x 6 columns]"
      ]
     },
     "execution_count": 15,
     "metadata": {},
     "output_type": "execute_result"
    }
   ],
   "source": [
    "cltv_df['expected_purc_6_month'] = bgf.conditional_expected_number_of_purchases_up_to_time(24,\n",
    "    cltv_df['frequency'],\n",
    "    cltv_df['recency_cltv_weekly'],\n",
    "    cltv_df['t_weekly'])\n",
    "cltv_df"
   ]
  },
  {
   "cell_type": "markdown",
   "id": "2095da05",
   "metadata": {
    "papermill": {
     "duration": 0.011242,
     "end_time": "2022-11-23T21:12:29.970748",
     "exception": false,
     "start_time": "2022-11-23T21:12:29.959506",
     "status": "completed"
    },
    "tags": []
   },
   "source": [
    "### Let's show the frequency of the repeat transactions"
   ]
  },
  {
   "cell_type": "code",
   "execution_count": 16,
   "id": "17f20164",
   "metadata": {
    "execution": {
     "iopub.execute_input": "2022-11-23T21:12:29.995883Z",
     "iopub.status.busy": "2022-11-23T21:12:29.995276Z",
     "iopub.status.idle": "2022-11-23T21:12:33.441510Z",
     "shell.execute_reply": "2022-11-23T21:12:33.440088Z"
    },
    "papermill": {
     "duration": 3.461663,
     "end_time": "2022-11-23T21:12:33.443898",
     "exception": false,
     "start_time": "2022-11-23T21:12:29.982235",
     "status": "completed"
    },
    "tags": []
   },
   "outputs": [
    {
     "data": {
      "image/png": "[encoded data removed]",
      "text/plain": [
       "<Figure size 432x288 with 1 Axes>"
      ]
     },
     "metadata": {
      "needs_background": "light"
     },
     "output_type": "display_data"
    }
   ],
   "source": [
    "plot_period_transactions(bgf)\n",
    "plt.show(block=True)"
   ]
  },
  {
   "cell_type": "markdown",
   "id": "65a83639",
   "metadata": {
    "papermill": {
     "duration": 0.011584,
     "end_time": "2022-11-23T21:12:33.467314",
     "exception": false,
     "start_time": "2022-11-23T21:12:33.455730",
     "status": "completed"
    },
    "tags": []
   },
   "source": [
    "## Let's fit the Gamma-Gamma model\n"
   ]
  },
  {
   "cell_type": "code",
   "execution_count": 17,
   "id": "9dae995a",
   "metadata": {
    "execution": {
     "iopub.execute_input": "2022-11-23T21:12:33.493109Z",
     "iopub.status.busy": "2022-11-23T21:12:33.492469Z",
     "iopub.status.idle": "2022-11-23T21:12:33.624995Z",
     "shell.execute_reply": "2022-11-23T21:12:33.624181Z"
    },
    "papermill": {
     "duration": 0.147851,
     "end_time": "2022-11-23T21:12:33.627164",
     "exception": false,
     "start_time": "2022-11-23T21:12:33.479313",
     "status": "completed"
    },
    "tags": []
   },
   "outputs": [
    {
     "data": {
      "text/plain": [
       "<lifetimes.GammaGammaFitter: fitted with 19945 subjects, p: 2.69, q: 0.14, v: 2.63>"
      ]
     },
     "execution_count": 17,
     "metadata": {},
     "output_type": "execute_result"
    }
   ],
   "source": [
    "ggf = GammaGammaFitter(penalizer_coef=0.01).fit(cltv_df['frequency'], cltv_df['monetary_cltv_avg'])\n",
    "ggf"
   ]
  },
  {
   "cell_type": "markdown",
   "id": "aa9c2a5a",
   "metadata": {
    "papermill": {
     "duration": 0.016627,
     "end_time": "2022-11-23T21:12:33.659703",
     "exception": false,
     "start_time": "2022-11-23T21:12:33.643076",
     "status": "completed"
    },
    "tags": []
   },
   "source": [
    "### Let's estimate the average value of the customers and add it to the cltv dataframe as exp_average_value"
   ]
  },
  {
   "cell_type": "code",
   "execution_count": 18,
   "id": "9359d50e",
   "metadata": {
    "execution": {
     "iopub.execute_input": "2022-11-23T21:12:33.694436Z",
     "iopub.status.busy": "2022-11-23T21:12:33.693694Z",
     "iopub.status.idle": "2022-11-23T21:12:33.710556Z",
     "shell.execute_reply": "2022-11-23T21:12:33.709832Z"
    },
    "papermill": {
     "duration": 0.037086,
     "end_time": "2022-11-23T21:12:33.712549",
     "exception": false,
     "start_time": "2022-11-23T21:12:33.675463",
     "status": "completed"
    },
    "tags": []
   },
   "outputs": [
    {
     "data": {
      "text/html": [
       "<div>\n",
       "<style scoped>\n",
       "    .dataframe tbody tr th:only-of-type {\n",
       "        vertical-align: middle;\n",
       "    }\n",
       "\n",
       "    .dataframe tbody tr th {\n",
       "        vertical-align: top;\n",
       "    }\n",
       "\n",
       "    .dataframe thead th {\n",
       "        text-align: right;\n",
       "    }\n",
       "</style>\n",
       "<table border=\"1\" class=\"dataframe\">\n",
       "  <thead>\n",
       "    <tr style=\"text-align: right;\">\n",
       "      <th></th>\n",
       "      <th>recency_cltv_weekly</th>\n",
       "      <th>t_weekly</th>\n",
       "      <th>frequency</th>\n",
       "      <th>monetary_cltv_avg</th>\n",
       "      <th>expected_purc_3_month</th>\n",
       "      <th>expected_purc_6_month</th>\n",
       "      <th>exp_average_value</th>\n",
       "    </tr>\n",
       "    <tr>\n",
       "      <th>master_id</th>\n",
       "      <th></th>\n",
       "      <th></th>\n",
       "      <th></th>\n",
       "      <th></th>\n",
       "      <th></th>\n",
       "      <th></th>\n",
       "      <th></th>\n",
       "    </tr>\n",
       "  </thead>\n",
       "  <tbody>\n",
       "    <tr>\n",
       "      <th>00016786-2f5a-11ea-bb80-000d3a38a36f</th>\n",
       "      <td>78.571</td>\n",
       "      <td>80.000</td>\n",
       "      <td>5.000</td>\n",
       "      <td>29807.609</td>\n",
       "      <td>0.666</td>\n",
       "      <td>1.331</td>\n",
       "      <td>31844.828</td>\n",
       "    </tr>\n",
       "    <tr>\n",
       "      <th>00034aaa-a838-11e9-a2fc-000d3a38a36f</th>\n",
       "      <td>247.571</td>\n",
       "      <td>290.143</td>\n",
       "      <td>3.000</td>\n",
       "      <td>5968.538</td>\n",
       "      <td>0.218</td>\n",
       "      <td>0.437</td>\n",
       "      <td>6681.642</td>\n",
       "    </tr>\n",
       "    <tr>\n",
       "      <th>000be838-85df-11ea-a90b-000d3a38a36f</th>\n",
       "      <td>28.286</td>\n",
       "      <td>58.714</td>\n",
       "      <td>4.000</td>\n",
       "      <td>32637.767</td>\n",
       "      <td>0.682</td>\n",
       "      <td>1.364</td>\n",
       "      <td>35474.465</td>\n",
       "    </tr>\n",
       "    <tr>\n",
       "      <th>000c1fe2-a8b7-11ea-8479-000d3a38a36f</th>\n",
       "      <td>47.429</td>\n",
       "      <td>51.286</td>\n",
       "      <td>7.000</td>\n",
       "      <td>26026.033</td>\n",
       "      <td>1.004</td>\n",
       "      <td>2.008</td>\n",
       "      <td>27272.301</td>\n",
       "    </tr>\n",
       "    <tr>\n",
       "      <th>000f5e3e-9dde-11ea-80cd-000d3a38a36f</th>\n",
       "      <td>43.286</td>\n",
       "      <td>46.143</td>\n",
       "      <td>7.000</td>\n",
       "      <td>56582.656</td>\n",
       "      <td>1.046</td>\n",
       "      <td>2.092</td>\n",
       "      <td>59291.677</td>\n",
       "    </tr>\n",
       "    <tr>\n",
       "      <th>...</th>\n",
       "      <td>...</td>\n",
       "      <td>...</td>\n",
       "      <td>...</td>\n",
       "      <td>...</td>\n",
       "      <td>...</td>\n",
       "      <td>...</td>\n",
       "      <td>...</td>\n",
       "    </tr>\n",
       "    <tr>\n",
       "      <th>fff1db94-afd9-11ea-b736-000d3a38a36f</th>\n",
       "      <td>85.429</td>\n",
       "      <td>111.571</td>\n",
       "      <td>5.000</td>\n",
       "      <td>28940.929</td>\n",
       "      <td>0.554</td>\n",
       "      <td>1.107</td>\n",
       "      <td>30918.929</td>\n",
       "    </tr>\n",
       "    <tr>\n",
       "      <th>fff4736a-60a4-11ea-8dd8-000d3a38a36f</th>\n",
       "      <td>46.714</td>\n",
       "      <td>56.286</td>\n",
       "      <td>2.000</td>\n",
       "      <td>12673.166</td>\n",
       "      <td>0.513</td>\n",
       "      <td>1.026</td>\n",
       "      <td>15086.726</td>\n",
       "    </tr>\n",
       "    <tr>\n",
       "      <th>fffacd34-ae14-11e9-a2fc-000d3a38a36f</th>\n",
       "      <td>100.571</td>\n",
       "      <td>137.286</td>\n",
       "      <td>6.000</td>\n",
       "      <td>9236.320</td>\n",
       "      <td>0.543</td>\n",
       "      <td>1.086</td>\n",
       "      <td>9756.768</td>\n",
       "    </tr>\n",
       "    <tr>\n",
       "      <th>fffacecc-ddc3-11e9-a848-000d3a38a36f</th>\n",
       "      <td>69.714</td>\n",
       "      <td>88.571</td>\n",
       "      <td>9.000</td>\n",
       "      <td>47024.262</td>\n",
       "      <td>0.922</td>\n",
       "      <td>1.845</td>\n",
       "      <td>48756.964</td>\n",
       "    </tr>\n",
       "    <tr>\n",
       "      <th>fffe4b30-18e0-11ea-9213-000d3a38a36f</th>\n",
       "      <td>33.429</td>\n",
       "      <td>79.286</td>\n",
       "      <td>4.000</td>\n",
       "      <td>17194.374</td>\n",
       "      <td>0.592</td>\n",
       "      <td>1.183</td>\n",
       "      <td>18689.154</td>\n",
       "    </tr>\n",
       "  </tbody>\n",
       "</table>\n",
       "<p>19945 rows × 7 columns</p>\n",
       "</div>"
      ],
      "text/plain": [
       "                                      recency_cltv_weekly  t_weekly  frequency  monetary_cltv_avg  expected_purc_3_month  expected_purc_6_month  exp_average_value\n",
       "master_id                                                                                                                                                         \n",
       "00016786-2f5a-11ea-bb80-000d3a38a36f               78.571    80.000      5.000          29807.609                  0.666                  1.331          31844.828\n",
       "00034aaa-a838-11e9-a2fc-000d3a38a36f              247.571   290.143      3.000           5968.538                  0.218                  0.437           6681.642\n",
       "000be838-85df-11ea-a90b-000d3a38a36f               28.286    58.714      4.000          32637.767                  0.682                  1.364          35474.465\n",
       "000c1fe2-a8b7-11ea-8479-000d3a38a36f               47.429    51.286      7.000          26026.033                  1.004                  2.008          27272.301\n",
       "000f5e3e-9dde-11ea-80cd-000d3a38a36f               43.286    46.143      7.000          56582.656                  1.046                  2.092          59291.677\n",
       "...                                                   ...       ...        ...                ...                    ...                    ...                ...\n",
       "fff1db94-afd9-11ea-b736-000d3a38a36f               85.429   111.571      5.000          28940.929                  0.554                  1.107          30918.929\n",
       "fff4736a-60a4-11ea-8dd8-000d3a38a36f               46.714    56.286      2.000          12673.166                  0.513                  1.026          15086.726\n",
       "fffacd34-ae14-11e9-a2fc-000d3a38a36f              100.571   137.286      6.000           9236.320                  0.543                  1.086           9756.768\n",
       "fffacecc-ddc3-11e9-a848-000d3a38a36f               69.714    88.571      9.000          47024.262                  0.922                  1.845          48756.964\n",
       "fffe4b30-18e0-11ea-9213-000d3a38a36f               33.429    79.286      4.000          17194.374                  0.592                  1.183          18689.154\n",
       "\n",
       "[19945 rows x 7 columns]"
      ]
     },
     "execution_count": 18,
     "metadata": {},
     "output_type": "execute_result"
    }
   ],
   "source": [
    "cltv_df['exp_average_value'] = ggf.conditional_expected_average_profit(cltv_df['frequency'], cltv_df['monetary_cltv_avg'])\n",
    "cltv_df"
   ]
  },
  {
   "cell_type": "markdown",
   "id": "75332b11",
   "metadata": {
    "papermill": {
     "duration": 0.014542,
     "end_time": "2022-11-23T21:12:33.742965",
     "exception": false,
     "start_time": "2022-11-23T21:12:33.728423",
     "status": "completed"
    },
    "tags": []
   },
   "source": [
    "### Let's show the relationship between the monetary_cltv_avg and exp_average_value"
   ]
  },
  {
   "cell_type": "code",
   "execution_count": 19,
   "id": "30d520b3",
   "metadata": {
    "execution": {
     "iopub.execute_input": "2022-11-23T21:12:33.771225Z",
     "iopub.status.busy": "2022-11-23T21:12:33.770597Z",
     "iopub.status.idle": "2022-11-23T21:12:33.962575Z",
     "shell.execute_reply": "2022-11-23T21:12:33.960979Z"
    },
    "papermill": {
     "duration": 0.208915,
     "end_time": "2022-11-23T21:12:33.965340",
     "exception": false,
     "start_time": "2022-11-23T21:12:33.756425",
     "status": "completed"
    },
    "tags": []
   },
   "outputs": [
    {
     "data": {
      "image/png": "[encoded data removed]",
      "text/plain": [
       "<Figure size 432x288 with 1 Axes>"
      ]
     },
     "metadata": {
      "needs_background": "light"
     },
     "output_type": "display_data"
    }
   ],
   "source": [
    "sns.scatterplot(x = cltv_df['monetary_cltv_avg'], y=cltv_df['exp_average_value'])\n",
    "plt.show(block=True)"
   ]
  },
  {
   "cell_type": "markdown",
   "id": "be0a1efa",
   "metadata": {
    "papermill": {
     "duration": 0.012084,
     "end_time": "2022-11-23T21:12:33.990193",
     "exception": false,
     "start_time": "2022-11-23T21:12:33.978109",
     "status": "completed"
    },
    "tags": []
   },
   "source": [
    "#### As you see, there is a high correlation between them."
   ]
  },
  {
   "cell_type": "markdown",
   "id": "0f57e1b0",
   "metadata": {
    "papermill": {
     "duration": 0.012024,
     "end_time": "2022-11-23T21:12:34.014655",
     "exception": false,
     "start_time": "2022-11-23T21:12:34.002631",
     "status": "completed"
    },
    "tags": []
   },
   "source": [
    "### Let's calculate 6 months CLTV and add it to the dataframe with the name cltv"
   ]
  },
  {
   "cell_type": "code",
   "execution_count": 20,
   "id": "eade0c38",
   "metadata": {
    "execution": {
     "iopub.execute_input": "2022-11-23T21:12:34.041026Z",
     "iopub.status.busy": "2022-11-23T21:12:34.040471Z",
     "iopub.status.idle": "2022-11-23T21:12:34.173893Z",
     "shell.execute_reply": "2022-11-23T21:12:34.172591Z"
    },
    "papermill": {
     "duration": 0.148962,
     "end_time": "2022-11-23T21:12:34.175968",
     "exception": false,
     "start_time": "2022-11-23T21:12:34.027006",
     "status": "completed"
    },
    "tags": []
   },
   "outputs": [
    {
     "data": {
      "text/html": [
       "<div>\n",
       "<style scoped>\n",
       "    .dataframe tbody tr th:only-of-type {\n",
       "        vertical-align: middle;\n",
       "    }\n",
       "\n",
       "    .dataframe tbody tr th {\n",
       "        vertical-align: top;\n",
       "    }\n",
       "\n",
       "    .dataframe thead th {\n",
       "        text-align: right;\n",
       "    }\n",
       "</style>\n",
       "<table border=\"1\" class=\"dataframe\">\n",
       "  <thead>\n",
       "    <tr style=\"text-align: right;\">\n",
       "      <th></th>\n",
       "      <th>recency_cltv_weekly</th>\n",
       "      <th>t_weekly</th>\n",
       "      <th>frequency</th>\n",
       "      <th>monetary_cltv_avg</th>\n",
       "      <th>expected_purc_3_month</th>\n",
       "      <th>expected_purc_6_month</th>\n",
       "      <th>exp_average_value</th>\n",
       "      <th>cltv</th>\n",
       "    </tr>\n",
       "    <tr>\n",
       "      <th>master_id</th>\n",
       "      <th></th>\n",
       "      <th></th>\n",
       "      <th></th>\n",
       "      <th></th>\n",
       "      <th></th>\n",
       "      <th></th>\n",
       "      <th></th>\n",
       "      <th></th>\n",
       "    </tr>\n",
       "  </thead>\n",
       "  <tbody>\n",
       "    <tr>\n",
       "      <th>00016786-2f5a-11ea-bb80-000d3a38a36f</th>\n",
       "      <td>78.571</td>\n",
       "      <td>80.000</td>\n",
       "      <td>5.000</td>\n",
       "      <td>29807.609</td>\n",
       "      <td>0.666</td>\n",
       "      <td>1.331</td>\n",
       "      <td>31844.828</td>\n",
       "      <td>44483.731</td>\n",
       "    </tr>\n",
       "    <tr>\n",
       "      <th>00034aaa-a838-11e9-a2fc-000d3a38a36f</th>\n",
       "      <td>247.571</td>\n",
       "      <td>290.143</td>\n",
       "      <td>3.000</td>\n",
       "      <td>5968.538</td>\n",
       "      <td>0.218</td>\n",
       "      <td>0.437</td>\n",
       "      <td>6681.642</td>\n",
       "      <td>3060.568</td>\n",
       "    </tr>\n",
       "    <tr>\n",
       "      <th>000be838-85df-11ea-a90b-000d3a38a36f</th>\n",
       "      <td>28.286</td>\n",
       "      <td>58.714</td>\n",
       "      <td>4.000</td>\n",
       "      <td>32637.767</td>\n",
       "      <td>0.682</td>\n",
       "      <td>1.364</td>\n",
       "      <td>35474.465</td>\n",
       "      <td>50751.210</td>\n",
       "    </tr>\n",
       "    <tr>\n",
       "      <th>000c1fe2-a8b7-11ea-8479-000d3a38a36f</th>\n",
       "      <td>47.429</td>\n",
       "      <td>51.286</td>\n",
       "      <td>7.000</td>\n",
       "      <td>26026.033</td>\n",
       "      <td>1.004</td>\n",
       "      <td>2.008</td>\n",
       "      <td>27272.301</td>\n",
       "      <td>57455.075</td>\n",
       "    </tr>\n",
       "    <tr>\n",
       "      <th>000f5e3e-9dde-11ea-80cd-000d3a38a36f</th>\n",
       "      <td>43.286</td>\n",
       "      <td>46.143</td>\n",
       "      <td>7.000</td>\n",
       "      <td>56582.656</td>\n",
       "      <td>1.046</td>\n",
       "      <td>2.092</td>\n",
       "      <td>59291.677</td>\n",
       "      <td>130162.900</td>\n",
       "    </tr>\n",
       "    <tr>\n",
       "      <th>...</th>\n",
       "      <td>...</td>\n",
       "      <td>...</td>\n",
       "      <td>...</td>\n",
       "      <td>...</td>\n",
       "      <td>...</td>\n",
       "      <td>...</td>\n",
       "      <td>...</td>\n",
       "      <td>...</td>\n",
       "    </tr>\n",
       "    <tr>\n",
       "      <th>fff1db94-afd9-11ea-b736-000d3a38a36f</th>\n",
       "      <td>85.429</td>\n",
       "      <td>111.571</td>\n",
       "      <td>5.000</td>\n",
       "      <td>28940.929</td>\n",
       "      <td>0.554</td>\n",
       "      <td>1.107</td>\n",
       "      <td>30918.929</td>\n",
       "      <td>35927.364</td>\n",
       "    </tr>\n",
       "    <tr>\n",
       "      <th>fff4736a-60a4-11ea-8dd8-000d3a38a36f</th>\n",
       "      <td>46.714</td>\n",
       "      <td>56.286</td>\n",
       "      <td>2.000</td>\n",
       "      <td>12673.166</td>\n",
       "      <td>0.513</td>\n",
       "      <td>1.026</td>\n",
       "      <td>15086.726</td>\n",
       "      <td>16243.196</td>\n",
       "    </tr>\n",
       "    <tr>\n",
       "      <th>fffacd34-ae14-11e9-a2fc-000d3a38a36f</th>\n",
       "      <td>100.571</td>\n",
       "      <td>137.286</td>\n",
       "      <td>6.000</td>\n",
       "      <td>9236.320</td>\n",
       "      <td>0.543</td>\n",
       "      <td>1.086</td>\n",
       "      <td>9756.768</td>\n",
       "      <td>11122.478</td>\n",
       "    </tr>\n",
       "    <tr>\n",
       "      <th>fffacecc-ddc3-11e9-a848-000d3a38a36f</th>\n",
       "      <td>69.714</td>\n",
       "      <td>88.571</td>\n",
       "      <td>9.000</td>\n",
       "      <td>47024.262</td>\n",
       "      <td>0.922</td>\n",
       "      <td>1.845</td>\n",
       "      <td>48756.964</td>\n",
       "      <td>94374.856</td>\n",
       "    </tr>\n",
       "    <tr>\n",
       "      <th>fffe4b30-18e0-11ea-9213-000d3a38a36f</th>\n",
       "      <td>33.429</td>\n",
       "      <td>79.286</td>\n",
       "      <td>4.000</td>\n",
       "      <td>17194.374</td>\n",
       "      <td>0.592</td>\n",
       "      <td>1.183</td>\n",
       "      <td>18689.154</td>\n",
       "      <td>23199.352</td>\n",
       "    </tr>\n",
       "  </tbody>\n",
       "</table>\n",
       "<p>19945 rows × 8 columns</p>\n",
       "</div>"
      ],
      "text/plain": [
       "                                      recency_cltv_weekly  t_weekly  frequency  monetary_cltv_avg  expected_purc_3_month  expected_purc_6_month  exp_average_value       cltv\n",
       "master_id                                                                                                                                                                    \n",
       "00016786-2f5a-11ea-bb80-000d3a38a36f               78.571    80.000      5.000          29807.609                  0.666                  1.331          31844.828  44483.731\n",
       "00034aaa-a838-11e9-a2fc-000d3a38a36f              247.571   290.143      3.000           5968.538                  0.218                  0.437           6681.642   3060.568\n",
       "000be838-85df-11ea-a90b-000d3a38a36f               28.286    58.714      4.000          32637.767                  0.682                  1.364          35474.465  50751.210\n",
       "000c1fe2-a8b7-11ea-8479-000d3a38a36f               47.429    51.286      7.000          26026.033                  1.004                  2.008          27272.301  57455.075\n",
       "000f5e3e-9dde-11ea-80cd-000d3a38a36f               43.286    46.143      7.000          56582.656                  1.046                  2.092          59291.677 130162.900\n",
       "...                                                   ...       ...        ...                ...                    ...                    ...                ...        ...\n",
       "fff1db94-afd9-11ea-b736-000d3a38a36f               85.429   111.571      5.000          28940.929                  0.554                  1.107          30918.929  35927.364\n",
       "fff4736a-60a4-11ea-8dd8-000d3a38a36f               46.714    56.286      2.000          12673.166                  0.513                  1.026          15086.726  16243.196\n",
       "fffacd34-ae14-11e9-a2fc-000d3a38a36f              100.571   137.286      6.000           9236.320                  0.543                  1.086           9756.768  11122.478\n",
       "fffacecc-ddc3-11e9-a848-000d3a38a36f               69.714    88.571      9.000          47024.262                  0.922                  1.845          48756.964  94374.856\n",
       "fffe4b30-18e0-11ea-9213-000d3a38a36f               33.429    79.286      4.000          17194.374                  0.592                  1.183          18689.154  23199.352\n",
       "\n",
       "[19945 rows x 8 columns]"
      ]
     },
     "execution_count": 20,
     "metadata": {},
     "output_type": "execute_result"
    }
   ],
   "source": [
    "cltv_df['cltv'] = ggf.customer_lifetime_value(bgf, cltv_df['frequency'], cltv_df['recency_cltv_weekly'], cltv_df['t_weekly'], cltv_df['monetary_cltv_avg'], time=6, freq = 'W', discount_rate=0.01)\n",
    "cltv_df"
   ]
  },
  {
   "cell_type": "markdown",
   "id": "41928a38",
   "metadata": {
    "papermill": {
     "duration": 0.012496,
     "end_time": "2022-11-23T21:12:34.201097",
     "exception": false,
     "start_time": "2022-11-23T21:12:34.188601",
     "status": "completed"
    },
    "tags": []
   },
   "source": [
    "### Let's observe the 20 people with the highest cltv value."
   ]
  },
  {
   "cell_type": "code",
   "execution_count": 21,
   "id": "dfa9d74e",
   "metadata": {
    "execution": {
     "iopub.execute_input": "2022-11-23T21:12:34.229144Z",
     "iopub.status.busy": "2022-11-23T21:12:34.228064Z",
     "iopub.status.idle": "2022-11-23T21:12:34.246909Z",
     "shell.execute_reply": "2022-11-23T21:12:34.246017Z"
    },
    "papermill": {
     "duration": 0.035035,
     "end_time": "2022-11-23T21:12:34.249026",
     "exception": false,
     "start_time": "2022-11-23T21:12:34.213991",
     "status": "completed"
    },
    "tags": []
   },
   "outputs": [
    {
     "data": {
      "text/html": [
       "<div>\n",
       "<style scoped>\n",
       "    .dataframe tbody tr th:only-of-type {\n",
       "        vertical-align: middle;\n",
       "    }\n",
       "\n",
       "    .dataframe tbody tr th {\n",
       "        vertical-align: top;\n",
       "    }\n",
       "\n",
       "    .dataframe thead th {\n",
       "        text-align: right;\n",
       "    }\n",
       "</style>\n",
       "<table border=\"1\" class=\"dataframe\">\n",
       "  <thead>\n",
       "    <tr style=\"text-align: right;\">\n",
       "      <th></th>\n",
       "      <th>recency_cltv_weekly</th>\n",
       "      <th>t_weekly</th>\n",
       "      <th>frequency</th>\n",
       "      <th>monetary_cltv_avg</th>\n",
       "      <th>expected_purc_3_month</th>\n",
       "      <th>expected_purc_6_month</th>\n",
       "      <th>exp_average_value</th>\n",
       "      <th>cltv</th>\n",
       "    </tr>\n",
       "    <tr>\n",
       "      <th>master_id</th>\n",
       "      <th></th>\n",
       "      <th></th>\n",
       "      <th></th>\n",
       "      <th></th>\n",
       "      <th></th>\n",
       "      <th></th>\n",
       "      <th></th>\n",
       "      <th></th>\n",
       "    </tr>\n",
       "  </thead>\n",
       "  <tbody>\n",
       "    <tr>\n",
       "      <th>47a642fe-975b-11eb-8c2a-000d3a38a36f</th>\n",
       "      <td>2.857</td>\n",
       "      <td>7.857</td>\n",
       "      <td>4.000</td>\n",
       "      <td>1953336.000</td>\n",
       "      <td>1.094</td>\n",
       "      <td>2.189</td>\n",
       "      <td>2123067.301</td>\n",
       "      <td>4875638.233</td>\n",
       "    </tr>\n",
       "    <tr>\n",
       "      <th>53fe00d4-7b7a-11eb-960b-000d3a38a36f</th>\n",
       "      <td>9.714</td>\n",
       "      <td>13.000</td>\n",
       "      <td>17.000</td>\n",
       "      <td>279081.006</td>\n",
       "      <td>2.781</td>\n",
       "      <td>5.561</td>\n",
       "      <td>284431.549</td>\n",
       "      <td>1659693.455</td>\n",
       "    </tr>\n",
       "    <tr>\n",
       "      <th>7137a5c0-7aad-11ea-8f20-000d3a38a36f</th>\n",
       "      <td>6.143</td>\n",
       "      <td>13.143</td>\n",
       "      <td>11.000</td>\n",
       "      <td>382157.455</td>\n",
       "      <td>1.970</td>\n",
       "      <td>3.940</td>\n",
       "      <td>393600.144</td>\n",
       "      <td>1627207.452</td>\n",
       "    </tr>\n",
       "    <tr>\n",
       "      <th>8fd88976-6708-11ea-9d38-000d3a38a36f</th>\n",
       "      <td>50.286</td>\n",
       "      <td>63.286</td>\n",
       "      <td>7.000</td>\n",
       "      <td>802678.218</td>\n",
       "      <td>0.918</td>\n",
       "      <td>1.835</td>\n",
       "      <td>841103.043</td>\n",
       "      <td>1619494.620</td>\n",
       "    </tr>\n",
       "    <tr>\n",
       "      <th>9ce6e520-89b0-11ea-a6e7-000d3a38a36f</th>\n",
       "      <td>3.429</td>\n",
       "      <td>34.429</td>\n",
       "      <td>8.000</td>\n",
       "      <td>579323.466</td>\n",
       "      <td>1.265</td>\n",
       "      <td>2.531</td>\n",
       "      <td>603445.301</td>\n",
       "      <td>1602443.117</td>\n",
       "    </tr>\n",
       "    <tr>\n",
       "      <th>7e10b500-5b0b-11ea-9b03-000d3a38a36f</th>\n",
       "      <td>52.714</td>\n",
       "      <td>66.000</td>\n",
       "      <td>10.000</td>\n",
       "      <td>503008.176</td>\n",
       "      <td>1.153</td>\n",
       "      <td>2.307</td>\n",
       "      <td>519625.212</td>\n",
       "      <td>1257512.294</td>\n",
       "    </tr>\n",
       "    <tr>\n",
       "      <th>a4d534a2-5b1b-11eb-8dbd-000d3a38a36f</th>\n",
       "      <td>62.714</td>\n",
       "      <td>67.286</td>\n",
       "      <td>52.000</td>\n",
       "      <td>126552.000</td>\n",
       "      <td>4.656</td>\n",
       "      <td>9.312</td>\n",
       "      <td>127335.122</td>\n",
       "      <td>1244147.144</td>\n",
       "    </tr>\n",
       "    <tr>\n",
       "      <th>e205f2ee-acdf-11e9-a2fc-000d3a38a36f</th>\n",
       "      <td>185.714</td>\n",
       "      <td>193.286</td>\n",
       "      <td>29.000</td>\n",
       "      <td>380969.876</td>\n",
       "      <td>1.455</td>\n",
       "      <td>2.909</td>\n",
       "      <td>385217.774</td>\n",
       "      <td>1175858.921</td>\n",
       "    </tr>\n",
       "    <tr>\n",
       "      <th>bdf7a804-b1dd-11e9-89fa-000d3a38a36f</th>\n",
       "      <td>90.571</td>\n",
       "      <td>97.429</td>\n",
       "      <td>18.000</td>\n",
       "      <td>342659.014</td>\n",
       "      <td>1.497</td>\n",
       "      <td>2.995</td>\n",
       "      <td>348856.870</td>\n",
       "      <td>1096226.895</td>\n",
       "    </tr>\n",
       "    <tr>\n",
       "      <th>4031bc1e-c52a-11ea-9dde-000d3a38a36f</th>\n",
       "      <td>38.714</td>\n",
       "      <td>46.429</td>\n",
       "      <td>7.000</td>\n",
       "      <td>403049.664</td>\n",
       "      <td>1.044</td>\n",
       "      <td>2.087</td>\n",
       "      <td>422344.158</td>\n",
       "      <td>925010.561</td>\n",
       "    </tr>\n",
       "    <tr>\n",
       "      <th>ea12f0ba-5b06-11ea-8952-000d3a38a36f</th>\n",
       "      <td>64.857</td>\n",
       "      <td>66.286</td>\n",
       "      <td>23.000</td>\n",
       "      <td>191608.783</td>\n",
       "      <td>2.246</td>\n",
       "      <td>4.492</td>\n",
       "      <td>194310.522</td>\n",
       "      <td>915805.914</td>\n",
       "    </tr>\n",
       "    <tr>\n",
       "      <th>2f1797c8-a0e6-11e9-a2fc-000d3a38a36f</th>\n",
       "      <td>112.857</td>\n",
       "      <td>119.714</td>\n",
       "      <td>22.000</td>\n",
       "      <td>251722.362</td>\n",
       "      <td>1.572</td>\n",
       "      <td>3.144</td>\n",
       "      <td>255435.395</td>\n",
       "      <td>842692.436</td>\n",
       "    </tr>\n",
       "    <tr>\n",
       "      <th>55d54d9e-8ac7-11ea-8ec0-000d3a38a36f</th>\n",
       "      <td>52.571</td>\n",
       "      <td>58.714</td>\n",
       "      <td>31.000</td>\n",
       "      <td>122810.773</td>\n",
       "      <td>3.084</td>\n",
       "      <td>6.168</td>\n",
       "      <td>124090.931</td>\n",
       "      <td>803010.041</td>\n",
       "    </tr>\n",
       "    <tr>\n",
       "      <th>f24f6988-acd9-11e9-a2fc-000d3a38a36f</th>\n",
       "      <td>172.857</td>\n",
       "      <td>194.714</td>\n",
       "      <td>57.000</td>\n",
       "      <td>133628.799</td>\n",
       "      <td>2.687</td>\n",
       "      <td>5.375</td>\n",
       "      <td>134382.765</td>\n",
       "      <td>757812.107</td>\n",
       "    </tr>\n",
       "    <tr>\n",
       "      <th>77e66e92-31fa-11eb-860c-000d3a38a36f</th>\n",
       "      <td>16.857</td>\n",
       "      <td>26.286</td>\n",
       "      <td>5.000</td>\n",
       "      <td>306561.686</td>\n",
       "      <td>1.015</td>\n",
       "      <td>2.029</td>\n",
       "      <td>327508.602</td>\n",
       "      <td>697337.478</td>\n",
       "    </tr>\n",
       "    <tr>\n",
       "      <th>851de3b4-8f0c-11eb-8cb8-000d3a38a36f</th>\n",
       "      <td>8.286</td>\n",
       "      <td>9.429</td>\n",
       "      <td>2.000</td>\n",
       "      <td>349602.598</td>\n",
       "      <td>0.794</td>\n",
       "      <td>1.588</td>\n",
       "      <td>416141.586</td>\n",
       "      <td>693294.174</td>\n",
       "    </tr>\n",
       "    <tr>\n",
       "      <th>67a4d436-2352-11ea-8523-000d3a38a36f</th>\n",
       "      <td>80.286</td>\n",
       "      <td>81.429</td>\n",
       "      <td>14.000</td>\n",
       "      <td>238729.651</td>\n",
       "      <td>1.345</td>\n",
       "      <td>2.690</td>\n",
       "      <td>244310.302</td>\n",
       "      <td>689502.484</td>\n",
       "    </tr>\n",
       "    <tr>\n",
       "      <th>2e14b63a-a889-11e9-a2fc-000d3a38a36f</th>\n",
       "      <td>105.571</td>\n",
       "      <td>127.571</td>\n",
       "      <td>25.000</td>\n",
       "      <td>177014.096</td>\n",
       "      <td>1.688</td>\n",
       "      <td>3.376</td>\n",
       "      <td>179307.790</td>\n",
       "      <td>635215.621</td>\n",
       "    </tr>\n",
       "    <tr>\n",
       "      <th>6083756a-66a3-11ea-82da-000d3a38a36f</th>\n",
       "      <td>156.143</td>\n",
       "      <td>157.286</td>\n",
       "      <td>49.000</td>\n",
       "      <td>108885.134</td>\n",
       "      <td>2.707</td>\n",
       "      <td>5.414</td>\n",
       "      <td>109600.462</td>\n",
       "      <td>622574.281</td>\n",
       "    </tr>\n",
       "    <tr>\n",
       "      <th>215e3162-565a-11ea-b9b9-000d3a38a36f</th>\n",
       "      <td>66.000</td>\n",
       "      <td>77.286</td>\n",
       "      <td>5.000</td>\n",
       "      <td>386038.528</td>\n",
       "      <td>0.677</td>\n",
       "      <td>1.355</td>\n",
       "      <td>412415.836</td>\n",
       "      <td>586289.439</td>\n",
       "    </tr>\n",
       "  </tbody>\n",
       "</table>\n",
       "</div>"
      ],
      "text/plain": [
       "                                      recency_cltv_weekly  t_weekly  frequency  monetary_cltv_avg  expected_purc_3_month  expected_purc_6_month  exp_average_value        cltv\n",
       "master_id                                                                                                                                                                     \n",
       "47a642fe-975b-11eb-8c2a-000d3a38a36f                2.857     7.857      4.000        1953336.000                  1.094                  2.189        2123067.301 4875638.233\n",
       "53fe00d4-7b7a-11eb-960b-000d3a38a36f                9.714    13.000     17.000         279081.006                  2.781                  5.561         284431.549 1659693.455\n",
       "7137a5c0-7aad-11ea-8f20-000d3a38a36f                6.143    13.143     11.000         382157.455                  1.970                  3.940         393600.144 1627207.452\n",
       "8fd88976-6708-11ea-9d38-000d3a38a36f               50.286    63.286      7.000         802678.218                  0.918                  1.835         841103.043 1619494.620\n",
       "9ce6e520-89b0-11ea-a6e7-000d3a38a36f                3.429    34.429      8.000         579323.466                  1.265                  2.531         603445.301 1602443.117\n",
       "7e10b500-5b0b-11ea-9b03-000d3a38a36f               52.714    66.000     10.000         503008.176                  1.153                  2.307         519625.212 1257512.294\n",
       "a4d534a2-5b1b-11eb-8dbd-000d3a38a36f               62.714    67.286     52.000         126552.000                  4.656                  9.312         127335.122 1244147.144\n",
       "e205f2ee-acdf-11e9-a2fc-000d3a38a36f              185.714   193.286     29.000         380969.876                  1.455                  2.909         385217.774 1175858.921\n",
       "bdf7a804-b1dd-11e9-89fa-000d3a38a36f               90.571    97.429     18.000         342659.014                  1.497                  2.995         348856.870 1096226.895\n",
       "4031bc1e-c52a-11ea-9dde-000d3a38a36f               38.714    46.429      7.000         403049.664                  1.044                  2.087         422344.158  925010.561\n",
       "ea12f0ba-5b06-11ea-8952-000d3a38a36f               64.857    66.286     23.000         191608.783                  2.246                  4.492         194310.522  915805.914\n",
       "2f1797c8-a0e6-11e9-a2fc-000d3a38a36f              112.857   119.714     22.000         251722.362                  1.572                  3.144         255435.395  842692.436\n",
       "55d54d9e-8ac7-11ea-8ec0-000d3a38a36f               52.571    58.714     31.000         122810.773                  3.084                  6.168         124090.931  803010.041\n",
       "f24f6988-acd9-11e9-a2fc-000d3a38a36f              172.857   194.714     57.000         133628.799                  2.687                  5.375         134382.765  757812.107\n",
       "77e66e92-31fa-11eb-860c-000d3a38a36f               16.857    26.286      5.000         306561.686                  1.015                  2.029         327508.602  697337.478\n",
       "851de3b4-8f0c-11eb-8cb8-000d3a38a36f                8.286     9.429      2.000         349602.598                  0.794                  1.588         416141.586  693294.174\n",
       "67a4d436-2352-11ea-8523-000d3a38a36f               80.286    81.429     14.000         238729.651                  1.345                  2.690         244310.302  689502.484\n",
       "2e14b63a-a889-11e9-a2fc-000d3a38a36f              105.571   127.571     25.000         177014.096                  1.688                  3.376         179307.790  635215.621\n",
       "6083756a-66a3-11ea-82da-000d3a38a36f              156.143   157.286     49.000         108885.134                  2.707                  5.414         109600.462  622574.281\n",
       "215e3162-565a-11ea-b9b9-000d3a38a36f               66.000    77.286      5.000         386038.528                  0.677                  1.355         412415.836  586289.439"
      ]
     },
     "execution_count": 21,
     "metadata": {},
     "output_type": "execute_result"
    }
   ],
   "source": [
    "cltv_df.sort_values('cltv', ascending=False).head(20)"
   ]
  },
  {
   "cell_type": "markdown",
   "id": "b4a098f9",
   "metadata": {
    "papermill": {
     "duration": 0.013352,
     "end_time": "2022-11-23T21:12:34.276394",
     "exception": false,
     "start_time": "2022-11-23T21:12:34.263042",
     "status": "completed"
    },
    "tags": []
   },
   "source": [
    "# Let's create segments by CLTV"
   ]
  },
  {
   "cell_type": "markdown",
   "id": "8018377c",
   "metadata": {
    "papermill": {
     "duration": 0.012839,
     "end_time": "2022-11-23T21:12:34.302902",
     "exception": false,
     "start_time": "2022-11-23T21:12:34.290063",
     "status": "completed"
    },
    "tags": []
   },
   "source": [
    "### Let's divide all customers into 4 groups (segments) according to 6-month CLTV and add the group names to the dataset."
   ]
  },
  {
   "cell_type": "code",
   "execution_count": 22,
   "id": "ea6962f1",
   "metadata": {
    "execution": {
     "iopub.execute_input": "2022-11-23T21:12:34.331256Z",
     "iopub.status.busy": "2022-11-23T21:12:34.330738Z",
     "iopub.status.idle": "2022-11-23T21:12:34.350737Z",
     "shell.execute_reply": "2022-11-23T21:12:34.349478Z"
    },
    "papermill": {
     "duration": 0.037211,
     "end_time": "2022-11-23T21:12:34.353338",
     "exception": false,
     "start_time": "2022-11-23T21:12:34.316127",
     "status": "completed"
    },
    "tags": []
   },
   "outputs": [
    {
     "data": {
      "text/html": [
       "<div>\n",
       "<style scoped>\n",
       "    .dataframe tbody tr th:only-of-type {\n",
       "        vertical-align: middle;\n",
       "    }\n",
       "\n",
       "    .dataframe tbody tr th {\n",
       "        vertical-align: top;\n",
       "    }\n",
       "\n",
       "    .dataframe thead th {\n",
       "        text-align: right;\n",
       "    }\n",
       "</style>\n",
       "<table border=\"1\" class=\"dataframe\">\n",
       "  <thead>\n",
       "    <tr style=\"text-align: right;\">\n",
       "      <th></th>\n",
       "      <th>recency_cltv_weekly</th>\n",
       "      <th>t_weekly</th>\n",
       "      <th>frequency</th>\n",
       "      <th>monetary_cltv_avg</th>\n",
       "      <th>expected_purc_3_month</th>\n",
       "      <th>expected_purc_6_month</th>\n",
       "      <th>exp_average_value</th>\n",
       "      <th>cltv</th>\n",
       "      <th>segment</th>\n",
       "    </tr>\n",
       "    <tr>\n",
       "      <th>master_id</th>\n",
       "      <th></th>\n",
       "      <th></th>\n",
       "      <th></th>\n",
       "      <th></th>\n",
       "      <th></th>\n",
       "      <th></th>\n",
       "      <th></th>\n",
       "      <th></th>\n",
       "      <th></th>\n",
       "    </tr>\n",
       "  </thead>\n",
       "  <tbody>\n",
       "    <tr>\n",
       "      <th>00016786-2f5a-11ea-bb80-000d3a38a36f</th>\n",
       "      <td>78.571</td>\n",
       "      <td>80.000</td>\n",
       "      <td>5.000</td>\n",
       "      <td>29807.609</td>\n",
       "      <td>0.666</td>\n",
       "      <td>1.331</td>\n",
       "      <td>31844.828</td>\n",
       "      <td>44483.731</td>\n",
       "      <td>A</td>\n",
       "    </tr>\n",
       "    <tr>\n",
       "      <th>00034aaa-a838-11e9-a2fc-000d3a38a36f</th>\n",
       "      <td>247.571</td>\n",
       "      <td>290.143</td>\n",
       "      <td>3.000</td>\n",
       "      <td>5968.538</td>\n",
       "      <td>0.218</td>\n",
       "      <td>0.437</td>\n",
       "      <td>6681.642</td>\n",
       "      <td>3060.568</td>\n",
       "      <td>D</td>\n",
       "    </tr>\n",
       "    <tr>\n",
       "      <th>000be838-85df-11ea-a90b-000d3a38a36f</th>\n",
       "      <td>28.286</td>\n",
       "      <td>58.714</td>\n",
       "      <td>4.000</td>\n",
       "      <td>32637.767</td>\n",
       "      <td>0.682</td>\n",
       "      <td>1.364</td>\n",
       "      <td>35474.465</td>\n",
       "      <td>50751.210</td>\n",
       "      <td>A</td>\n",
       "    </tr>\n",
       "    <tr>\n",
       "      <th>000c1fe2-a8b7-11ea-8479-000d3a38a36f</th>\n",
       "      <td>47.429</td>\n",
       "      <td>51.286</td>\n",
       "      <td>7.000</td>\n",
       "      <td>26026.033</td>\n",
       "      <td>1.004</td>\n",
       "      <td>2.008</td>\n",
       "      <td>27272.301</td>\n",
       "      <td>57455.075</td>\n",
       "      <td>A</td>\n",
       "    </tr>\n",
       "    <tr>\n",
       "      <th>000f5e3e-9dde-11ea-80cd-000d3a38a36f</th>\n",
       "      <td>43.286</td>\n",
       "      <td>46.143</td>\n",
       "      <td>7.000</td>\n",
       "      <td>56582.656</td>\n",
       "      <td>1.046</td>\n",
       "      <td>2.092</td>\n",
       "      <td>59291.677</td>\n",
       "      <td>130162.900</td>\n",
       "      <td>A</td>\n",
       "    </tr>\n",
       "    <tr>\n",
       "      <th>...</th>\n",
       "      <td>...</td>\n",
       "      <td>...</td>\n",
       "      <td>...</td>\n",
       "      <td>...</td>\n",
       "      <td>...</td>\n",
       "      <td>...</td>\n",
       "      <td>...</td>\n",
       "      <td>...</td>\n",
       "      <td>...</td>\n",
       "    </tr>\n",
       "    <tr>\n",
       "      <th>fff1db94-afd9-11ea-b736-000d3a38a36f</th>\n",
       "      <td>85.429</td>\n",
       "      <td>111.571</td>\n",
       "      <td>5.000</td>\n",
       "      <td>28940.929</td>\n",
       "      <td>0.554</td>\n",
       "      <td>1.107</td>\n",
       "      <td>30918.929</td>\n",
       "      <td>35927.364</td>\n",
       "      <td>A</td>\n",
       "    </tr>\n",
       "    <tr>\n",
       "      <th>fff4736a-60a4-11ea-8dd8-000d3a38a36f</th>\n",
       "      <td>46.714</td>\n",
       "      <td>56.286</td>\n",
       "      <td>2.000</td>\n",
       "      <td>12673.166</td>\n",
       "      <td>0.513</td>\n",
       "      <td>1.026</td>\n",
       "      <td>15086.726</td>\n",
       "      <td>16243.196</td>\n",
       "      <td>B</td>\n",
       "    </tr>\n",
       "    <tr>\n",
       "      <th>fffacd34-ae14-11e9-a2fc-000d3a38a36f</th>\n",
       "      <td>100.571</td>\n",
       "      <td>137.286</td>\n",
       "      <td>6.000</td>\n",
       "      <td>9236.320</td>\n",
       "      <td>0.543</td>\n",
       "      <td>1.086</td>\n",
       "      <td>9756.768</td>\n",
       "      <td>11122.478</td>\n",
       "      <td>C</td>\n",
       "    </tr>\n",
       "    <tr>\n",
       "      <th>fffacecc-ddc3-11e9-a848-000d3a38a36f</th>\n",
       "      <td>69.714</td>\n",
       "      <td>88.571</td>\n",
       "      <td>9.000</td>\n",
       "      <td>47024.262</td>\n",
       "      <td>0.922</td>\n",
       "      <td>1.845</td>\n",
       "      <td>48756.964</td>\n",
       "      <td>94374.856</td>\n",
       "      <td>A</td>\n",
       "    </tr>\n",
       "    <tr>\n",
       "      <th>fffe4b30-18e0-11ea-9213-000d3a38a36f</th>\n",
       "      <td>33.429</td>\n",
       "      <td>79.286</td>\n",
       "      <td>4.000</td>\n",
       "      <td>17194.374</td>\n",
       "      <td>0.592</td>\n",
       "      <td>1.183</td>\n",
       "      <td>18689.154</td>\n",
       "      <td>23199.352</td>\n",
       "      <td>B</td>\n",
       "    </tr>\n",
       "  </tbody>\n",
       "</table>\n",
       "<p>19945 rows × 9 columns</p>\n",
       "</div>"
      ],
      "text/plain": [
       "                                      recency_cltv_weekly  t_weekly  frequency  monetary_cltv_avg  expected_purc_3_month  expected_purc_6_month  exp_average_value       cltv segment\n",
       "master_id                                                                                                                                                                            \n",
       "00016786-2f5a-11ea-bb80-000d3a38a36f               78.571    80.000      5.000          29807.609                  0.666                  1.331          31844.828  44483.731       A\n",
       "00034aaa-a838-11e9-a2fc-000d3a38a36f              247.571   290.143      3.000           5968.538                  0.218                  0.437           6681.642   3060.568       D\n",
       "000be838-85df-11ea-a90b-000d3a38a36f               28.286    58.714      4.000          32637.767                  0.682                  1.364          35474.465  50751.210       A\n",
       "000c1fe2-a8b7-11ea-8479-000d3a38a36f               47.429    51.286      7.000          26026.033                  1.004                  2.008          27272.301  57455.075       A\n",
       "000f5e3e-9dde-11ea-80cd-000d3a38a36f               43.286    46.143      7.000          56582.656                  1.046                  2.092          59291.677 130162.900       A\n",
       "...                                                   ...       ...        ...                ...                    ...                    ...                ...        ...     ...\n",
       "fff1db94-afd9-11ea-b736-000d3a38a36f               85.429   111.571      5.000          28940.929                  0.554                  1.107          30918.929  35927.364       A\n",
       "fff4736a-60a4-11ea-8dd8-000d3a38a36f               46.714    56.286      2.000          12673.166                  0.513                  1.026          15086.726  16243.196       B\n",
       "fffacd34-ae14-11e9-a2fc-000d3a38a36f              100.571   137.286      6.000           9236.320                  0.543                  1.086           9756.768  11122.478       C\n",
       "fffacecc-ddc3-11e9-a848-000d3a38a36f               69.714    88.571      9.000          47024.262                  0.922                  1.845          48756.964  94374.856       A\n",
       "fffe4b30-18e0-11ea-9213-000d3a38a36f               33.429    79.286      4.000          17194.374                  0.592                  1.183          18689.154  23199.352       B\n",
       "\n",
       "[19945 rows x 9 columns]"
      ]
     },
     "execution_count": 22,
     "metadata": {},
     "output_type": "execute_result"
    }
   ],
   "source": [
    "cltv_df['segment'] = pd.qcut(cltv_df['cltv'], 4, labels=['D', 'C', 'B', 'A'])\n",
    "cltv_df"
   ]
  },
  {
   "cell_type": "markdown",
   "id": "56638fd0",
   "metadata": {
    "papermill": {
     "duration": 0.012972,
     "end_time": "2022-11-23T21:12:34.379891",
     "exception": false,
     "start_time": "2022-11-23T21:12:34.366919",
     "status": "completed"
    },
    "tags": []
   },
   "source": [
    "### Let's make short 6-month action suggestions to the management for 2 groups you will choose from among 4 groups."
   ]
  },
  {
   "cell_type": "code",
   "execution_count": 23,
   "id": "c5f0be37",
   "metadata": {
    "execution": {
     "iopub.execute_input": "2022-11-23T21:12:34.408516Z",
     "iopub.status.busy": "2022-11-23T21:12:34.407899Z",
     "iopub.status.idle": "2022-11-23T21:12:34.456937Z",
     "shell.execute_reply": "2022-11-23T21:12:34.454950Z"
    },
    "papermill": {
     "duration": 0.066506,
     "end_time": "2022-11-23T21:12:34.459907",
     "exception": false,
     "start_time": "2022-11-23T21:12:34.393401",
     "status": "completed"
    },
    "tags": []
   },
   "outputs": [
    {
     "name": "stdout",
     "output_type": "stream",
     "text": [
      "--------------------------------------------------\n",
      "        recency_cltv_weekly                 \n",
      "                       mean count        sum\n",
      "segment                                     \n",
      "D                   112.018  4987 558632.714\n",
      "C                    93.889  4986 468131.571\n",
      "B                    88.418  4986 440852.000\n",
      "A                    86.726  4986 432414.143\n",
      "--------------------------------------------------\n",
      "        t_weekly                 \n",
      "            mean count        sum\n",
      "segment                          \n",
      "D        134.808  4987 672286.857\n",
      "C        113.763  4986 567219.857\n",
      "B        107.122  4986 534111.429\n",
      "A        102.191  4986 509522.571\n",
      "--------------------------------------------------\n",
      "        frequency                \n",
      "             mean count       sum\n",
      "segment                          \n",
      "D           3.419  4987 17049.000\n",
      "C           4.211  4986 20998.000\n",
      "B           5.026  4986 25060.000\n",
      "A           7.257  4986 36182.000\n",
      "--------------------------------------------------\n",
      "        monetary_cltv_avg                    \n",
      "                     mean count           sum\n",
      "segment                                      \n",
      "D                4511.475  4987  22498727.960\n",
      "C               10172.337  4986  50719273.751\n",
      "B               18867.713  4986  94074414.901\n",
      "A               48979.722  4986 244212892.768\n",
      "--------------------------------------------------\n",
      "        expected_purc_3_month               \n",
      "                         mean count      sum\n",
      "segment                                     \n",
      "D                       0.442  4987 2203.747\n",
      "C                       0.526  4986 2621.883\n",
      "B                       0.591  4986 2945.073\n",
      "A                       0.750  4986 3739.768\n",
      "--------------------------------------------------\n",
      "        expected_purc_6_month               \n",
      "                         mean count      sum\n",
      "segment                                     \n",
      "D                       0.884  4987 4407.493\n",
      "C                       1.052  4986 5243.767\n",
      "B                       1.181  4986 5890.146\n",
      "A                       1.500  4986 7479.536\n",
      "--------------------------------------------------\n",
      "        exp_average_value                    \n",
      "                     mean count           sum\n",
      "segment                                      \n",
      "D                5095.319  4987  25410353.890\n",
      "C               11306.348  4986  56373452.937\n",
      "B               20737.368  4986 103396516.767\n",
      "A               52524.997  4986 261889637.300\n",
      "--------------------------------------------------\n",
      "             cltv                    \n",
      "             mean count           sum\n",
      "segment                              \n",
      "D        4406.167  4987  21973554.155\n",
      "C       11580.828  4986  57742009.560\n",
      "B       23772.403  4986 118529201.729\n",
      "A       83223.857  4986 414954150.169\n"
     ]
    }
   ],
   "source": [
    "def taking_action(dataframe, target, variable):\n",
    "    print(dataframe.groupby(target).agg({variable: ['mean', 'count', 'sum']}))\n",
    "\n",
    "num_cols = [col for col in cltv_df.columns if cltv_df[col].dtypes not in ['bool', 'category', 'object']]\n",
    "for col in num_cols:\n",
    "    print('--'*25)\n",
    "    taking_action(cltv_df, 'segment', col)"
   ]
  },
  {
   "cell_type": "markdown",
   "id": "4594c0a0",
   "metadata": {
    "papermill": {
     "duration": 0.014073,
     "end_time": "2022-11-23T21:12:34.489072",
     "exception": false,
     "start_time": "2022-11-23T21:12:34.474999",
     "status": "completed"
    },
    "tags": []
   },
   "source": [
    "# **Thank you for checking my notebook!**"
   ]
  }
 ],
 "metadata": {
  "kernelspec": {
   "display_name": "Python 3",
   "language": "python",
   "name": "python3"
  },
  "language_info": {
   "codemirror_mode": {
    "name": "ipython",
    "version": 3
   },
   "file_extension": ".py",
   "mimetype": "text/x-python",
   "name": "python",
   "nbconvert_exporter": "python",
   "pygments_lexer": "ipython3",
   "version": "3.7.12"
  },
  "papermill": {
   "default_parameters": {},
   "duration": 40.093959,
   "end_time": "2022-11-23T21:12:35.224203",
   "environment_variables": {},
   "exception": null,
   "input_path": "__notebook__.ipynb",
   "output_path": "__notebook__.ipynb",
   "parameters": {},
   "start_time": "2022-11-23T21:11:55.130244",
   "version": "2.3.4"
  }
 },
 "nbformat": 4,
 "nbformat_minor": 5
}
