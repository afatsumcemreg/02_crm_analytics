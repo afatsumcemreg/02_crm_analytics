{
 "cells": [
  {
   "cell_type": "markdown",
   "id": "e6bdfc05",
   "metadata": {
    "papermill": {
     "duration": 0.012647,
     "end_time": "2022-11-23T03:40:25.967765",
     "exception": false,
     "start_time": "2022-11-23T03:40:25.955118",
     "status": "completed"
    },
    "tags": []
   },
   "source": [
    "# **Recency (R), Frequency (F) and Monetary (M) Segmentation of Customers using Online Retail Dataset**"
   ]
  },
  {
   "cell_type": "markdown",
   "id": "293159cd",
   "metadata": {
    "papermill": {
     "duration": 0.013401,
     "end_time": "2022-11-23T03:40:25.992319",
     "exception": false,
     "start_time": "2022-11-23T03:40:25.978918",
     "status": "completed"
    },
    "tags": []
   },
   "source": [
    "# Business problem\n",
    "\n",
    "### An e-commerce company wants to divide its customers into groups and show marketing approaches specific to these groups. For this, it wants to divide the customers into groups by using various techniques and to exhibit various approaches specific to these groups.\n",
    "\n",
    "# Dataset story\n",
    "### The dataset named Online Retail includes online sales transactions of a UK-based retail company between 01/12/2009 and 09/12/2011. The company's product catalog includes souvenirs and it is known that most of its customers are wholesalers.¶\n",
    "* InvoiceNo: Invoice Number (If this code starts with C, it means that the transaction has been cancelled)\n",
    "* StockCode: Product code (unique for each product)\n",
    "* Description: Product name\n",
    "* Quantity: Number of products (How many of the products on the invoices were sold)\n",
    "* InvoiceDate: Invoice date\n",
    "* UnitPrice: Invoice price ( Sterling )\n",
    "* CustomerID: Unique customer number\n",
    "* Country: Country name"
   ]
  },
  {
   "cell_type": "markdown",
   "id": "cee055db",
   "metadata": {
    "papermill": {
     "duration": 0.012027,
     "end_time": "2022-11-23T03:40:26.016863",
     "exception": false,
     "start_time": "2022-11-23T03:40:26.004836",
     "status": "completed"
    },
    "tags": []
   },
   "source": [
    "# Importing the libraries"
   ]
  },
  {
   "cell_type": "code",
   "execution_count": 1,
   "id": "1e766d05",
   "metadata": {
    "_cell_guid": "b1076dfc-b9ad-4769-8c92-a6c4dae69d19",
    "_uuid": "8f2839f25d086af736a60e9eeb907d3b93b6e0e5",
    "execution": {
     "iopub.execute_input": "2022-11-23T03:40:26.041121Z",
     "iopub.status.busy": "2022-11-23T03:40:26.040599Z",
     "iopub.status.idle": "2022-11-23T03:40:27.415211Z",
     "shell.execute_reply": "2022-11-23T03:40:27.413372Z"
    },
    "papermill": {
     "duration": 1.391146,
     "end_time": "2022-11-23T03:40:27.419025",
     "exception": false,
     "start_time": "2022-11-23T03:40:26.027879",
     "status": "completed"
    },
    "tags": []
   },
   "outputs": [],
   "source": [
    "import datetime as dt\n",
    "import pandas as pd\n",
    "import matplotlib.pyplot as plt\n",
    "import seaborn as sns\n",
    "pd.set_option('display.max_columns', None)\n",
    "pd.set_option('display.width', 500)\n",
    "pd.set_option('display.float_format', lambda x: '%.3f' % x)"
   ]
  },
  {
   "cell_type": "markdown",
   "id": "0d66189b",
   "metadata": {
    "papermill": {
     "duration": 0.011238,
     "end_time": "2022-11-23T03:40:27.442183",
     "exception": false,
     "start_time": "2022-11-23T03:40:27.430945",
     "status": "completed"
    },
    "tags": []
   },
   "source": [
    "# Importing the dataset"
   ]
  },
  {
   "cell_type": "code",
   "execution_count": 2,
   "id": "93acdf09",
   "metadata": {
    "execution": {
     "iopub.execute_input": "2022-11-23T03:40:27.467931Z",
     "iopub.status.busy": "2022-11-23T03:40:27.466372Z",
     "iopub.status.idle": "2022-11-23T03:41:47.091217Z",
     "shell.execute_reply": "2022-11-23T03:41:47.089539Z"
    },
    "papermill": {
     "duration": 79.653168,
     "end_time": "2022-11-23T03:41:47.107038",
     "exception": false,
     "start_time": "2022-11-23T03:40:27.453870",
     "status": "completed"
    },
    "tags": []
   },
   "outputs": [
    {
     "data": {
      "text/html": [
       "<div>\n",
       "<style scoped>\n",
       "    .dataframe tbody tr th:only-of-type {\n",
       "        vertical-align: middle;\n",
       "    }\n",
       "\n",
       "    .dataframe tbody tr th {\n",
       "        vertical-align: top;\n",
       "    }\n",
       "\n",
       "    .dataframe thead th {\n",
       "        text-align: right;\n",
       "    }\n",
       "</style>\n",
       "<table border=\"1\" class=\"dataframe\">\n",
       "  <thead>\n",
       "    <tr style=\"text-align: right;\">\n",
       "      <th></th>\n",
       "      <th>invoice</th>\n",
       "      <th>stockcode</th>\n",
       "      <th>description</th>\n",
       "      <th>quantity</th>\n",
       "      <th>invoicedate</th>\n",
       "      <th>price</th>\n",
       "      <th>customer id</th>\n",
       "      <th>country</th>\n",
       "    </tr>\n",
       "  </thead>\n",
       "  <tbody>\n",
       "    <tr>\n",
       "      <th>0</th>\n",
       "      <td>536365</td>\n",
       "      <td>85123A</td>\n",
       "      <td>WHITE HANGING HEART T-LIGHT HOLDER</td>\n",
       "      <td>6</td>\n",
       "      <td>2010-12-01 08:26:00</td>\n",
       "      <td>2.550</td>\n",
       "      <td>17850.000</td>\n",
       "      <td>United Kingdom</td>\n",
       "    </tr>\n",
       "    <tr>\n",
       "      <th>1</th>\n",
       "      <td>536365</td>\n",
       "      <td>71053</td>\n",
       "      <td>WHITE METAL LANTERN</td>\n",
       "      <td>6</td>\n",
       "      <td>2010-12-01 08:26:00</td>\n",
       "      <td>3.390</td>\n",
       "      <td>17850.000</td>\n",
       "      <td>United Kingdom</td>\n",
       "    </tr>\n",
       "    <tr>\n",
       "      <th>2</th>\n",
       "      <td>536365</td>\n",
       "      <td>84406B</td>\n",
       "      <td>CREAM CUPID HEARTS COAT HANGER</td>\n",
       "      <td>8</td>\n",
       "      <td>2010-12-01 08:26:00</td>\n",
       "      <td>2.750</td>\n",
       "      <td>17850.000</td>\n",
       "      <td>United Kingdom</td>\n",
       "    </tr>\n",
       "    <tr>\n",
       "      <th>3</th>\n",
       "      <td>536365</td>\n",
       "      <td>84029G</td>\n",
       "      <td>KNITTED UNION FLAG HOT WATER BOTTLE</td>\n",
       "      <td>6</td>\n",
       "      <td>2010-12-01 08:26:00</td>\n",
       "      <td>3.390</td>\n",
       "      <td>17850.000</td>\n",
       "      <td>United Kingdom</td>\n",
       "    </tr>\n",
       "    <tr>\n",
       "      <th>4</th>\n",
       "      <td>536365</td>\n",
       "      <td>84029E</td>\n",
       "      <td>RED WOOLLY HOTTIE WHITE HEART.</td>\n",
       "      <td>6</td>\n",
       "      <td>2010-12-01 08:26:00</td>\n",
       "      <td>3.390</td>\n",
       "      <td>17850.000</td>\n",
       "      <td>United Kingdom</td>\n",
       "    </tr>\n",
       "    <tr>\n",
       "      <th>...</th>\n",
       "      <td>...</td>\n",
       "      <td>...</td>\n",
       "      <td>...</td>\n",
       "      <td>...</td>\n",
       "      <td>...</td>\n",
       "      <td>...</td>\n",
       "      <td>...</td>\n",
       "      <td>...</td>\n",
       "    </tr>\n",
       "    <tr>\n",
       "      <th>541905</th>\n",
       "      <td>581587</td>\n",
       "      <td>22899</td>\n",
       "      <td>CHILDREN'S APRON DOLLY GIRL</td>\n",
       "      <td>6</td>\n",
       "      <td>2011-12-09 12:50:00</td>\n",
       "      <td>2.100</td>\n",
       "      <td>12680.000</td>\n",
       "      <td>France</td>\n",
       "    </tr>\n",
       "    <tr>\n",
       "      <th>541906</th>\n",
       "      <td>581587</td>\n",
       "      <td>23254</td>\n",
       "      <td>CHILDRENS CUTLERY DOLLY GIRL</td>\n",
       "      <td>4</td>\n",
       "      <td>2011-12-09 12:50:00</td>\n",
       "      <td>4.150</td>\n",
       "      <td>12680.000</td>\n",
       "      <td>France</td>\n",
       "    </tr>\n",
       "    <tr>\n",
       "      <th>541907</th>\n",
       "      <td>581587</td>\n",
       "      <td>23255</td>\n",
       "      <td>CHILDRENS CUTLERY CIRCUS PARADE</td>\n",
       "      <td>4</td>\n",
       "      <td>2011-12-09 12:50:00</td>\n",
       "      <td>4.150</td>\n",
       "      <td>12680.000</td>\n",
       "      <td>France</td>\n",
       "    </tr>\n",
       "    <tr>\n",
       "      <th>541908</th>\n",
       "      <td>581587</td>\n",
       "      <td>22138</td>\n",
       "      <td>BAKING SET 9 PIECE RETROSPOT</td>\n",
       "      <td>3</td>\n",
       "      <td>2011-12-09 12:50:00</td>\n",
       "      <td>4.950</td>\n",
       "      <td>12680.000</td>\n",
       "      <td>France</td>\n",
       "    </tr>\n",
       "    <tr>\n",
       "      <th>541909</th>\n",
       "      <td>581587</td>\n",
       "      <td>POST</td>\n",
       "      <td>POSTAGE</td>\n",
       "      <td>1</td>\n",
       "      <td>2011-12-09 12:50:00</td>\n",
       "      <td>18.000</td>\n",
       "      <td>12680.000</td>\n",
       "      <td>France</td>\n",
       "    </tr>\n",
       "  </tbody>\n",
       "</table>\n",
       "<p>541910 rows × 8 columns</p>\n",
       "</div>"
      ],
      "text/plain": [
       "       invoice stockcode                          description  quantity         invoicedate  price  customer id         country\n",
       "0       536365    85123A   WHITE HANGING HEART T-LIGHT HOLDER         6 2010-12-01 08:26:00  2.550    17850.000  United Kingdom\n",
       "1       536365     71053                  WHITE METAL LANTERN         6 2010-12-01 08:26:00  3.390    17850.000  United Kingdom\n",
       "2       536365    84406B       CREAM CUPID HEARTS COAT HANGER         8 2010-12-01 08:26:00  2.750    17850.000  United Kingdom\n",
       "3       536365    84029G  KNITTED UNION FLAG HOT WATER BOTTLE         6 2010-12-01 08:26:00  3.390    17850.000  United Kingdom\n",
       "4       536365    84029E       RED WOOLLY HOTTIE WHITE HEART.         6 2010-12-01 08:26:00  3.390    17850.000  United Kingdom\n",
       "...        ...       ...                                  ...       ...                 ...    ...          ...             ...\n",
       "541905  581587     22899         CHILDREN'S APRON DOLLY GIRL          6 2011-12-09 12:50:00  2.100    12680.000          France\n",
       "541906  581587     23254        CHILDRENS CUTLERY DOLLY GIRL          4 2011-12-09 12:50:00  4.150    12680.000          France\n",
       "541907  581587     23255      CHILDRENS CUTLERY CIRCUS PARADE         4 2011-12-09 12:50:00  4.150    12680.000          France\n",
       "541908  581587     22138        BAKING SET 9 PIECE RETROSPOT          3 2011-12-09 12:50:00  4.950    12680.000          France\n",
       "541909  581587      POST                              POSTAGE         1 2011-12-09 12:50:00 18.000    12680.000          France\n",
       "\n",
       "[541910 rows x 8 columns]"
      ]
     },
     "execution_count": 2,
     "metadata": {},
     "output_type": "execute_result"
    }
   ],
   "source": [
    "df_ = pd.read_excel('/kaggle/input/online-retail-dataset/online_retail_II.xlsx', sheet_name='Year 2010-2011')\n",
    "df = df_.copy()\n",
    "df.columns = [col.lower() for col in df.columns]\n",
    "df"
   ]
  },
  {
   "cell_type": "markdown",
   "id": "18180e3f",
   "metadata": {
    "papermill": {
     "duration": 0.012132,
     "end_time": "2022-11-23T03:41:47.130586",
     "exception": false,
     "start_time": "2022-11-23T03:41:47.118454",
     "status": "completed"
    },
    "tags": []
   },
   "source": [
    "# Understanding the data"
   ]
  },
  {
   "cell_type": "markdown",
   "id": "7f0e09eb",
   "metadata": {
    "papermill": {
     "duration": 0.011118,
     "end_time": "2022-11-23T03:41:47.154034",
     "exception": false,
     "start_time": "2022-11-23T03:41:47.142916",
     "status": "completed"
    },
    "tags": []
   },
   "source": [
    "## Let's check dataframe"
   ]
  },
  {
   "cell_type": "code",
   "execution_count": 3,
   "id": "8018accd",
   "metadata": {
    "execution": {
     "iopub.execute_input": "2022-11-23T03:41:47.179755Z",
     "iopub.status.busy": "2022-11-23T03:41:47.179277Z",
     "iopub.status.idle": "2022-11-23T03:41:47.655565Z",
     "shell.execute_reply": "2022-11-23T03:41:47.653317Z"
    },
    "papermill": {
     "duration": 0.492732,
     "end_time": "2022-11-23T03:41:47.658697",
     "exception": false,
     "start_time": "2022-11-23T03:41:47.165965",
     "status": "completed"
    },
    "tags": []
   },
   "outputs": [
    {
     "name": "stdout",
     "output_type": "stream",
     "text": [
      "\n",
      " #################### HEAD ####################\n",
      "  invoice stockcode                          description  quantity         invoicedate  price  customer id         country\n",
      "0  536365    85123A   WHITE HANGING HEART T-LIGHT HOLDER         6 2010-12-01 08:26:00  2.550    17850.000  United Kingdom\n",
      "1  536365     71053                  WHITE METAL LANTERN         6 2010-12-01 08:26:00  3.390    17850.000  United Kingdom\n",
      "2  536365    84406B       CREAM CUPID HEARTS COAT HANGER         8 2010-12-01 08:26:00  2.750    17850.000  United Kingdom\n",
      "3  536365    84029G  KNITTED UNION FLAG HOT WATER BOTTLE         6 2010-12-01 08:26:00  3.390    17850.000  United Kingdom\n",
      "4  536365    84029E       RED WOOLLY HOTTIE WHITE HEART.         6 2010-12-01 08:26:00  3.390    17850.000  United Kingdom\n",
      "\n",
      " #################### TAIL ####################\n",
      "       invoice stockcode                      description  quantity         invoicedate  price  customer id country\n",
      "541905  581587     22899     CHILDREN'S APRON DOLLY GIRL          6 2011-12-09 12:50:00  2.100    12680.000  France\n",
      "541906  581587     23254    CHILDRENS CUTLERY DOLLY GIRL          4 2011-12-09 12:50:00  4.150    12680.000  France\n",
      "541907  581587     23255  CHILDRENS CUTLERY CIRCUS PARADE         4 2011-12-09 12:50:00  4.150    12680.000  France\n",
      "541908  581587     22138    BAKING SET 9 PIECE RETROSPOT          3 2011-12-09 12:50:00  4.950    12680.000  France\n",
      "541909  581587      POST                          POSTAGE         1 2011-12-09 12:50:00 18.000    12680.000  France\n",
      "\n",
      " #################### SHAPE ####################\n",
      "(541910, 8)\n",
      "\n",
      " #################### DTYPES ####################\n",
      "invoice                object\n",
      "stockcode              object\n",
      "description            object\n",
      "quantity                int64\n",
      "invoicedate    datetime64[ns]\n",
      "price                 float64\n",
      "customer id           float64\n",
      "country                object\n",
      "dtype: object\n",
      "\n",
      " #################### COLUMNS ####################\n",
      "Index(['invoice', 'stockcode', 'description', 'quantity', 'invoicedate', 'price', 'customer id', 'country'], dtype='object')\n",
      "\n",
      " #################### INFO ####################\n",
      "<class 'pandas.core.frame.DataFrame'>\n",
      "RangeIndex: 541910 entries, 0 to 541909\n",
      "Data columns (total 8 columns):\n",
      " #   Column       Non-Null Count   Dtype         \n",
      "---  ------       --------------   -----         \n",
      " 0   invoice      541910 non-null  object        \n",
      " 1   stockcode    541910 non-null  object        \n",
      " 2   description  540456 non-null  object        \n",
      " 3   quantity     541910 non-null  int64         \n",
      " 4   invoicedate  541910 non-null  datetime64[ns]\n",
      " 5   price        541910 non-null  float64       \n",
      " 6   customer id  406830 non-null  float64       \n",
      " 7   country      541910 non-null  object        \n",
      "dtypes: datetime64[ns](1), float64(2), int64(1), object(4)\n",
      "memory usage: 33.1+ MB\n",
      "None\n",
      "\n",
      " #################### ANY NULL VALUES ####################\n",
      "True\n",
      "\n",
      " #################### NULL VALUES ####################\n",
      "customer id    135080\n",
      "description      1454\n",
      "invoice             0\n",
      "stockcode           0\n",
      "quantity            0\n",
      "invoicedate         0\n",
      "price               0\n",
      "country             0\n",
      "dtype: int64\n",
      "\n",
      " #################### DESCRIPTIVE STATISTICS ####################\n",
      "                 count      mean      std        min        5%       10%       25%       50%       75%       90%       95%       99%       max\n",
      "quantity    541910.000     9.552  218.081 -80995.000     1.000     1.000     1.000     3.000    10.000    24.000    29.000   100.000 80995.000\n",
      "price       541910.000     4.611   96.760 -11062.060     0.420     0.630     1.250     2.080     4.130     7.950     9.950    18.000 38970.000\n",
      "customer id 406830.000 15287.684 1713.603  12346.000 12626.000 12876.000 13953.000 15152.000 16791.000 17719.000 17905.000 18212.000 18287.000\n"
     ]
    }
   ],
   "source": [
    "def check_dataframe(dataframe, head=5):\n",
    "    print('\\n', '#' * 20, 'head'.upper(), 20 * '#')\n",
    "    print(dataframe.head(head))\n",
    "    print('\\n', '#' * 20, 'tail'.upper(), 20 * '#')\n",
    "    print(dataframe.tail(head))\n",
    "    print('\\n', '#' * 20, 'shape'.upper(), 20 * '#')\n",
    "    print(dataframe.shape)\n",
    "    print('\\n', '#' * 20, 'dtypes'.upper(), 20 * '#')\n",
    "    print(dataframe.dtypes)\n",
    "    print('\\n', '#' * 20, 'columns'.upper(), 20 * '#')\n",
    "    print(dataframe.columns)\n",
    "    print('\\n', '#' * 20, 'info'.upper(), 20 * '#')\n",
    "    print(dataframe.info())\n",
    "    print('\\n', '#' * 20, 'any null values'.upper(), 20 * '#')\n",
    "    print(dataframe.isnull().values.any())\n",
    "    print('\\n', '#' * 20, 'null values'.upper(), 20 * '#')\n",
    "    print(dataframe.isnull().sum().sort_values(ascending=False))\n",
    "    print('\\n', '#' * 20, 'descriptive statistics'.upper(), 20 * '#')\n",
    "    print(dataframe.describe([0.05, 0.10, 0.25, 0.50, 0.75, 0.90, 0.95, 0.99]).T)\n",
    "\n",
    "\n",
    "check_dataframe(df)"
   ]
  },
  {
   "cell_type": "markdown",
   "id": "2e435dee",
   "metadata": {
    "papermill": {
     "duration": 0.011384,
     "end_time": "2022-11-23T03:41:47.681826",
     "exception": false,
     "start_time": "2022-11-23T03:41:47.670442",
     "status": "completed"
    },
    "tags": []
   },
   "source": [
    "## Let's grab the categorical, numerical, and cardinal variables"
   ]
  },
  {
   "cell_type": "code",
   "execution_count": 4,
   "id": "adf9eec8",
   "metadata": {
    "execution": {
     "iopub.execute_input": "2022-11-23T03:41:47.708317Z",
     "iopub.status.busy": "2022-11-23T03:41:47.707821Z",
     "iopub.status.idle": "2022-11-23T03:41:47.985210Z",
     "shell.execute_reply": "2022-11-23T03:41:47.983420Z"
    },
    "papermill": {
     "duration": 0.29453,
     "end_time": "2022-11-23T03:41:47.989066",
     "exception": false,
     "start_time": "2022-11-23T03:41:47.694536",
     "status": "completed"
    },
    "tags": []
   },
   "outputs": [
    {
     "name": "stdout",
     "output_type": "stream",
     "text": [
      "Observations: 541910\n",
      "Variables: 8\n",
      "cat_cols: 0\n",
      "num_cols: 4\n",
      "cat_but_car: 4\n",
      "num_but_cat: 0\n"
     ]
    }
   ],
   "source": [
    "def grab_col_names(dataframe, cat_th=10, car_th=20):\n",
    "    # categorical variables\n",
    "    cat_cols = [col for col in dataframe.columns if dataframe[col].dtypes == 'O']\n",
    "    num_but_cat = [col for col in dataframe.columns if\n",
    "                   dataframe[col].nunique() < cat_th and dataframe[col].dtypes != 'O']\n",
    "    cat_but_car = [col for col in dataframe.columns if\n",
    "                   dataframe[col].nunique() > car_th and dataframe[col].dtypes == 'O']\n",
    "    cat_cols = cat_cols + num_but_cat\n",
    "    cat_cols = [col for col in cat_cols if col not in cat_but_car]\n",
    "\n",
    "    # numerical variables\n",
    "    num_cols = [col for col in dataframe.columns if dataframe[col].dtypes != 'O']\n",
    "    num_cols = [col for col in num_cols if col not in num_but_cat]\n",
    "\n",
    "    # reporting section\n",
    "    print(f'Observations: {dataframe.shape[0]}')\n",
    "    print(f'Variables: {dataframe.shape[1]}')\n",
    "    print(f'cat_cols: {len(cat_cols)}')\n",
    "    print(f'num_cols: {len(num_cols)}')\n",
    "    print(f'cat_but_car: {len(cat_but_car)}')\n",
    "    print(f'num_but_cat: {len(num_but_cat)}')\n",
    "\n",
    "    # keeping the calculated values\n",
    "    return cat_cols, num_cols, cat_but_car\n",
    "\n",
    "cat_cols, num_cols, cat_but_car = grab_col_names(df)"
   ]
  },
  {
   "cell_type": "code",
   "execution_count": 5,
   "id": "68d3f446",
   "metadata": {
    "execution": {
     "iopub.execute_input": "2022-11-23T03:41:48.018302Z",
     "iopub.status.busy": "2022-11-23T03:41:48.017207Z",
     "iopub.status.idle": "2022-11-23T03:41:48.025688Z",
     "shell.execute_reply": "2022-11-23T03:41:48.024187Z"
    },
    "papermill": {
     "duration": 0.025982,
     "end_time": "2022-11-23T03:41:48.028149",
     "exception": false,
     "start_time": "2022-11-23T03:41:48.002167",
     "status": "completed"
    },
    "tags": []
   },
   "outputs": [
    {
     "data": {
      "text/plain": [
       "[]"
      ]
     },
     "execution_count": 5,
     "metadata": {},
     "output_type": "execute_result"
    }
   ],
   "source": [
    "cat_cols"
   ]
  },
  {
   "cell_type": "code",
   "execution_count": 6,
   "id": "e4fb3247",
   "metadata": {
    "execution": {
     "iopub.execute_input": "2022-11-23T03:41:48.053964Z",
     "iopub.status.busy": "2022-11-23T03:41:48.053529Z",
     "iopub.status.idle": "2022-11-23T03:41:48.061596Z",
     "shell.execute_reply": "2022-11-23T03:41:48.060412Z"
    },
    "papermill": {
     "duration": 0.024413,
     "end_time": "2022-11-23T03:41:48.064439",
     "exception": false,
     "start_time": "2022-11-23T03:41:48.040026",
     "status": "completed"
    },
    "tags": []
   },
   "outputs": [
    {
     "data": {
      "text/plain": [
       "['quantity', 'price']"
      ]
     },
     "execution_count": 6,
     "metadata": {},
     "output_type": "execute_result"
    }
   ],
   "source": [
    "num_cols\n",
    "num_cols = [col for col in num_cols if col not in ['invoicedate', 'customer id']]\n",
    "num_cols"
   ]
  },
  {
   "cell_type": "code",
   "execution_count": 7,
   "id": "d6f0d821",
   "metadata": {
    "execution": {
     "iopub.execute_input": "2022-11-23T03:41:48.091014Z",
     "iopub.status.busy": "2022-11-23T03:41:48.090537Z",
     "iopub.status.idle": "2022-11-23T03:41:48.098206Z",
     "shell.execute_reply": "2022-11-23T03:41:48.096885Z"
    },
    "papermill": {
     "duration": 0.024352,
     "end_time": "2022-11-23T03:41:48.101099",
     "exception": false,
     "start_time": "2022-11-23T03:41:48.076747",
     "status": "completed"
    },
    "tags": []
   },
   "outputs": [
    {
     "data": {
      "text/plain": [
       "['invoice', 'stockcode', 'description', 'country']"
      ]
     },
     "execution_count": 7,
     "metadata": {},
     "output_type": "execute_result"
    }
   ],
   "source": [
    "cat_but_car"
   ]
  },
  {
   "cell_type": "markdown",
   "id": "b2957e13",
   "metadata": {
    "papermill": {
     "duration": 0.01227,
     "end_time": "2022-11-23T03:41:48.125368",
     "exception": false,
     "start_time": "2022-11-23T03:41:48.113098",
     "status": "completed"
    },
    "tags": []
   },
   "source": [
    "## Let's examine the cardinal variables"
   ]
  },
  {
   "cell_type": "code",
   "execution_count": 8,
   "id": "41008dc7",
   "metadata": {
    "execution": {
     "iopub.execute_input": "2022-11-23T03:41:48.151446Z",
     "iopub.status.busy": "2022-11-23T03:41:48.150972Z",
     "iopub.status.idle": "2022-11-23T03:41:48.185236Z",
     "shell.execute_reply": "2022-11-23T03:41:48.184000Z"
    },
    "papermill": {
     "duration": 0.050608,
     "end_time": "2022-11-23T03:41:48.188058",
     "exception": false,
     "start_time": "2022-11-23T03:41:48.137450",
     "status": "completed"
    },
    "tags": []
   },
   "outputs": [
    {
     "data": {
      "text/plain": [
       "United Kingdom          495478\n",
       "Germany                   9495\n",
       "France                    8558\n",
       "EIRE                      8196\n",
       "Spain                     2533\n",
       "Netherlands               2371\n",
       "Belgium                   2069\n",
       "Switzerland               2002\n",
       "Portugal                  1519\n",
       "Australia                 1259\n",
       "Norway                    1086\n",
       "Italy                      803\n",
       "Channel Islands            758\n",
       "Finland                    695\n",
       "Cyprus                     622\n",
       "Sweden                     462\n",
       "Unspecified                446\n",
       "Austria                    401\n",
       "Denmark                    389\n",
       "Japan                      358\n",
       "Poland                     341\n",
       "Israel                     297\n",
       "USA                        291\n",
       "Hong Kong                  288\n",
       "Singapore                  229\n",
       "Iceland                    182\n",
       "Canada                     151\n",
       "Greece                     146\n",
       "Malta                      127\n",
       "United Arab Emirates        68\n",
       "European Community          61\n",
       "RSA                         58\n",
       "Lebanon                     45\n",
       "Lithuania                   35\n",
       "Brazil                      32\n",
       "Czech Republic              30\n",
       "Bahrain                     19\n",
       "Saudi Arabia                10\n",
       "Name: country, dtype: int64"
      ]
     },
     "execution_count": 8,
     "metadata": {},
     "output_type": "execute_result"
    }
   ],
   "source": [
    "# Let's examine the frequence of the variable country\n",
    "df['country'].value_counts()"
   ]
  },
  {
   "cell_type": "code",
   "execution_count": 9,
   "id": "6e888b3f",
   "metadata": {
    "execution": {
     "iopub.execute_input": "2022-11-23T03:41:48.214294Z",
     "iopub.status.busy": "2022-11-23T03:41:48.213850Z",
     "iopub.status.idle": "2022-11-23T03:41:48.253386Z",
     "shell.execute_reply": "2022-11-23T03:41:48.251877Z"
    },
    "papermill": {
     "duration": 0.056094,
     "end_time": "2022-11-23T03:41:48.256276",
     "exception": false,
     "start_time": "2022-11-23T03:41:48.200182",
     "status": "completed"
    },
    "tags": []
   },
   "outputs": [
    {
     "data": {
      "text/plain": [
       "85123A    2313\n",
       "22423     2203\n",
       "85099B    2159\n",
       "47566     1727\n",
       "20725     1639\n",
       "          ... \n",
       "20738        1\n",
       "62095B       1\n",
       "72814        1\n",
       "84967B       1\n",
       "84546        1\n",
       "Name: stockcode, Length: 4070, dtype: int64"
      ]
     },
     "execution_count": 9,
     "metadata": {},
     "output_type": "execute_result"
    }
   ],
   "source": [
    "# Let's examine the frequence of the variable stockcode\n",
    "df['stockcode'].value_counts()"
   ]
  },
  {
   "cell_type": "code",
   "execution_count": 10,
   "id": "ba1c8b52",
   "metadata": {
    "execution": {
     "iopub.execute_input": "2022-11-23T03:41:48.283155Z",
     "iopub.status.busy": "2022-11-23T03:41:48.282717Z",
     "iopub.status.idle": "2022-11-23T03:41:48.324253Z",
     "shell.execute_reply": "2022-11-23T03:41:48.322726Z"
    },
    "papermill": {
     "duration": 0.058084,
     "end_time": "2022-11-23T03:41:48.326933",
     "exception": false,
     "start_time": "2022-11-23T03:41:48.268849",
     "status": "completed"
    },
    "tags": []
   },
   "outputs": [
    {
     "data": {
      "text/plain": [
       "WHITE HANGING HEART T-LIGHT HOLDER     2369\n",
       "REGENCY CAKESTAND 3 TIER               2200\n",
       "JUMBO BAG RED RETROSPOT                2159\n",
       "PARTY BUNTING                          1727\n",
       "LUNCH BAG RED RETROSPOT                1638\n",
       "                                       ... \n",
       "Missing                                   1\n",
       "historic computer difference?....se       1\n",
       "DUSTY PINK CHRISTMAS TREE 30CM            1\n",
       "WRAP BLUE RUSSIAN FOLKART                 1\n",
       "PINK BERTIE MOBILE PHONE CHARM            1\n",
       "Name: description, Length: 4223, dtype: int64"
      ]
     },
     "execution_count": 10,
     "metadata": {},
     "output_type": "execute_result"
    }
   ],
   "source": [
    "# Let's examine the frequence of the variable description\n",
    "df['description'].value_counts()"
   ]
  },
  {
   "cell_type": "code",
   "execution_count": 11,
   "id": "fb498e3d",
   "metadata": {
    "execution": {
     "iopub.execute_input": "2022-11-23T03:41:48.354046Z",
     "iopub.status.busy": "2022-11-23T03:41:48.353578Z",
     "iopub.status.idle": "2022-11-23T03:41:48.510952Z",
     "shell.execute_reply": "2022-11-23T03:41:48.509622Z"
    },
    "papermill": {
     "duration": 0.174167,
     "end_time": "2022-11-23T03:41:48.513539",
     "exception": false,
     "start_time": "2022-11-23T03:41:48.339372",
     "status": "completed"
    },
    "tags": []
   },
   "outputs": [
    {
     "data": {
      "text/html": [
       "<div>\n",
       "<style scoped>\n",
       "    .dataframe tbody tr th:only-of-type {\n",
       "        vertical-align: middle;\n",
       "    }\n",
       "\n",
       "    .dataframe tbody tr th {\n",
       "        vertical-align: top;\n",
       "    }\n",
       "\n",
       "    .dataframe thead th {\n",
       "        text-align: right;\n",
       "    }\n",
       "</style>\n",
       "<table border=\"1\" class=\"dataframe\">\n",
       "  <thead>\n",
       "    <tr style=\"text-align: right;\">\n",
       "      <th></th>\n",
       "      <th>quantity</th>\n",
       "      <th>price</th>\n",
       "      <th>invoicedate</th>\n",
       "      <th>stockcode</th>\n",
       "      <th>country</th>\n",
       "    </tr>\n",
       "    <tr>\n",
       "      <th>description</th>\n",
       "      <th></th>\n",
       "      <th></th>\n",
       "      <th></th>\n",
       "      <th></th>\n",
       "      <th></th>\n",
       "    </tr>\n",
       "  </thead>\n",
       "  <tbody>\n",
       "    <tr>\n",
       "      <th>WORLD WAR 2 GLIDERS ASSTD DESIGNS</th>\n",
       "      <td>53847</td>\n",
       "      <td>173.390</td>\n",
       "      <td>542</td>\n",
       "      <td>542</td>\n",
       "      <td>542</td>\n",
       "    </tr>\n",
       "    <tr>\n",
       "      <th>JUMBO BAG RED RETROSPOT</th>\n",
       "      <td>47363</td>\n",
       "      <td>5333.300</td>\n",
       "      <td>2159</td>\n",
       "      <td>2159</td>\n",
       "      <td>2159</td>\n",
       "    </tr>\n",
       "    <tr>\n",
       "      <th>ASSORTED COLOUR BIRD ORNAMENT</th>\n",
       "      <td>36381</td>\n",
       "      <td>2584.770</td>\n",
       "      <td>1501</td>\n",
       "      <td>1501</td>\n",
       "      <td>1501</td>\n",
       "    </tr>\n",
       "    <tr>\n",
       "      <th>POPCORN HOLDER</th>\n",
       "      <td>36334</td>\n",
       "      <td>874.500</td>\n",
       "      <td>865</td>\n",
       "      <td>865</td>\n",
       "      <td>865</td>\n",
       "    </tr>\n",
       "    <tr>\n",
       "      <th>PACK OF 72 RETROSPOT CAKE CASES</th>\n",
       "      <td>36039</td>\n",
       "      <td>1047.040</td>\n",
       "      <td>1385</td>\n",
       "      <td>1385</td>\n",
       "      <td>1385</td>\n",
       "    </tr>\n",
       "    <tr>\n",
       "      <th>...</th>\n",
       "      <td>...</td>\n",
       "      <td>...</td>\n",
       "      <td>...</td>\n",
       "      <td>...</td>\n",
       "      <td>...</td>\n",
       "    </tr>\n",
       "    <tr>\n",
       "      <th>Damaged</th>\n",
       "      <td>-7540</td>\n",
       "      <td>0.000</td>\n",
       "      <td>14</td>\n",
       "      <td>14</td>\n",
       "      <td>14</td>\n",
       "    </tr>\n",
       "    <tr>\n",
       "      <th>Printing smudges/thrown away</th>\n",
       "      <td>-9058</td>\n",
       "      <td>0.000</td>\n",
       "      <td>1</td>\n",
       "      <td>1</td>\n",
       "      <td>1</td>\n",
       "    </tr>\n",
       "    <tr>\n",
       "      <th>check</th>\n",
       "      <td>-12030</td>\n",
       "      <td>0.000</td>\n",
       "      <td>159</td>\n",
       "      <td>159</td>\n",
       "      <td>159</td>\n",
       "    </tr>\n",
       "    <tr>\n",
       "      <th>Unsaleable, destroyed.</th>\n",
       "      <td>-15644</td>\n",
       "      <td>0.000</td>\n",
       "      <td>9</td>\n",
       "      <td>9</td>\n",
       "      <td>9</td>\n",
       "    </tr>\n",
       "    <tr>\n",
       "      <th>printing smudges/thrown away</th>\n",
       "      <td>-19200</td>\n",
       "      <td>0.000</td>\n",
       "      <td>2</td>\n",
       "      <td>2</td>\n",
       "      <td>2</td>\n",
       "    </tr>\n",
       "  </tbody>\n",
       "</table>\n",
       "<p>4223 rows × 5 columns</p>\n",
       "</div>"
      ],
      "text/plain": [
       "                                   quantity    price  invoicedate  stockcode  country\n",
       "description                                                                          \n",
       "WORLD WAR 2 GLIDERS ASSTD DESIGNS     53847  173.390          542        542      542\n",
       "JUMBO BAG RED RETROSPOT               47363 5333.300         2159       2159     2159\n",
       "ASSORTED COLOUR BIRD ORNAMENT         36381 2584.770         1501       1501     1501\n",
       "POPCORN HOLDER                        36334  874.500          865        865      865\n",
       "PACK OF 72 RETROSPOT CAKE CASES       36039 1047.040         1385       1385     1385\n",
       "...                                     ...      ...          ...        ...      ...\n",
       "Damaged                               -7540    0.000           14         14       14\n",
       "Printing smudges/thrown away          -9058    0.000            1          1        1\n",
       "check                                -12030    0.000          159        159      159\n",
       "Unsaleable, destroyed.               -15644    0.000            9          9        9\n",
       "printing smudges/thrown away         -19200    0.000            2          2        2\n",
       "\n",
       "[4223 rows x 5 columns]"
      ]
     },
     "execution_count": 11,
     "metadata": {},
     "output_type": "execute_result"
    }
   ],
   "source": [
    "# Let's get the total number of products sold, the total price of the products sold, the stock codes of the invoices and the number of countries in the description breakdown.\n",
    "df.groupby('description').agg(\n",
    "    {'quantity': 'sum',\n",
    "    'price': 'sum',\n",
    "    'invoicedate': 'count',\n",
    "    'stockcode': 'count',\n",
    "    'country': 'count'\n",
    "    }).sort_values('quantity', ascending=False)"
   ]
  },
  {
   "cell_type": "markdown",
   "id": "5a185df7",
   "metadata": {
    "papermill": {
     "duration": 0.012035,
     "end_time": "2022-11-23T03:41:48.538208",
     "exception": false,
     "start_time": "2022-11-23T03:41:48.526173",
     "status": "completed"
    },
    "tags": []
   },
   "source": [
    "## Let's calculate the total price"
   ]
  },
  {
   "cell_type": "code",
   "execution_count": 12,
   "id": "6ef13279",
   "metadata": {
    "execution": {
     "iopub.execute_input": "2022-11-23T03:41:48.565863Z",
     "iopub.status.busy": "2022-11-23T03:41:48.565130Z",
     "iopub.status.idle": "2022-11-23T03:41:48.591486Z",
     "shell.execute_reply": "2022-11-23T03:41:48.589848Z"
    },
    "papermill": {
     "duration": 0.043811,
     "end_time": "2022-11-23T03:41:48.594781",
     "exception": false,
     "start_time": "2022-11-23T03:41:48.550970",
     "status": "completed"
    },
    "tags": []
   },
   "outputs": [
    {
     "data": {
      "text/html": [
       "<div>\n",
       "<style scoped>\n",
       "    .dataframe tbody tr th:only-of-type {\n",
       "        vertical-align: middle;\n",
       "    }\n",
       "\n",
       "    .dataframe tbody tr th {\n",
       "        vertical-align: top;\n",
       "    }\n",
       "\n",
       "    .dataframe thead th {\n",
       "        text-align: right;\n",
       "    }\n",
       "</style>\n",
       "<table border=\"1\" class=\"dataframe\">\n",
       "  <thead>\n",
       "    <tr style=\"text-align: right;\">\n",
       "      <th></th>\n",
       "      <th>invoice</th>\n",
       "      <th>stockcode</th>\n",
       "      <th>description</th>\n",
       "      <th>quantity</th>\n",
       "      <th>invoicedate</th>\n",
       "      <th>price</th>\n",
       "      <th>customer id</th>\n",
       "      <th>country</th>\n",
       "      <th>total_price</th>\n",
       "    </tr>\n",
       "  </thead>\n",
       "  <tbody>\n",
       "    <tr>\n",
       "      <th>0</th>\n",
       "      <td>536365</td>\n",
       "      <td>85123A</td>\n",
       "      <td>WHITE HANGING HEART T-LIGHT HOLDER</td>\n",
       "      <td>6</td>\n",
       "      <td>2010-12-01 08:26:00</td>\n",
       "      <td>2.550</td>\n",
       "      <td>17850.000</td>\n",
       "      <td>United Kingdom</td>\n",
       "      <td>15.300</td>\n",
       "    </tr>\n",
       "    <tr>\n",
       "      <th>1</th>\n",
       "      <td>536365</td>\n",
       "      <td>71053</td>\n",
       "      <td>WHITE METAL LANTERN</td>\n",
       "      <td>6</td>\n",
       "      <td>2010-12-01 08:26:00</td>\n",
       "      <td>3.390</td>\n",
       "      <td>17850.000</td>\n",
       "      <td>United Kingdom</td>\n",
       "      <td>20.340</td>\n",
       "    </tr>\n",
       "    <tr>\n",
       "      <th>2</th>\n",
       "      <td>536365</td>\n",
       "      <td>84406B</td>\n",
       "      <td>CREAM CUPID HEARTS COAT HANGER</td>\n",
       "      <td>8</td>\n",
       "      <td>2010-12-01 08:26:00</td>\n",
       "      <td>2.750</td>\n",
       "      <td>17850.000</td>\n",
       "      <td>United Kingdom</td>\n",
       "      <td>22.000</td>\n",
       "    </tr>\n",
       "    <tr>\n",
       "      <th>3</th>\n",
       "      <td>536365</td>\n",
       "      <td>84029G</td>\n",
       "      <td>KNITTED UNION FLAG HOT WATER BOTTLE</td>\n",
       "      <td>6</td>\n",
       "      <td>2010-12-01 08:26:00</td>\n",
       "      <td>3.390</td>\n",
       "      <td>17850.000</td>\n",
       "      <td>United Kingdom</td>\n",
       "      <td>20.340</td>\n",
       "    </tr>\n",
       "    <tr>\n",
       "      <th>4</th>\n",
       "      <td>536365</td>\n",
       "      <td>84029E</td>\n",
       "      <td>RED WOOLLY HOTTIE WHITE HEART.</td>\n",
       "      <td>6</td>\n",
       "      <td>2010-12-01 08:26:00</td>\n",
       "      <td>3.390</td>\n",
       "      <td>17850.000</td>\n",
       "      <td>United Kingdom</td>\n",
       "      <td>20.340</td>\n",
       "    </tr>\n",
       "    <tr>\n",
       "      <th>...</th>\n",
       "      <td>...</td>\n",
       "      <td>...</td>\n",
       "      <td>...</td>\n",
       "      <td>...</td>\n",
       "      <td>...</td>\n",
       "      <td>...</td>\n",
       "      <td>...</td>\n",
       "      <td>...</td>\n",
       "      <td>...</td>\n",
       "    </tr>\n",
       "    <tr>\n",
       "      <th>541905</th>\n",
       "      <td>581587</td>\n",
       "      <td>22899</td>\n",
       "      <td>CHILDREN'S APRON DOLLY GIRL</td>\n",
       "      <td>6</td>\n",
       "      <td>2011-12-09 12:50:00</td>\n",
       "      <td>2.100</td>\n",
       "      <td>12680.000</td>\n",
       "      <td>France</td>\n",
       "      <td>12.600</td>\n",
       "    </tr>\n",
       "    <tr>\n",
       "      <th>541906</th>\n",
       "      <td>581587</td>\n",
       "      <td>23254</td>\n",
       "      <td>CHILDRENS CUTLERY DOLLY GIRL</td>\n",
       "      <td>4</td>\n",
       "      <td>2011-12-09 12:50:00</td>\n",
       "      <td>4.150</td>\n",
       "      <td>12680.000</td>\n",
       "      <td>France</td>\n",
       "      <td>16.600</td>\n",
       "    </tr>\n",
       "    <tr>\n",
       "      <th>541907</th>\n",
       "      <td>581587</td>\n",
       "      <td>23255</td>\n",
       "      <td>CHILDRENS CUTLERY CIRCUS PARADE</td>\n",
       "      <td>4</td>\n",
       "      <td>2011-12-09 12:50:00</td>\n",
       "      <td>4.150</td>\n",
       "      <td>12680.000</td>\n",
       "      <td>France</td>\n",
       "      <td>16.600</td>\n",
       "    </tr>\n",
       "    <tr>\n",
       "      <th>541908</th>\n",
       "      <td>581587</td>\n",
       "      <td>22138</td>\n",
       "      <td>BAKING SET 9 PIECE RETROSPOT</td>\n",
       "      <td>3</td>\n",
       "      <td>2011-12-09 12:50:00</td>\n",
       "      <td>4.950</td>\n",
       "      <td>12680.000</td>\n",
       "      <td>France</td>\n",
       "      <td>14.850</td>\n",
       "    </tr>\n",
       "    <tr>\n",
       "      <th>541909</th>\n",
       "      <td>581587</td>\n",
       "      <td>POST</td>\n",
       "      <td>POSTAGE</td>\n",
       "      <td>1</td>\n",
       "      <td>2011-12-09 12:50:00</td>\n",
       "      <td>18.000</td>\n",
       "      <td>12680.000</td>\n",
       "      <td>France</td>\n",
       "      <td>18.000</td>\n",
       "    </tr>\n",
       "  </tbody>\n",
       "</table>\n",
       "<p>541910 rows × 9 columns</p>\n",
       "</div>"
      ],
      "text/plain": [
       "       invoice stockcode                          description  quantity         invoicedate  price  customer id         country  total_price\n",
       "0       536365    85123A   WHITE HANGING HEART T-LIGHT HOLDER         6 2010-12-01 08:26:00  2.550    17850.000  United Kingdom       15.300\n",
       "1       536365     71053                  WHITE METAL LANTERN         6 2010-12-01 08:26:00  3.390    17850.000  United Kingdom       20.340\n",
       "2       536365    84406B       CREAM CUPID HEARTS COAT HANGER         8 2010-12-01 08:26:00  2.750    17850.000  United Kingdom       22.000\n",
       "3       536365    84029G  KNITTED UNION FLAG HOT WATER BOTTLE         6 2010-12-01 08:26:00  3.390    17850.000  United Kingdom       20.340\n",
       "4       536365    84029E       RED WOOLLY HOTTIE WHITE HEART.         6 2010-12-01 08:26:00  3.390    17850.000  United Kingdom       20.340\n",
       "...        ...       ...                                  ...       ...                 ...    ...          ...             ...          ...\n",
       "541905  581587     22899         CHILDREN'S APRON DOLLY GIRL          6 2011-12-09 12:50:00  2.100    12680.000          France       12.600\n",
       "541906  581587     23254        CHILDRENS CUTLERY DOLLY GIRL          4 2011-12-09 12:50:00  4.150    12680.000          France       16.600\n",
       "541907  581587     23255      CHILDRENS CUTLERY CIRCUS PARADE         4 2011-12-09 12:50:00  4.150    12680.000          France       16.600\n",
       "541908  581587     22138        BAKING SET 9 PIECE RETROSPOT          3 2011-12-09 12:50:00  4.950    12680.000          France       14.850\n",
       "541909  581587      POST                              POSTAGE         1 2011-12-09 12:50:00 18.000    12680.000          France       18.000\n",
       "\n",
       "[541910 rows x 9 columns]"
      ]
     },
     "execution_count": 12,
     "metadata": {},
     "output_type": "execute_result"
    }
   ],
   "source": [
    "df['total_price'] = df['price'] * df['quantity']\n",
    "df"
   ]
  },
  {
   "cell_type": "markdown",
   "id": "76759bf5",
   "metadata": {
    "papermill": {
     "duration": 0.012588,
     "end_time": "2022-11-23T03:41:48.620512",
     "exception": false,
     "start_time": "2022-11-23T03:41:48.607924",
     "status": "completed"
    },
    "tags": []
   },
   "source": [
    "## Let's examine the invoice varibale with total price"
   ]
  },
  {
   "cell_type": "code",
   "execution_count": 13,
   "id": "aafc101c",
   "metadata": {
    "execution": {
     "iopub.execute_input": "2022-11-23T03:41:48.648573Z",
     "iopub.status.busy": "2022-11-23T03:41:48.648084Z",
     "iopub.status.idle": "2022-11-23T03:41:48.761658Z",
     "shell.execute_reply": "2022-11-23T03:41:48.760186Z"
    },
    "papermill": {
     "duration": 0.131528,
     "end_time": "2022-11-23T03:41:48.764941",
     "exception": false,
     "start_time": "2022-11-23T03:41:48.633413",
     "status": "completed"
    },
    "tags": []
   },
   "outputs": [
    {
     "data": {
      "text/html": [
       "<div>\n",
       "<style scoped>\n",
       "    .dataframe tbody tr th:only-of-type {\n",
       "        vertical-align: middle;\n",
       "    }\n",
       "\n",
       "    .dataframe tbody tr th {\n",
       "        vertical-align: top;\n",
       "    }\n",
       "\n",
       "    .dataframe thead th {\n",
       "        text-align: right;\n",
       "    }\n",
       "</style>\n",
       "<table border=\"1\" class=\"dataframe\">\n",
       "  <thead>\n",
       "    <tr style=\"text-align: right;\">\n",
       "      <th></th>\n",
       "      <th>total_price</th>\n",
       "    </tr>\n",
       "    <tr>\n",
       "      <th>invoice</th>\n",
       "      <th></th>\n",
       "    </tr>\n",
       "  </thead>\n",
       "  <tbody>\n",
       "    <tr>\n",
       "      <th>581483</th>\n",
       "      <td>168469.600</td>\n",
       "    </tr>\n",
       "    <tr>\n",
       "      <th>541431</th>\n",
       "      <td>77183.600</td>\n",
       "    </tr>\n",
       "    <tr>\n",
       "      <th>574941</th>\n",
       "      <td>52940.940</td>\n",
       "    </tr>\n",
       "    <tr>\n",
       "      <th>576365</th>\n",
       "      <td>50653.910</td>\n",
       "    </tr>\n",
       "    <tr>\n",
       "      <th>556444</th>\n",
       "      <td>38970.000</td>\n",
       "    </tr>\n",
       "    <tr>\n",
       "      <th>...</th>\n",
       "      <td>...</td>\n",
       "    </tr>\n",
       "    <tr>\n",
       "      <th>C580605</th>\n",
       "      <td>-17836.460</td>\n",
       "    </tr>\n",
       "    <tr>\n",
       "      <th>C550456</th>\n",
       "      <td>-22998.400</td>\n",
       "    </tr>\n",
       "    <tr>\n",
       "      <th>C556445</th>\n",
       "      <td>-38970.000</td>\n",
       "    </tr>\n",
       "    <tr>\n",
       "      <th>C541433</th>\n",
       "      <td>-77183.600</td>\n",
       "    </tr>\n",
       "    <tr>\n",
       "      <th>C581484</th>\n",
       "      <td>-168469.600</td>\n",
       "    </tr>\n",
       "  </tbody>\n",
       "</table>\n",
       "<p>25900 rows × 1 columns</p>\n",
       "</div>"
      ],
      "text/plain": [
       "         total_price\n",
       "invoice             \n",
       "581483    168469.600\n",
       "541431     77183.600\n",
       "574941     52940.940\n",
       "576365     50653.910\n",
       "556444     38970.000\n",
       "...              ...\n",
       "C580605   -17836.460\n",
       "C550456   -22998.400\n",
       "C556445   -38970.000\n",
       "C541433   -77183.600\n",
       "C581484  -168469.600\n",
       "\n",
       "[25900 rows x 1 columns]"
      ]
     },
     "execution_count": 13,
     "metadata": {},
     "output_type": "execute_result"
    }
   ],
   "source": [
    "df.groupby('invoice').agg({'total_price': 'sum'}).sort_values('total_price', ascending=False)"
   ]
  },
  {
   "cell_type": "markdown",
   "id": "ff86392d",
   "metadata": {
    "papermill": {
     "duration": 0.012755,
     "end_time": "2022-11-23T03:41:48.791368",
     "exception": false,
     "start_time": "2022-11-23T03:41:48.778613",
     "status": "completed"
    },
    "tags": []
   },
   "source": [
    "# Data preparation"
   ]
  },
  {
   "cell_type": "code",
   "execution_count": 14,
   "id": "fcdac643",
   "metadata": {
    "execution": {
     "iopub.execute_input": "2022-11-23T03:41:48.819921Z",
     "iopub.status.busy": "2022-11-23T03:41:48.819494Z",
     "iopub.status.idle": "2022-11-23T03:41:48.937408Z",
     "shell.execute_reply": "2022-11-23T03:41:48.935864Z"
    },
    "papermill": {
     "duration": 0.135767,
     "end_time": "2022-11-23T03:41:48.940402",
     "exception": false,
     "start_time": "2022-11-23T03:41:48.804635",
     "status": "completed"
    },
    "tags": []
   },
   "outputs": [
    {
     "data": {
      "text/plain": [
       "customer id    135080\n",
       "description      1454\n",
       "invoice             0\n",
       "stockcode           0\n",
       "quantity            0\n",
       "invoicedate         0\n",
       "price               0\n",
       "country             0\n",
       "total_price         0\n",
       "dtype: int64"
      ]
     },
     "execution_count": 14,
     "metadata": {},
     "output_type": "execute_result"
    }
   ],
   "source": [
    "# Let's observ the missing data\n",
    "df.isnull().sum().sort_values(ascending=False)"
   ]
  },
  {
   "cell_type": "code",
   "execution_count": 15,
   "id": "b2f7c68d",
   "metadata": {
    "execution": {
     "iopub.execute_input": "2022-11-23T03:41:48.969432Z",
     "iopub.status.busy": "2022-11-23T03:41:48.968883Z",
     "iopub.status.idle": "2022-11-23T03:41:49.155573Z",
     "shell.execute_reply": "2022-11-23T03:41:49.154039Z"
    },
    "papermill": {
     "duration": 0.204566,
     "end_time": "2022-11-23T03:41:49.158423",
     "exception": false,
     "start_time": "2022-11-23T03:41:48.953857",
     "status": "completed"
    },
    "tags": []
   },
   "outputs": [],
   "source": [
    "# Let's remove the missing data\n",
    "df.dropna(inplace=True)"
   ]
  },
  {
   "cell_type": "code",
   "execution_count": 16,
   "id": "6731d074",
   "metadata": {
    "execution": {
     "iopub.execute_input": "2022-11-23T03:41:49.187366Z",
     "iopub.status.busy": "2022-11-23T03:41:49.186860Z",
     "iopub.status.idle": "2022-11-23T03:41:49.771974Z",
     "shell.execute_reply": "2022-11-23T03:41:49.769757Z"
    },
    "papermill": {
     "duration": 0.603301,
     "end_time": "2022-11-23T03:41:49.775095",
     "exception": false,
     "start_time": "2022-11-23T03:41:49.171794",
     "status": "completed"
    },
    "tags": []
   },
   "outputs": [
    {
     "data": {
      "text/plain": [
       "(397925, 9)"
      ]
     },
     "execution_count": 16,
     "metadata": {},
     "output_type": "execute_result"
    }
   ],
   "source": [
    "# Let's delete the observations with the invoices with 'C'\n",
    "df = df[~df['invoice'].str.contains('C', na=False)]\n",
    "df.shape"
   ]
  },
  {
   "cell_type": "code",
   "execution_count": 17,
   "id": "b63a88e5",
   "metadata": {
    "execution": {
     "iopub.execute_input": "2022-11-23T03:41:49.804701Z",
     "iopub.status.busy": "2022-11-23T03:41:49.804165Z",
     "iopub.status.idle": "2022-11-23T03:41:49.974363Z",
     "shell.execute_reply": "2022-11-23T03:41:49.972880Z"
    },
    "papermill": {
     "duration": 0.188477,
     "end_time": "2022-11-23T03:41:49.977250",
     "exception": false,
     "start_time": "2022-11-23T03:41:49.788773",
     "status": "completed"
    },
    "tags": []
   },
   "outputs": [
    {
     "data": {
      "text/html": [
       "<div>\n",
       "<style scoped>\n",
       "    .dataframe tbody tr th:only-of-type {\n",
       "        vertical-align: middle;\n",
       "    }\n",
       "\n",
       "    .dataframe tbody tr th {\n",
       "        vertical-align: top;\n",
       "    }\n",
       "\n",
       "    .dataframe thead th {\n",
       "        text-align: right;\n",
       "    }\n",
       "</style>\n",
       "<table border=\"1\" class=\"dataframe\">\n",
       "  <thead>\n",
       "    <tr style=\"text-align: right;\">\n",
       "      <th></th>\n",
       "      <th>count</th>\n",
       "      <th>mean</th>\n",
       "      <th>std</th>\n",
       "      <th>min</th>\n",
       "      <th>25%</th>\n",
       "      <th>50%</th>\n",
       "      <th>75%</th>\n",
       "      <th>max</th>\n",
       "    </tr>\n",
       "  </thead>\n",
       "  <tbody>\n",
       "    <tr>\n",
       "      <th>quantity</th>\n",
       "      <td>397885.000</td>\n",
       "      <td>12.988</td>\n",
       "      <td>179.332</td>\n",
       "      <td>1.000</td>\n",
       "      <td>2.000</td>\n",
       "      <td>6.000</td>\n",
       "      <td>12.000</td>\n",
       "      <td>80995.000</td>\n",
       "    </tr>\n",
       "    <tr>\n",
       "      <th>price</th>\n",
       "      <td>397885.000</td>\n",
       "      <td>3.117</td>\n",
       "      <td>22.098</td>\n",
       "      <td>0.001</td>\n",
       "      <td>1.250</td>\n",
       "      <td>1.950</td>\n",
       "      <td>3.750</td>\n",
       "      <td>8142.750</td>\n",
       "    </tr>\n",
       "    <tr>\n",
       "      <th>customer id</th>\n",
       "      <td>397885.000</td>\n",
       "      <td>15294.417</td>\n",
       "      <td>1713.144</td>\n",
       "      <td>12346.000</td>\n",
       "      <td>13969.000</td>\n",
       "      <td>15159.000</td>\n",
       "      <td>16795.000</td>\n",
       "      <td>18287.000</td>\n",
       "    </tr>\n",
       "    <tr>\n",
       "      <th>total_price</th>\n",
       "      <td>397885.000</td>\n",
       "      <td>22.397</td>\n",
       "      <td>309.071</td>\n",
       "      <td>0.001</td>\n",
       "      <td>4.680</td>\n",
       "      <td>11.800</td>\n",
       "      <td>19.800</td>\n",
       "      <td>168469.600</td>\n",
       "    </tr>\n",
       "  </tbody>\n",
       "</table>\n",
       "</div>"
      ],
      "text/plain": [
       "                 count      mean      std       min       25%       50%       75%        max\n",
       "quantity    397885.000    12.988  179.332     1.000     2.000     6.000    12.000  80995.000\n",
       "price       397885.000     3.117   22.098     0.001     1.250     1.950     3.750   8142.750\n",
       "customer id 397885.000 15294.417 1713.144 12346.000 13969.000 15159.000 16795.000  18287.000\n",
       "total_price 397885.000    22.397  309.071     0.001     4.680    11.800    19.800 168469.600"
      ]
     },
     "execution_count": 17,
     "metadata": {},
     "output_type": "execute_result"
    }
   ],
   "source": [
    "# The price can not zero. Let's fix this\n",
    "df = df[df['price'] > 0]\n",
    "df.describe().T"
   ]
  },
  {
   "cell_type": "markdown",
   "id": "957b9836",
   "metadata": {
    "papermill": {
     "duration": 0.017424,
     "end_time": "2022-11-23T03:41:50.010571",
     "exception": false,
     "start_time": "2022-11-23T03:41:49.993147",
     "status": "completed"
    },
    "tags": []
   },
   "source": [
    "# Calculation of RFM metrics (recency, frequency, monetary)"
   ]
  },
  {
   "cell_type": "markdown",
   "id": "dc48baca",
   "metadata": {
    "papermill": {
     "duration": 0.013302,
     "end_time": "2022-11-23T03:41:50.038030",
     "exception": false,
     "start_time": "2022-11-23T03:41:50.024728",
     "status": "completed"
    },
    "tags": []
   },
   "source": [
    "## Let's determine the last date in the variable invoicedate"
   ]
  },
  {
   "cell_type": "code",
   "execution_count": 18,
   "id": "ca0142d8",
   "metadata": {
    "execution": {
     "iopub.execute_input": "2022-11-23T03:41:50.068546Z",
     "iopub.status.busy": "2022-11-23T03:41:50.068042Z",
     "iopub.status.idle": "2022-11-23T03:41:50.080839Z",
     "shell.execute_reply": "2022-11-23T03:41:50.079394Z"
    },
    "papermill": {
     "duration": 0.031954,
     "end_time": "2022-11-23T03:41:50.083837",
     "exception": false,
     "start_time": "2022-11-23T03:41:50.051883",
     "status": "completed"
    },
    "tags": []
   },
   "outputs": [
    {
     "data": {
      "text/plain": [
       "Timestamp('2011-12-09 12:50:00')"
      ]
     },
     "execution_count": 18,
     "metadata": {},
     "output_type": "execute_result"
    }
   ],
   "source": [
    "df['invoicedate'].max()"
   ]
  },
  {
   "cell_type": "markdown",
   "id": "9125f787",
   "metadata": {
    "papermill": {
     "duration": 0.016203,
     "end_time": "2022-11-23T03:41:50.115206",
     "exception": false,
     "start_time": "2022-11-23T03:41:50.099003",
     "status": "completed"
    },
    "tags": []
   },
   "source": [
    "## Let's add 2 days to the last day of the variable invoicedate"
   ]
  },
  {
   "cell_type": "code",
   "execution_count": 19,
   "id": "c6f9251d",
   "metadata": {
    "execution": {
     "iopub.execute_input": "2022-11-23T03:41:50.148622Z",
     "iopub.status.busy": "2022-11-23T03:41:50.148161Z",
     "iopub.status.idle": "2022-11-23T03:41:50.154276Z",
     "shell.execute_reply": "2022-11-23T03:41:50.152644Z"
    },
    "papermill": {
     "duration": 0.025771,
     "end_time": "2022-11-23T03:41:50.157278",
     "exception": false,
     "start_time": "2022-11-23T03:41:50.131507",
     "status": "completed"
    },
    "tags": []
   },
   "outputs": [],
   "source": [
    "analysis_date = dt.datetime(2011, 12, 11)"
   ]
  },
  {
   "cell_type": "markdown",
   "id": "a73b8224",
   "metadata": {
    "papermill": {
     "duration": 0.013417,
     "end_time": "2022-11-23T03:41:50.184534",
     "exception": false,
     "start_time": "2022-11-23T03:41:50.171117",
     "status": "completed"
    },
    "tags": []
   },
   "source": [
    "## Let's create a new datafrema named 'rfm' to be able to calculate the rfm metrics"
   ]
  },
  {
   "cell_type": "code",
   "execution_count": 20,
   "id": "a8e6e11b",
   "metadata": {
    "execution": {
     "iopub.execute_input": "2022-11-23T03:41:50.214422Z",
     "iopub.status.busy": "2022-11-23T03:41:50.213487Z",
     "iopub.status.idle": "2022-11-23T03:41:51.439999Z",
     "shell.execute_reply": "2022-11-23T03:41:51.438449Z"
    },
    "papermill": {
     "duration": 1.244927,
     "end_time": "2022-11-23T03:41:51.443253",
     "exception": false,
     "start_time": "2022-11-23T03:41:50.198326",
     "status": "completed"
    },
    "tags": []
   },
   "outputs": [
    {
     "data": {
      "text/html": [
       "<div>\n",
       "<style scoped>\n",
       "    .dataframe tbody tr th:only-of-type {\n",
       "        vertical-align: middle;\n",
       "    }\n",
       "\n",
       "    .dataframe tbody tr th {\n",
       "        vertical-align: top;\n",
       "    }\n",
       "\n",
       "    .dataframe thead th {\n",
       "        text-align: right;\n",
       "    }\n",
       "</style>\n",
       "<table border=\"1\" class=\"dataframe\">\n",
       "  <thead>\n",
       "    <tr style=\"text-align: right;\">\n",
       "      <th></th>\n",
       "      <th>invoicedate</th>\n",
       "      <th>invoice</th>\n",
       "      <th>total_price</th>\n",
       "    </tr>\n",
       "    <tr>\n",
       "      <th>customer id</th>\n",
       "      <th></th>\n",
       "      <th></th>\n",
       "      <th></th>\n",
       "    </tr>\n",
       "  </thead>\n",
       "  <tbody>\n",
       "    <tr>\n",
       "      <th>12346.000</th>\n",
       "      <td>326</td>\n",
       "      <td>1</td>\n",
       "      <td>77183.600</td>\n",
       "    </tr>\n",
       "    <tr>\n",
       "      <th>12347.000</th>\n",
       "      <td>3</td>\n",
       "      <td>7</td>\n",
       "      <td>4310.000</td>\n",
       "    </tr>\n",
       "    <tr>\n",
       "      <th>12348.000</th>\n",
       "      <td>76</td>\n",
       "      <td>4</td>\n",
       "      <td>1797.240</td>\n",
       "    </tr>\n",
       "    <tr>\n",
       "      <th>12349.000</th>\n",
       "      <td>19</td>\n",
       "      <td>1</td>\n",
       "      <td>1757.550</td>\n",
       "    </tr>\n",
       "    <tr>\n",
       "      <th>12350.000</th>\n",
       "      <td>311</td>\n",
       "      <td>1</td>\n",
       "      <td>334.400</td>\n",
       "    </tr>\n",
       "  </tbody>\n",
       "</table>\n",
       "</div>"
      ],
      "text/plain": [
       "             invoicedate  invoice  total_price\n",
       "customer id                                   \n",
       "12346.000            326        1    77183.600\n",
       "12347.000              3        7     4310.000\n",
       "12348.000             76        4     1797.240\n",
       "12349.000             19        1     1757.550\n",
       "12350.000            311        1      334.400"
      ]
     },
     "execution_count": 20,
     "metadata": {},
     "output_type": "execute_result"
    }
   ],
   "source": [
    "rfm = df.groupby('customer id').agg({\n",
    "    'invoicedate': lambda x: (analysis_date - x.max()).days,\n",
    "    'invoice': lambda x: x.nunique(),\n",
    "    'total_price': lambda x: x.sum()\n",
    "})\n",
    "rfm.head()"
   ]
  },
  {
   "cell_type": "markdown",
   "id": "1faf28c9",
   "metadata": {
    "papermill": {
     "duration": 0.014438,
     "end_time": "2022-11-23T03:41:51.472730",
     "exception": false,
     "start_time": "2022-11-23T03:41:51.458292",
     "status": "completed"
    },
    "tags": []
   },
   "source": [
    "## Let's change the column names with recency, frequency and monetary"
   ]
  },
  {
   "cell_type": "code",
   "execution_count": 21,
   "id": "efc7bd3f",
   "metadata": {
    "execution": {
     "iopub.execute_input": "2022-11-23T03:41:51.506469Z",
     "iopub.status.busy": "2022-11-23T03:41:51.505954Z",
     "iopub.status.idle": "2022-11-23T03:41:51.519074Z",
     "shell.execute_reply": "2022-11-23T03:41:51.517809Z"
    },
    "papermill": {
     "duration": 0.031899,
     "end_time": "2022-11-23T03:41:51.521752",
     "exception": false,
     "start_time": "2022-11-23T03:41:51.489853",
     "status": "completed"
    },
    "tags": []
   },
   "outputs": [
    {
     "data": {
      "text/html": [
       "<div>\n",
       "<style scoped>\n",
       "    .dataframe tbody tr th:only-of-type {\n",
       "        vertical-align: middle;\n",
       "    }\n",
       "\n",
       "    .dataframe tbody tr th {\n",
       "        vertical-align: top;\n",
       "    }\n",
       "\n",
       "    .dataframe thead th {\n",
       "        text-align: right;\n",
       "    }\n",
       "</style>\n",
       "<table border=\"1\" class=\"dataframe\">\n",
       "  <thead>\n",
       "    <tr style=\"text-align: right;\">\n",
       "      <th></th>\n",
       "      <th>recency</th>\n",
       "      <th>frequency</th>\n",
       "      <th>monetary</th>\n",
       "    </tr>\n",
       "    <tr>\n",
       "      <th>customer id</th>\n",
       "      <th></th>\n",
       "      <th></th>\n",
       "      <th></th>\n",
       "    </tr>\n",
       "  </thead>\n",
       "  <tbody>\n",
       "    <tr>\n",
       "      <th>12346.000</th>\n",
       "      <td>326</td>\n",
       "      <td>1</td>\n",
       "      <td>77183.600</td>\n",
       "    </tr>\n",
       "    <tr>\n",
       "      <th>12347.000</th>\n",
       "      <td>3</td>\n",
       "      <td>7</td>\n",
       "      <td>4310.000</td>\n",
       "    </tr>\n",
       "    <tr>\n",
       "      <th>12348.000</th>\n",
       "      <td>76</td>\n",
       "      <td>4</td>\n",
       "      <td>1797.240</td>\n",
       "    </tr>\n",
       "    <tr>\n",
       "      <th>12349.000</th>\n",
       "      <td>19</td>\n",
       "      <td>1</td>\n",
       "      <td>1757.550</td>\n",
       "    </tr>\n",
       "    <tr>\n",
       "      <th>12350.000</th>\n",
       "      <td>311</td>\n",
       "      <td>1</td>\n",
       "      <td>334.400</td>\n",
       "    </tr>\n",
       "  </tbody>\n",
       "</table>\n",
       "</div>"
      ],
      "text/plain": [
       "             recency  frequency  monetary\n",
       "customer id                              \n",
       "12346.000        326          1 77183.600\n",
       "12347.000          3          7  4310.000\n",
       "12348.000         76          4  1797.240\n",
       "12349.000         19          1  1757.550\n",
       "12350.000        311          1   334.400"
      ]
     },
     "execution_count": 21,
     "metadata": {},
     "output_type": "execute_result"
    }
   ],
   "source": [
    "rfm.columns = ['recency', 'frequency', 'monetary']\n",
    "rfm.head()"
   ]
  },
  {
   "cell_type": "markdown",
   "id": "0091b3fb",
   "metadata": {
    "papermill": {
     "duration": 0.013664,
     "end_time": "2022-11-23T03:41:51.551072",
     "exception": false,
     "start_time": "2022-11-23T03:41:51.537408",
     "status": "completed"
    },
    "tags": []
   },
   "source": [
    "## Monetary variable must not be lower than and equal to 0. Let's fix this\n"
   ]
  },
  {
   "cell_type": "code",
   "execution_count": 22,
   "id": "adeee751",
   "metadata": {
    "execution": {
     "iopub.execute_input": "2022-11-23T03:41:51.583534Z",
     "iopub.status.busy": "2022-11-23T03:41:51.583034Z",
     "iopub.status.idle": "2022-11-23T03:41:51.600631Z",
     "shell.execute_reply": "2022-11-23T03:41:51.599456Z"
    },
    "papermill": {
     "duration": 0.036793,
     "end_time": "2022-11-23T03:41:51.603151",
     "exception": false,
     "start_time": "2022-11-23T03:41:51.566358",
     "status": "completed"
    },
    "tags": []
   },
   "outputs": [
    {
     "data": {
      "text/html": [
       "<div>\n",
       "<style scoped>\n",
       "    .dataframe tbody tr th:only-of-type {\n",
       "        vertical-align: middle;\n",
       "    }\n",
       "\n",
       "    .dataframe tbody tr th {\n",
       "        vertical-align: top;\n",
       "    }\n",
       "\n",
       "    .dataframe thead th {\n",
       "        text-align: right;\n",
       "    }\n",
       "</style>\n",
       "<table border=\"1\" class=\"dataframe\">\n",
       "  <thead>\n",
       "    <tr style=\"text-align: right;\">\n",
       "      <th></th>\n",
       "      <th>recency</th>\n",
       "      <th>frequency</th>\n",
       "      <th>monetary</th>\n",
       "    </tr>\n",
       "    <tr>\n",
       "      <th>customer id</th>\n",
       "      <th></th>\n",
       "      <th></th>\n",
       "      <th></th>\n",
       "    </tr>\n",
       "  </thead>\n",
       "  <tbody>\n",
       "    <tr>\n",
       "      <th>12346.000</th>\n",
       "      <td>326</td>\n",
       "      <td>1</td>\n",
       "      <td>77183.600</td>\n",
       "    </tr>\n",
       "    <tr>\n",
       "      <th>12347.000</th>\n",
       "      <td>3</td>\n",
       "      <td>7</td>\n",
       "      <td>4310.000</td>\n",
       "    </tr>\n",
       "    <tr>\n",
       "      <th>12348.000</th>\n",
       "      <td>76</td>\n",
       "      <td>4</td>\n",
       "      <td>1797.240</td>\n",
       "    </tr>\n",
       "    <tr>\n",
       "      <th>12349.000</th>\n",
       "      <td>19</td>\n",
       "      <td>1</td>\n",
       "      <td>1757.550</td>\n",
       "    </tr>\n",
       "    <tr>\n",
       "      <th>12350.000</th>\n",
       "      <td>311</td>\n",
       "      <td>1</td>\n",
       "      <td>334.400</td>\n",
       "    </tr>\n",
       "    <tr>\n",
       "      <th>...</th>\n",
       "      <td>...</td>\n",
       "      <td>...</td>\n",
       "      <td>...</td>\n",
       "    </tr>\n",
       "    <tr>\n",
       "      <th>18280.000</th>\n",
       "      <td>278</td>\n",
       "      <td>1</td>\n",
       "      <td>180.600</td>\n",
       "    </tr>\n",
       "    <tr>\n",
       "      <th>18281.000</th>\n",
       "      <td>181</td>\n",
       "      <td>1</td>\n",
       "      <td>80.820</td>\n",
       "    </tr>\n",
       "    <tr>\n",
       "      <th>18282.000</th>\n",
       "      <td>8</td>\n",
       "      <td>2</td>\n",
       "      <td>178.050</td>\n",
       "    </tr>\n",
       "    <tr>\n",
       "      <th>18283.000</th>\n",
       "      <td>4</td>\n",
       "      <td>16</td>\n",
       "      <td>2094.880</td>\n",
       "    </tr>\n",
       "    <tr>\n",
       "      <th>18287.000</th>\n",
       "      <td>43</td>\n",
       "      <td>3</td>\n",
       "      <td>1837.280</td>\n",
       "    </tr>\n",
       "  </tbody>\n",
       "</table>\n",
       "<p>4338 rows × 3 columns</p>\n",
       "</div>"
      ],
      "text/plain": [
       "             recency  frequency  monetary\n",
       "customer id                              \n",
       "12346.000        326          1 77183.600\n",
       "12347.000          3          7  4310.000\n",
       "12348.000         76          4  1797.240\n",
       "12349.000         19          1  1757.550\n",
       "12350.000        311          1   334.400\n",
       "...              ...        ...       ...\n",
       "18280.000        278          1   180.600\n",
       "18281.000        181          1    80.820\n",
       "18282.000          8          2   178.050\n",
       "18283.000          4         16  2094.880\n",
       "18287.000         43          3  1837.280\n",
       "\n",
       "[4338 rows x 3 columns]"
      ]
     },
     "execution_count": 22,
     "metadata": {},
     "output_type": "execute_result"
    }
   ],
   "source": [
    "rfm = rfm[rfm['monetary'] > 0]\n",
    "rfm"
   ]
  },
  {
   "cell_type": "markdown",
   "id": "84def118",
   "metadata": {
    "papermill": {
     "duration": 0.015123,
     "end_time": "2022-11-23T03:41:51.634151",
     "exception": false,
     "start_time": "2022-11-23T03:41:51.619028",
     "status": "completed"
    },
    "tags": []
   },
   "source": [
    "## Let's calculate the rfm scores including recency, frequency, and monetary scores"
   ]
  },
  {
   "cell_type": "code",
   "execution_count": 23,
   "id": "f44ed70d",
   "metadata": {
    "execution": {
     "iopub.execute_input": "2022-11-23T03:41:51.665731Z",
     "iopub.status.busy": "2022-11-23T03:41:51.665228Z",
     "iopub.status.idle": "2022-11-23T03:41:51.700685Z",
     "shell.execute_reply": "2022-11-23T03:41:51.699415Z"
    },
    "papermill": {
     "duration": 0.054677,
     "end_time": "2022-11-23T03:41:51.703304",
     "exception": false,
     "start_time": "2022-11-23T03:41:51.648627",
     "status": "completed"
    },
    "tags": []
   },
   "outputs": [
    {
     "data": {
      "text/html": [
       "<div>\n",
       "<style scoped>\n",
       "    .dataframe tbody tr th:only-of-type {\n",
       "        vertical-align: middle;\n",
       "    }\n",
       "\n",
       "    .dataframe tbody tr th {\n",
       "        vertical-align: top;\n",
       "    }\n",
       "\n",
       "    .dataframe thead th {\n",
       "        text-align: right;\n",
       "    }\n",
       "</style>\n",
       "<table border=\"1\" class=\"dataframe\">\n",
       "  <thead>\n",
       "    <tr style=\"text-align: right;\">\n",
       "      <th></th>\n",
       "      <th>recency</th>\n",
       "      <th>frequency</th>\n",
       "      <th>monetary</th>\n",
       "      <th>recency_score</th>\n",
       "      <th>monetary_score</th>\n",
       "      <th>frequency_score</th>\n",
       "    </tr>\n",
       "    <tr>\n",
       "      <th>customer id</th>\n",
       "      <th></th>\n",
       "      <th></th>\n",
       "      <th></th>\n",
       "      <th></th>\n",
       "      <th></th>\n",
       "      <th></th>\n",
       "    </tr>\n",
       "  </thead>\n",
       "  <tbody>\n",
       "    <tr>\n",
       "      <th>12346.000</th>\n",
       "      <td>326</td>\n",
       "      <td>1</td>\n",
       "      <td>77183.600</td>\n",
       "      <td>1</td>\n",
       "      <td>5</td>\n",
       "      <td>1</td>\n",
       "    </tr>\n",
       "    <tr>\n",
       "      <th>12347.000</th>\n",
       "      <td>3</td>\n",
       "      <td>7</td>\n",
       "      <td>4310.000</td>\n",
       "      <td>5</td>\n",
       "      <td>5</td>\n",
       "      <td>5</td>\n",
       "    </tr>\n",
       "    <tr>\n",
       "      <th>12348.000</th>\n",
       "      <td>76</td>\n",
       "      <td>4</td>\n",
       "      <td>1797.240</td>\n",
       "      <td>2</td>\n",
       "      <td>4</td>\n",
       "      <td>4</td>\n",
       "    </tr>\n",
       "    <tr>\n",
       "      <th>12349.000</th>\n",
       "      <td>19</td>\n",
       "      <td>1</td>\n",
       "      <td>1757.550</td>\n",
       "      <td>4</td>\n",
       "      <td>4</td>\n",
       "      <td>1</td>\n",
       "    </tr>\n",
       "    <tr>\n",
       "      <th>12350.000</th>\n",
       "      <td>311</td>\n",
       "      <td>1</td>\n",
       "      <td>334.400</td>\n",
       "      <td>1</td>\n",
       "      <td>2</td>\n",
       "      <td>1</td>\n",
       "    </tr>\n",
       "    <tr>\n",
       "      <th>...</th>\n",
       "      <td>...</td>\n",
       "      <td>...</td>\n",
       "      <td>...</td>\n",
       "      <td>...</td>\n",
       "      <td>...</td>\n",
       "      <td>...</td>\n",
       "    </tr>\n",
       "    <tr>\n",
       "      <th>18280.000</th>\n",
       "      <td>278</td>\n",
       "      <td>1</td>\n",
       "      <td>180.600</td>\n",
       "      <td>1</td>\n",
       "      <td>1</td>\n",
       "      <td>2</td>\n",
       "    </tr>\n",
       "    <tr>\n",
       "      <th>18281.000</th>\n",
       "      <td>181</td>\n",
       "      <td>1</td>\n",
       "      <td>80.820</td>\n",
       "      <td>1</td>\n",
       "      <td>1</td>\n",
       "      <td>2</td>\n",
       "    </tr>\n",
       "    <tr>\n",
       "      <th>18282.000</th>\n",
       "      <td>8</td>\n",
       "      <td>2</td>\n",
       "      <td>178.050</td>\n",
       "      <td>5</td>\n",
       "      <td>1</td>\n",
       "      <td>3</td>\n",
       "    </tr>\n",
       "    <tr>\n",
       "      <th>18283.000</th>\n",
       "      <td>4</td>\n",
       "      <td>16</td>\n",
       "      <td>2094.880</td>\n",
       "      <td>5</td>\n",
       "      <td>5</td>\n",
       "      <td>5</td>\n",
       "    </tr>\n",
       "    <tr>\n",
       "      <th>18287.000</th>\n",
       "      <td>43</td>\n",
       "      <td>3</td>\n",
       "      <td>1837.280</td>\n",
       "      <td>3</td>\n",
       "      <td>4</td>\n",
       "      <td>4</td>\n",
       "    </tr>\n",
       "  </tbody>\n",
       "</table>\n",
       "<p>4338 rows × 6 columns</p>\n",
       "</div>"
      ],
      "text/plain": [
       "             recency  frequency  monetary recency_score monetary_score frequency_score\n",
       "customer id                                                                           \n",
       "12346.000        326          1 77183.600             1              5               1\n",
       "12347.000          3          7  4310.000             5              5               5\n",
       "12348.000         76          4  1797.240             2              4               4\n",
       "12349.000         19          1  1757.550             4              4               1\n",
       "12350.000        311          1   334.400             1              2               1\n",
       "...              ...        ...       ...           ...            ...             ...\n",
       "18280.000        278          1   180.600             1              1               2\n",
       "18281.000        181          1    80.820             1              1               2\n",
       "18282.000          8          2   178.050             5              1               3\n",
       "18283.000          4         16  2094.880             5              5               5\n",
       "18287.000         43          3  1837.280             3              4               4\n",
       "\n",
       "[4338 rows x 6 columns]"
      ]
     },
     "execution_count": 23,
     "metadata": {},
     "output_type": "execute_result"
    }
   ],
   "source": [
    "rfm['recency_score'] = pd.qcut(rfm['recency'], 5, labels=[5, 4, 3, 2, 1])\n",
    "rfm['monetary_score'] = pd.qcut(rfm['monetary'], 5, labels=[1, 2, 3, 4, 5])\n",
    "rfm['frequency_score'] = pd.qcut(rfm['frequency'].rank(method='first'), 5, labels=[1, 2, 3, 4, 5])\n",
    "rfm"
   ]
  },
  {
   "cell_type": "markdown",
   "id": "7b65485c",
   "metadata": {
    "papermill": {
     "duration": 0.01429,
     "end_time": "2022-11-23T03:41:51.732916",
     "exception": false,
     "start_time": "2022-11-23T03:41:51.718626",
     "status": "completed"
    },
    "tags": []
   },
   "source": [
    "## Let's determine rf and rfm scores"
   ]
  },
  {
   "cell_type": "code",
   "execution_count": 24,
   "id": "1b114cca",
   "metadata": {
    "execution": {
     "iopub.execute_input": "2022-11-23T03:41:51.767242Z",
     "iopub.status.busy": "2022-11-23T03:41:51.765949Z",
     "iopub.status.idle": "2022-11-23T03:41:51.797718Z",
     "shell.execute_reply": "2022-11-23T03:41:51.796580Z"
    },
    "papermill": {
     "duration": 0.051887,
     "end_time": "2022-11-23T03:41:51.800701",
     "exception": false,
     "start_time": "2022-11-23T03:41:51.748814",
     "status": "completed"
    },
    "tags": []
   },
   "outputs": [
    {
     "data": {
      "text/html": [
       "<div>\n",
       "<style scoped>\n",
       "    .dataframe tbody tr th:only-of-type {\n",
       "        vertical-align: middle;\n",
       "    }\n",
       "\n",
       "    .dataframe tbody tr th {\n",
       "        vertical-align: top;\n",
       "    }\n",
       "\n",
       "    .dataframe thead th {\n",
       "        text-align: right;\n",
       "    }\n",
       "</style>\n",
       "<table border=\"1\" class=\"dataframe\">\n",
       "  <thead>\n",
       "    <tr style=\"text-align: right;\">\n",
       "      <th></th>\n",
       "      <th>recency</th>\n",
       "      <th>frequency</th>\n",
       "      <th>monetary</th>\n",
       "      <th>recency_score</th>\n",
       "      <th>monetary_score</th>\n",
       "      <th>frequency_score</th>\n",
       "      <th>rf_score</th>\n",
       "      <th>rfm_score</th>\n",
       "    </tr>\n",
       "    <tr>\n",
       "      <th>customer id</th>\n",
       "      <th></th>\n",
       "      <th></th>\n",
       "      <th></th>\n",
       "      <th></th>\n",
       "      <th></th>\n",
       "      <th></th>\n",
       "      <th></th>\n",
       "      <th></th>\n",
       "    </tr>\n",
       "  </thead>\n",
       "  <tbody>\n",
       "    <tr>\n",
       "      <th>12346.000</th>\n",
       "      <td>326</td>\n",
       "      <td>1</td>\n",
       "      <td>77183.600</td>\n",
       "      <td>1</td>\n",
       "      <td>5</td>\n",
       "      <td>1</td>\n",
       "      <td>11</td>\n",
       "      <td>115</td>\n",
       "    </tr>\n",
       "    <tr>\n",
       "      <th>12347.000</th>\n",
       "      <td>3</td>\n",
       "      <td>7</td>\n",
       "      <td>4310.000</td>\n",
       "      <td>5</td>\n",
       "      <td>5</td>\n",
       "      <td>5</td>\n",
       "      <td>55</td>\n",
       "      <td>555</td>\n",
       "    </tr>\n",
       "    <tr>\n",
       "      <th>12348.000</th>\n",
       "      <td>76</td>\n",
       "      <td>4</td>\n",
       "      <td>1797.240</td>\n",
       "      <td>2</td>\n",
       "      <td>4</td>\n",
       "      <td>4</td>\n",
       "      <td>24</td>\n",
       "      <td>244</td>\n",
       "    </tr>\n",
       "    <tr>\n",
       "      <th>12349.000</th>\n",
       "      <td>19</td>\n",
       "      <td>1</td>\n",
       "      <td>1757.550</td>\n",
       "      <td>4</td>\n",
       "      <td>4</td>\n",
       "      <td>1</td>\n",
       "      <td>41</td>\n",
       "      <td>414</td>\n",
       "    </tr>\n",
       "    <tr>\n",
       "      <th>12350.000</th>\n",
       "      <td>311</td>\n",
       "      <td>1</td>\n",
       "      <td>334.400</td>\n",
       "      <td>1</td>\n",
       "      <td>2</td>\n",
       "      <td>1</td>\n",
       "      <td>11</td>\n",
       "      <td>112</td>\n",
       "    </tr>\n",
       "    <tr>\n",
       "      <th>...</th>\n",
       "      <td>...</td>\n",
       "      <td>...</td>\n",
       "      <td>...</td>\n",
       "      <td>...</td>\n",
       "      <td>...</td>\n",
       "      <td>...</td>\n",
       "      <td>...</td>\n",
       "      <td>...</td>\n",
       "    </tr>\n",
       "    <tr>\n",
       "      <th>18280.000</th>\n",
       "      <td>278</td>\n",
       "      <td>1</td>\n",
       "      <td>180.600</td>\n",
       "      <td>1</td>\n",
       "      <td>1</td>\n",
       "      <td>2</td>\n",
       "      <td>12</td>\n",
       "      <td>121</td>\n",
       "    </tr>\n",
       "    <tr>\n",
       "      <th>18281.000</th>\n",
       "      <td>181</td>\n",
       "      <td>1</td>\n",
       "      <td>80.820</td>\n",
       "      <td>1</td>\n",
       "      <td>1</td>\n",
       "      <td>2</td>\n",
       "      <td>12</td>\n",
       "      <td>121</td>\n",
       "    </tr>\n",
       "    <tr>\n",
       "      <th>18282.000</th>\n",
       "      <td>8</td>\n",
       "      <td>2</td>\n",
       "      <td>178.050</td>\n",
       "      <td>5</td>\n",
       "      <td>1</td>\n",
       "      <td>3</td>\n",
       "      <td>53</td>\n",
       "      <td>531</td>\n",
       "    </tr>\n",
       "    <tr>\n",
       "      <th>18283.000</th>\n",
       "      <td>4</td>\n",
       "      <td>16</td>\n",
       "      <td>2094.880</td>\n",
       "      <td>5</td>\n",
       "      <td>5</td>\n",
       "      <td>5</td>\n",
       "      <td>55</td>\n",
       "      <td>555</td>\n",
       "    </tr>\n",
       "    <tr>\n",
       "      <th>18287.000</th>\n",
       "      <td>43</td>\n",
       "      <td>3</td>\n",
       "      <td>1837.280</td>\n",
       "      <td>3</td>\n",
       "      <td>4</td>\n",
       "      <td>4</td>\n",
       "      <td>34</td>\n",
       "      <td>344</td>\n",
       "    </tr>\n",
       "  </tbody>\n",
       "</table>\n",
       "<p>4338 rows × 8 columns</p>\n",
       "</div>"
      ],
      "text/plain": [
       "             recency  frequency  monetary recency_score monetary_score frequency_score rf_score rfm_score\n",
       "customer id                                                                                              \n",
       "12346.000        326          1 77183.600             1              5               1       11       115\n",
       "12347.000          3          7  4310.000             5              5               5       55       555\n",
       "12348.000         76          4  1797.240             2              4               4       24       244\n",
       "12349.000         19          1  1757.550             4              4               1       41       414\n",
       "12350.000        311          1   334.400             1              2               1       11       112\n",
       "...              ...        ...       ...           ...            ...             ...      ...       ...\n",
       "18280.000        278          1   180.600             1              1               2       12       121\n",
       "18281.000        181          1    80.820             1              1               2       12       121\n",
       "18282.000          8          2   178.050             5              1               3       53       531\n",
       "18283.000          4         16  2094.880             5              5               5       55       555\n",
       "18287.000         43          3  1837.280             3              4               4       34       344\n",
       "\n",
       "[4338 rows x 8 columns]"
      ]
     },
     "execution_count": 24,
     "metadata": {},
     "output_type": "execute_result"
    }
   ],
   "source": [
    "rfm['rf_score'] = rfm['recency_score'].astype(str) + rfm['frequency_score'].astype(str)\n",
    "rfm['rfm_score'] = rfm['recency_score'].astype(str) + rfm['frequency_score'].astype(str) + rfm['monetary_score'].astype(str)\n",
    "rfm"
   ]
  },
  {
   "cell_type": "markdown",
   "id": "007bc6b4",
   "metadata": {
    "papermill": {
     "duration": 0.015056,
     "end_time": "2022-11-23T03:41:51.830954",
     "exception": false,
     "start_time": "2022-11-23T03:41:51.815898",
     "status": "completed"
    },
    "tags": []
   },
   "source": [
    "## Let's create rfm segments"
   ]
  },
  {
   "cell_type": "code",
   "execution_count": 25,
   "id": "8dc90146",
   "metadata": {
    "execution": {
     "iopub.execute_input": "2022-11-23T03:41:51.863294Z",
     "iopub.status.busy": "2022-11-23T03:41:51.862562Z",
     "iopub.status.idle": "2022-11-23T03:41:51.961060Z",
     "shell.execute_reply": "2022-11-23T03:41:51.959577Z"
    },
    "papermill": {
     "duration": 0.117684,
     "end_time": "2022-11-23T03:41:51.963648",
     "exception": false,
     "start_time": "2022-11-23T03:41:51.845964",
     "status": "completed"
    },
    "tags": []
   },
   "outputs": [
    {
     "data": {
      "text/html": [
       "<div>\n",
       "<style scoped>\n",
       "    .dataframe tbody tr th:only-of-type {\n",
       "        vertical-align: middle;\n",
       "    }\n",
       "\n",
       "    .dataframe tbody tr th {\n",
       "        vertical-align: top;\n",
       "    }\n",
       "\n",
       "    .dataframe thead th {\n",
       "        text-align: right;\n",
       "    }\n",
       "</style>\n",
       "<table border=\"1\" class=\"dataframe\">\n",
       "  <thead>\n",
       "    <tr style=\"text-align: right;\">\n",
       "      <th></th>\n",
       "      <th>recency</th>\n",
       "      <th>frequency</th>\n",
       "      <th>monetary</th>\n",
       "      <th>recency_score</th>\n",
       "      <th>monetary_score</th>\n",
       "      <th>frequency_score</th>\n",
       "      <th>rf_score</th>\n",
       "      <th>rfm_score</th>\n",
       "      <th>segments</th>\n",
       "    </tr>\n",
       "    <tr>\n",
       "      <th>customer id</th>\n",
       "      <th></th>\n",
       "      <th></th>\n",
       "      <th></th>\n",
       "      <th></th>\n",
       "      <th></th>\n",
       "      <th></th>\n",
       "      <th></th>\n",
       "      <th></th>\n",
       "      <th></th>\n",
       "    </tr>\n",
       "  </thead>\n",
       "  <tbody>\n",
       "    <tr>\n",
       "      <th>12346.000</th>\n",
       "      <td>326</td>\n",
       "      <td>1</td>\n",
       "      <td>77183.600</td>\n",
       "      <td>1</td>\n",
       "      <td>5</td>\n",
       "      <td>1</td>\n",
       "      <td>11</td>\n",
       "      <td>115</td>\n",
       "      <td>hibernating</td>\n",
       "    </tr>\n",
       "    <tr>\n",
       "      <th>12347.000</th>\n",
       "      <td>3</td>\n",
       "      <td>7</td>\n",
       "      <td>4310.000</td>\n",
       "      <td>5</td>\n",
       "      <td>5</td>\n",
       "      <td>5</td>\n",
       "      <td>55</td>\n",
       "      <td>555</td>\n",
       "      <td>champions</td>\n",
       "    </tr>\n",
       "    <tr>\n",
       "      <th>12348.000</th>\n",
       "      <td>76</td>\n",
       "      <td>4</td>\n",
       "      <td>1797.240</td>\n",
       "      <td>2</td>\n",
       "      <td>4</td>\n",
       "      <td>4</td>\n",
       "      <td>24</td>\n",
       "      <td>244</td>\n",
       "      <td>at_risk</td>\n",
       "    </tr>\n",
       "    <tr>\n",
       "      <th>12349.000</th>\n",
       "      <td>19</td>\n",
       "      <td>1</td>\n",
       "      <td>1757.550</td>\n",
       "      <td>4</td>\n",
       "      <td>4</td>\n",
       "      <td>1</td>\n",
       "      <td>41</td>\n",
       "      <td>414</td>\n",
       "      <td>promising</td>\n",
       "    </tr>\n",
       "    <tr>\n",
       "      <th>12350.000</th>\n",
       "      <td>311</td>\n",
       "      <td>1</td>\n",
       "      <td>334.400</td>\n",
       "      <td>1</td>\n",
       "      <td>2</td>\n",
       "      <td>1</td>\n",
       "      <td>11</td>\n",
       "      <td>112</td>\n",
       "      <td>hibernating</td>\n",
       "    </tr>\n",
       "    <tr>\n",
       "      <th>...</th>\n",
       "      <td>...</td>\n",
       "      <td>...</td>\n",
       "      <td>...</td>\n",
       "      <td>...</td>\n",
       "      <td>...</td>\n",
       "      <td>...</td>\n",
       "      <td>...</td>\n",
       "      <td>...</td>\n",
       "      <td>...</td>\n",
       "    </tr>\n",
       "    <tr>\n",
       "      <th>18280.000</th>\n",
       "      <td>278</td>\n",
       "      <td>1</td>\n",
       "      <td>180.600</td>\n",
       "      <td>1</td>\n",
       "      <td>1</td>\n",
       "      <td>2</td>\n",
       "      <td>12</td>\n",
       "      <td>121</td>\n",
       "      <td>hibernating</td>\n",
       "    </tr>\n",
       "    <tr>\n",
       "      <th>18281.000</th>\n",
       "      <td>181</td>\n",
       "      <td>1</td>\n",
       "      <td>80.820</td>\n",
       "      <td>1</td>\n",
       "      <td>1</td>\n",
       "      <td>2</td>\n",
       "      <td>12</td>\n",
       "      <td>121</td>\n",
       "      <td>hibernating</td>\n",
       "    </tr>\n",
       "    <tr>\n",
       "      <th>18282.000</th>\n",
       "      <td>8</td>\n",
       "      <td>2</td>\n",
       "      <td>178.050</td>\n",
       "      <td>5</td>\n",
       "      <td>1</td>\n",
       "      <td>3</td>\n",
       "      <td>53</td>\n",
       "      <td>531</td>\n",
       "      <td>potential_loyalists</td>\n",
       "    </tr>\n",
       "    <tr>\n",
       "      <th>18283.000</th>\n",
       "      <td>4</td>\n",
       "      <td>16</td>\n",
       "      <td>2094.880</td>\n",
       "      <td>5</td>\n",
       "      <td>5</td>\n",
       "      <td>5</td>\n",
       "      <td>55</td>\n",
       "      <td>555</td>\n",
       "      <td>champions</td>\n",
       "    </tr>\n",
       "    <tr>\n",
       "      <th>18287.000</th>\n",
       "      <td>43</td>\n",
       "      <td>3</td>\n",
       "      <td>1837.280</td>\n",
       "      <td>3</td>\n",
       "      <td>4</td>\n",
       "      <td>4</td>\n",
       "      <td>34</td>\n",
       "      <td>344</td>\n",
       "      <td>loyal_customers</td>\n",
       "    </tr>\n",
       "  </tbody>\n",
       "</table>\n",
       "<p>4338 rows × 9 columns</p>\n",
       "</div>"
      ],
      "text/plain": [
       "             recency  frequency  monetary recency_score monetary_score frequency_score rf_score rfm_score             segments\n",
       "customer id                                                                                                                   \n",
       "12346.000        326          1 77183.600             1              5               1       11       115          hibernating\n",
       "12347.000          3          7  4310.000             5              5               5       55       555            champions\n",
       "12348.000         76          4  1797.240             2              4               4       24       244              at_risk\n",
       "12349.000         19          1  1757.550             4              4               1       41       414            promising\n",
       "12350.000        311          1   334.400             1              2               1       11       112          hibernating\n",
       "...              ...        ...       ...           ...            ...             ...      ...       ...                  ...\n",
       "18280.000        278          1   180.600             1              1               2       12       121          hibernating\n",
       "18281.000        181          1    80.820             1              1               2       12       121          hibernating\n",
       "18282.000          8          2   178.050             5              1               3       53       531  potential_loyalists\n",
       "18283.000          4         16  2094.880             5              5               5       55       555            champions\n",
       "18287.000         43          3  1837.280             3              4               4       34       344      loyal_customers\n",
       "\n",
       "[4338 rows x 9 columns]"
      ]
     },
     "execution_count": 25,
     "metadata": {},
     "output_type": "execute_result"
    }
   ],
   "source": [
    "segment_map = {r'[1-2][1-2]': 'hibernating',\n",
    "    r'[1-2][3-4]': 'at_risk',\n",
    "    r'[1-2]5': 'cant_loose_them',\n",
    "    r'3[1-2]': 'about_to_sleep',\n",
    "    r'33': 'need_attention',\n",
    "    r'[3-4][4-5]': 'loyal_customers',\n",
    "    r'41': 'promising',\n",
    "    r'51': 'new_customers',\n",
    "    r'[4-5][2-3]': 'potential_loyalists',\n",
    "    r'5[4-5]': 'champions'}\n",
    "\n",
    "rfm['segments'] = rfm['rf_score'].replace(segment_map, regex=True)\n",
    "rfm"
   ]
  },
  {
   "cell_type": "markdown",
   "id": "c93d3201",
   "metadata": {
    "papermill": {
     "duration": 0.015378,
     "end_time": "2022-11-23T03:41:51.994363",
     "exception": false,
     "start_time": "2022-11-23T03:41:51.978985",
     "status": "completed"
    },
    "tags": []
   },
   "source": [
    "## Let's examine the mean and count values of the scores according to segments"
   ]
  },
  {
   "cell_type": "code",
   "execution_count": 26,
   "id": "95d8ae1d",
   "metadata": {
    "execution": {
     "iopub.execute_input": "2022-11-23T03:41:52.027800Z",
     "iopub.status.busy": "2022-11-23T03:41:52.027289Z",
     "iopub.status.idle": "2022-11-23T03:41:52.053183Z",
     "shell.execute_reply": "2022-11-23T03:41:52.051438Z"
    },
    "papermill": {
     "duration": 0.046489,
     "end_time": "2022-11-23T03:41:52.056366",
     "exception": false,
     "start_time": "2022-11-23T03:41:52.009877",
     "status": "completed"
    },
    "tags": []
   },
   "outputs": [
    {
     "data": {
      "text/html": [
       "<div>\n",
       "<style scoped>\n",
       "    .dataframe tbody tr th:only-of-type {\n",
       "        vertical-align: middle;\n",
       "    }\n",
       "\n",
       "    .dataframe tbody tr th {\n",
       "        vertical-align: top;\n",
       "    }\n",
       "\n",
       "    .dataframe thead tr th {\n",
       "        text-align: left;\n",
       "    }\n",
       "\n",
       "    .dataframe thead tr:last-of-type th {\n",
       "        text-align: right;\n",
       "    }\n",
       "</style>\n",
       "<table border=\"1\" class=\"dataframe\">\n",
       "  <thead>\n",
       "    <tr>\n",
       "      <th></th>\n",
       "      <th colspan=\"2\" halign=\"left\">recency</th>\n",
       "      <th colspan=\"2\" halign=\"left\">frequency</th>\n",
       "      <th colspan=\"2\" halign=\"left\">monetary</th>\n",
       "    </tr>\n",
       "    <tr>\n",
       "      <th></th>\n",
       "      <th>mean</th>\n",
       "      <th>count</th>\n",
       "      <th>mean</th>\n",
       "      <th>count</th>\n",
       "      <th>mean</th>\n",
       "      <th>count</th>\n",
       "    </tr>\n",
       "    <tr>\n",
       "      <th>segments</th>\n",
       "      <th></th>\n",
       "      <th></th>\n",
       "      <th></th>\n",
       "      <th></th>\n",
       "      <th></th>\n",
       "      <th></th>\n",
       "    </tr>\n",
       "  </thead>\n",
       "  <tbody>\n",
       "    <tr>\n",
       "      <th>about_to_sleep</th>\n",
       "      <td>53.312</td>\n",
       "      <td>352</td>\n",
       "      <td>1.162</td>\n",
       "      <td>352</td>\n",
       "      <td>471.994</td>\n",
       "      <td>352</td>\n",
       "    </tr>\n",
       "    <tr>\n",
       "      <th>at_risk</th>\n",
       "      <td>153.786</td>\n",
       "      <td>593</td>\n",
       "      <td>2.877</td>\n",
       "      <td>593</td>\n",
       "      <td>1084.535</td>\n",
       "      <td>593</td>\n",
       "    </tr>\n",
       "    <tr>\n",
       "      <th>cant_loose_them</th>\n",
       "      <td>132.968</td>\n",
       "      <td>63</td>\n",
       "      <td>8.381</td>\n",
       "      <td>63</td>\n",
       "      <td>2796.156</td>\n",
       "      <td>63</td>\n",
       "    </tr>\n",
       "    <tr>\n",
       "      <th>champions</th>\n",
       "      <td>6.362</td>\n",
       "      <td>633</td>\n",
       "      <td>12.414</td>\n",
       "      <td>633</td>\n",
       "      <td>6857.964</td>\n",
       "      <td>633</td>\n",
       "    </tr>\n",
       "    <tr>\n",
       "      <th>hibernating</th>\n",
       "      <td>217.605</td>\n",
       "      <td>1071</td>\n",
       "      <td>1.102</td>\n",
       "      <td>1071</td>\n",
       "      <td>488.643</td>\n",
       "      <td>1071</td>\n",
       "    </tr>\n",
       "    <tr>\n",
       "      <th>loyal_customers</th>\n",
       "      <td>33.608</td>\n",
       "      <td>819</td>\n",
       "      <td>6.480</td>\n",
       "      <td>819</td>\n",
       "      <td>2864.248</td>\n",
       "      <td>819</td>\n",
       "    </tr>\n",
       "    <tr>\n",
       "      <th>need_attention</th>\n",
       "      <td>52.428</td>\n",
       "      <td>187</td>\n",
       "      <td>2.326</td>\n",
       "      <td>187</td>\n",
       "      <td>897.628</td>\n",
       "      <td>187</td>\n",
       "    </tr>\n",
       "    <tr>\n",
       "      <th>new_customers</th>\n",
       "      <td>7.429</td>\n",
       "      <td>42</td>\n",
       "      <td>1.000</td>\n",
       "      <td>42</td>\n",
       "      <td>388.213</td>\n",
       "      <td>42</td>\n",
       "    </tr>\n",
       "    <tr>\n",
       "      <th>potential_loyalists</th>\n",
       "      <td>17.399</td>\n",
       "      <td>484</td>\n",
       "      <td>2.010</td>\n",
       "      <td>484</td>\n",
       "      <td>1041.222</td>\n",
       "      <td>484</td>\n",
       "    </tr>\n",
       "    <tr>\n",
       "      <th>promising</th>\n",
       "      <td>23.511</td>\n",
       "      <td>94</td>\n",
       "      <td>1.000</td>\n",
       "      <td>94</td>\n",
       "      <td>294.008</td>\n",
       "      <td>94</td>\n",
       "    </tr>\n",
       "  </tbody>\n",
       "</table>\n",
       "</div>"
      ],
      "text/plain": [
       "                    recency       frequency       monetary      \n",
       "                       mean count      mean count     mean count\n",
       "segments                                                        \n",
       "about_to_sleep       53.312   352     1.162   352  471.994   352\n",
       "at_risk             153.786   593     2.877   593 1084.535   593\n",
       "cant_loose_them     132.968    63     8.381    63 2796.156    63\n",
       "champions             6.362   633    12.414   633 6857.964   633\n",
       "hibernating         217.605  1071     1.102  1071  488.643  1071\n",
       "loyal_customers      33.608   819     6.480   819 2864.248   819\n",
       "need_attention       52.428   187     2.326   187  897.628   187\n",
       "new_customers         7.429    42     1.000    42  388.213    42\n",
       "potential_loyalists  17.399   484     2.010   484 1041.222   484\n",
       "promising            23.511    94     1.000    94  294.008    94"
      ]
     },
     "execution_count": 26,
     "metadata": {},
     "output_type": "execute_result"
    }
   ],
   "source": [
    "rfm.groupby('segments').agg(\n",
    "    {'recency': ['mean', 'count'],\n",
    "    'frequency': ['mean', 'count'],\n",
    "    'monetary': ['mean', 'count']})"
   ]
  },
  {
   "cell_type": "markdown",
   "id": "f91594f5",
   "metadata": {
    "papermill": {
     "duration": 0.016276,
     "end_time": "2022-11-23T03:41:52.088591",
     "exception": false,
     "start_time": "2022-11-23T03:41:52.072315",
     "status": "completed"
    },
    "tags": []
   },
   "source": [
    "### The values obtained with this above coding are actual values rather than scores. The administrator can request the 'need_attention' class. Because if this class does not receive attention, it may leave it to the e-commerce company that it is shopping with, or it may want to deal specifically with the 'at_risk' and 'can't loose' classes. In this case, what needs to be done is to select them and send the index information to the relevant department or write it to a database. Thus, these people can be accessed and related communications can be provided."
   ]
  },
  {
   "cell_type": "markdown",
   "id": "976e97b3",
   "metadata": {
    "papermill": {
     "duration": 0.018857,
     "end_time": "2022-11-23T03:41:52.123470",
     "exception": false,
     "start_time": "2022-11-23T03:41:52.104613",
     "status": "completed"
    },
    "tags": []
   },
   "source": [
    "# Let's reach to the indexes of new_customers, cant_loose_them, and need_attention"
   ]
  },
  {
   "cell_type": "code",
   "execution_count": 27,
   "id": "d4d2bda1",
   "metadata": {
    "execution": {
     "iopub.execute_input": "2022-11-23T03:41:52.158363Z",
     "iopub.status.busy": "2022-11-23T03:41:52.157909Z",
     "iopub.status.idle": "2022-11-23T03:41:52.182413Z",
     "shell.execute_reply": "2022-11-23T03:41:52.181042Z"
    },
    "papermill": {
     "duration": 0.045338,
     "end_time": "2022-11-23T03:41:52.185549",
     "exception": false,
     "start_time": "2022-11-23T03:41:52.140211",
     "status": "completed"
    },
    "tags": []
   },
   "outputs": [],
   "source": [
    "rfm[rfm['segments'] == 'new_customers'].index\n",
    "rfm[rfm['segments'] == 'cant_loose_them'].index\n",
    "rfm[rfm['segments'] == 'need_attention'].index\n",
    "\n",
    "new_df1 = pd.DataFrame()\n",
    "new_df1['new_customer_id'] = rfm[rfm['segments'] == 'new_customers'].index\n",
    "new_df1['new_customer_id'] = new_df1['new_customer_id'].astype(int)\n",
    "new_df2 = pd.DataFrame()\n",
    "new_df2['cant_loose_them_id'] = rfm[rfm['segments'] == 'cant_loose_them'].index\n",
    "new_df2['cant_loose_them_id'] = new_df2['cant_loose_them_id'].astype(int)\n",
    "new_df3 = pd.DataFrame()\n",
    "new_df3['need_attention_id'] = rfm[rfm['segments'] == 'need_attention'].index\n",
    "new_df3['need_attention_id'] = new_df3['need_attention_id'].astype(int)"
   ]
  },
  {
   "cell_type": "code",
   "execution_count": 28,
   "id": "398bb7a7",
   "metadata": {
    "execution": {
     "iopub.execute_input": "2022-11-23T03:41:52.219289Z",
     "iopub.status.busy": "2022-11-23T03:41:52.218757Z",
     "iopub.status.idle": "2022-11-23T03:41:52.229080Z",
     "shell.execute_reply": "2022-11-23T03:41:52.227885Z"
    },
    "papermill": {
     "duration": 0.030316,
     "end_time": "2022-11-23T03:41:52.231799",
     "exception": false,
     "start_time": "2022-11-23T03:41:52.201483",
     "status": "completed"
    },
    "tags": []
   },
   "outputs": [
    {
     "name": "stdout",
     "output_type": "stream",
     "text": [
      "   new_customer_id\n",
      "0            12367\n",
      "1            12442\n",
      "2            12478\n",
      "3            12479\n",
      "4            12558 \n",
      "\n",
      "    cant_loose_them_id\n",
      "0               12643\n",
      "1               12853\n",
      "2               12868\n",
      "3               12947\n",
      "4               12980 \n",
      "\n",
      "    need_attention_id\n",
      "0              12360\n",
      "1              12372\n",
      "2              12413\n",
      "3              12456\n",
      "4              12536\n"
     ]
    }
   ],
   "source": [
    "print(new_df1.head(), '\\n\\n', new_df2.head(), '\\n\\n', new_df3.head())"
   ]
  },
  {
   "cell_type": "markdown",
   "id": "0d5db1f4",
   "metadata": {
    "papermill": {
     "duration": 0.016025,
     "end_time": "2022-11-23T03:41:52.263935",
     "exception": false,
     "start_time": "2022-11-23T03:41:52.247910",
     "status": "completed"
    },
    "tags": []
   },
   "source": [
    "## Let's get the final format of the new_df1, new_df2, new_df3, and rfm as csv file\n",
    "#### new_df1.to_csv('new_customers.csv')\n",
    "#### new_df2.to_csv('cant_loose_them.csv')\n",
    "#### new_df3.to_csv('need_attention.csv')\n",
    "#### rfm.to_csv('rfm.csv')"
   ]
  },
  {
   "cell_type": "markdown",
   "id": "783254ec",
   "metadata": {
    "papermill": {
     "duration": 0.015917,
     "end_time": "2022-11-23T03:41:52.295641",
     "exception": false,
     "start_time": "2022-11-23T03:41:52.279724",
     "status": "completed"
    },
    "tags": []
   },
   "source": [
    "### Consequently, this analysis must be repeated from time to time. For example, when we create these segments in a certain month of a certain year, the customers in these segments may change in the next month, 3 months or 6 months. Therefore, it is very practical and valuable to observe the changes here. For example, this process should be able to run regularly every month. It should be able to report the changes in the segments that occur after running it every month and take action regarding the report after sending it to the relevant department. However, these processes should be followed continuously."
   ]
  },
  {
   "cell_type": "markdown",
   "id": "e57979e7",
   "metadata": {
    "papermill": {
     "duration": 0.015573,
     "end_time": "2022-11-23T03:41:52.327074",
     "exception": false,
     "start_time": "2022-11-23T03:41:52.311501",
     "status": "completed"
    },
    "tags": []
   },
   "source": [
    "# **Thanks for checking my notebook!**"
   ]
  }
 ],
 "metadata": {
  "kernelspec": {
   "display_name": "Python 3",
   "language": "python",
   "name": "python3"
  },
  "language_info": {
   "codemirror_mode": {
    "name": "ipython",
    "version": 3
   },
   "file_extension": ".py",
   "mimetype": "text/x-python",
   "name": "python",
   "nbconvert_exporter": "python",
   "pygments_lexer": "ipython3",
   "version": "3.7.12"
  },
  "papermill": {
   "default_parameters": {},
   "duration": 97.49838,
   "end_time": "2022-11-23T03:41:53.374397",
   "environment_variables": {},
   "exception": null,
   "input_path": "__notebook__.ipynb",
   "output_path": "__notebook__.ipynb",
   "parameters": {},
   "start_time": "2022-11-23T03:40:15.876017",
   "version": "2.3.4"
  }
 },
 "nbformat": 4,
 "nbformat_minor": 5
}
