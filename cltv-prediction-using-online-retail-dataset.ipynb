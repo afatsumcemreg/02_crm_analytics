{
 "cells": [
  {
   "cell_type": "markdown",
   "id": "99eef1d7",
   "metadata": {
    "papermill": {
     "duration": 0.014252,
     "end_time": "2022-11-23T22:11:00.579299",
     "exception": false,
     "start_time": "2022-11-23T22:11:00.565047",
     "status": "completed"
    },
    "tags": []
   },
   "source": [
    "# **Customer Lifetime Value (CLTV) Prediction with BG-NBD and Gamma Gamma Models using Online Retail Dataset**\n",
    "\n",
    "# Business problem\n",
    "\n",
    "### An e-commerce company wants to divide its customers into groups and show marketing approaches specific to these groups. For this, it wants to divide the customers into groups by using various techniques and to exhibit various approaches specific to these groups.\n",
    "\n",
    "# Dataset story\n",
    "\n",
    "### The dataset named Online Retail includes online sales transactions of a UK-based retail company between 01/12/2009 and 09/12/2011. The company's product catalog includes souvenirs and it is known that most of its customers are wholesalers.¶\n",
    "\n",
    "* InvoiceNo: Invoice Number (If this code starts with C, it means that the transaction has been cancelled)\n",
    "* StockCode: Product code (unique for each product)\n",
    "* Description: Product name\n",
    "* Quantity: Number of products (How many of the products on the invoices were sold)\n",
    "* InvoiceDate: Invoice date\n",
    "* UnitPrice: Invoice price ( Sterling )\n",
    "* CustomerID: Unique customer number\n",
    "* Country: Country name"
   ]
  },
  {
   "cell_type": "markdown",
   "id": "a0b1f109",
   "metadata": {
    "papermill": {
     "duration": 0.014517,
     "end_time": "2022-11-23T22:11:00.606943",
     "exception": false,
     "start_time": "2022-11-23T22:11:00.592426",
     "status": "completed"
    },
    "tags": []
   },
   "source": [
    "# Let's import the libraries"
   ]
  },
  {
   "cell_type": "code",
   "execution_count": 1,
   "id": "ef49fd32",
   "metadata": {
    "execution": {
     "iopub.execute_input": "2022-11-23T22:11:00.635601Z",
     "iopub.status.busy": "2022-11-23T22:11:00.634506Z",
     "iopub.status.idle": "2022-11-23T22:11:15.186090Z",
     "shell.execute_reply": "2022-11-23T22:11:15.184592Z"
    },
    "papermill": {
     "duration": 14.570148,
     "end_time": "2022-11-23T22:11:15.189698",
     "exception": false,
     "start_time": "2022-11-23T22:11:00.619550",
     "status": "completed"
    },
    "tags": []
   },
   "outputs": [
    {
     "name": "stdout",
     "output_type": "stream",
     "text": [
      "Collecting lifetimes\r\n",
      "  Downloading Lifetimes-0.11.3-py3-none-any.whl (584 kB)\r\n",
      "\u001b[2K     \u001b[90m━━━━━━━━━━━━━━━━━━━━━━━━━━━━━━━━━━━━━━━\u001b[0m \u001b[32m584.2/584.2 kB\u001b[0m \u001b[31m2.4 MB/s\u001b[0m eta \u001b[36m0:00:00\u001b[0m\r\n",
      "\u001b[?25hRequirement already satisfied: pandas>=0.24.0 in /opt/conda/lib/python3.7/site-packages (from lifetimes) (1.3.5)\r\n",
      "Requirement already satisfied: scipy>=1.0.0 in /opt/conda/lib/python3.7/site-packages (from lifetimes) (1.7.3)\r\n",
      "Requirement already satisfied: numpy>=1.10.0 in /opt/conda/lib/python3.7/site-packages (from lifetimes) (1.21.6)\r\n",
      "Requirement already satisfied: dill>=0.2.6 in /opt/conda/lib/python3.7/site-packages (from lifetimes) (0.3.5.1)\r\n",
      "Collecting autograd>=1.2.0\r\n",
      "  Downloading autograd-1.5-py3-none-any.whl (48 kB)\r\n",
      "\u001b[2K     \u001b[90m━━━━━━━━━━━━━━━━━━━━━━━━━━━━━━━━━━━━━━━━\u001b[0m \u001b[32m48.9/48.9 kB\u001b[0m \u001b[31m3.1 MB/s\u001b[0m eta \u001b[36m0:00:00\u001b[0m\r\n",
      "\u001b[?25hRequirement already satisfied: future>=0.15.2 in /opt/conda/lib/python3.7/site-packages (from autograd>=1.2.0->lifetimes) (0.18.2)\r\n",
      "Requirement already satisfied: python-dateutil>=2.7.3 in /opt/conda/lib/python3.7/site-packages (from pandas>=0.24.0->lifetimes) (2.8.2)\r\n",
      "Requirement already satisfied: pytz>=2017.3 in /opt/conda/lib/python3.7/site-packages (from pandas>=0.24.0->lifetimes) (2022.1)\r\n",
      "Requirement already satisfied: six>=1.5 in /opt/conda/lib/python3.7/site-packages (from python-dateutil>=2.7.3->pandas>=0.24.0->lifetimes) (1.15.0)\r\n",
      "Installing collected packages: autograd, lifetimes\r\n",
      "Successfully installed autograd-1.5 lifetimes-0.11.3\r\n",
      "\u001b[33mWARNING: Running pip as the 'root' user can result in broken permissions and conflicting behaviour with the system package manager. It is recommended to use a virtual environment instead: https://pip.pypa.io/warnings/venv\u001b[0m\u001b[33m\r\n",
      "\u001b[0m"
     ]
    }
   ],
   "source": [
    "!pip install lifetimes"
   ]
  },
  {
   "cell_type": "code",
   "execution_count": 2,
   "id": "6ff7601f",
   "metadata": {
    "_cell_guid": "b1076dfc-b9ad-4769-8c92-a6c4dae69d19",
    "_uuid": "8f2839f25d086af736a60e9eeb907d3b93b6e0e5",
    "execution": {
     "iopub.execute_input": "2022-11-23T22:11:15.220071Z",
     "iopub.status.busy": "2022-11-23T22:11:15.219265Z",
     "iopub.status.idle": "2022-11-23T22:11:16.529678Z",
     "shell.execute_reply": "2022-11-23T22:11:16.528340Z"
    },
    "papermill": {
     "duration": 1.329596,
     "end_time": "2022-11-23T22:11:16.533339",
     "exception": false,
     "start_time": "2022-11-23T22:11:15.203743",
     "status": "completed"
    },
    "tags": []
   },
   "outputs": [],
   "source": [
    "import datetime as dt\n",
    "import pandas as pd\n",
    "import seaborn as sns\n",
    "import matplotlib.pyplot as plt\n",
    "from lifetimes import GammaGammaFitter, BetaGeoFitter\n",
    "from lifetimes.plotting import plot_period_transactions\n",
    "pd.set_option('display.max_columns', None)\n",
    "pd.set_option('display.width', 500)\n",
    "pd.set_option('display.float_format', lambda x: '%.3f' % x)"
   ]
  },
  {
   "cell_type": "markdown",
   "id": "1c2e0203",
   "metadata": {
    "papermill": {
     "duration": 0.013498,
     "end_time": "2022-11-23T22:11:16.560623",
     "exception": false,
     "start_time": "2022-11-23T22:11:16.547125",
     "status": "completed"
    },
    "tags": []
   },
   "source": [
    "# Let's import the dataset"
   ]
  },
  {
   "cell_type": "code",
   "execution_count": 3,
   "id": "e7db6a2e",
   "metadata": {
    "execution": {
     "iopub.execute_input": "2022-11-23T22:11:16.590622Z",
     "iopub.status.busy": "2022-11-23T22:11:16.589798Z",
     "iopub.status.idle": "2022-11-23T22:12:32.238018Z",
     "shell.execute_reply": "2022-11-23T22:12:32.236433Z"
    },
    "papermill": {
     "duration": 75.67993,
     "end_time": "2022-11-23T22:12:32.254722",
     "exception": false,
     "start_time": "2022-11-23T22:11:16.574792",
     "status": "completed"
    },
    "tags": []
   },
   "outputs": [
    {
     "data": {
      "text/html": [
       "<div>\n",
       "<style scoped>\n",
       "    .dataframe tbody tr th:only-of-type {\n",
       "        vertical-align: middle;\n",
       "    }\n",
       "\n",
       "    .dataframe tbody tr th {\n",
       "        vertical-align: top;\n",
       "    }\n",
       "\n",
       "    .dataframe thead th {\n",
       "        text-align: right;\n",
       "    }\n",
       "</style>\n",
       "<table border=\"1\" class=\"dataframe\">\n",
       "  <thead>\n",
       "    <tr style=\"text-align: right;\">\n",
       "      <th></th>\n",
       "      <th>invoice</th>\n",
       "      <th>stockcode</th>\n",
       "      <th>description</th>\n",
       "      <th>quantity</th>\n",
       "      <th>invoicedate</th>\n",
       "      <th>price</th>\n",
       "      <th>customer id</th>\n",
       "      <th>country</th>\n",
       "    </tr>\n",
       "  </thead>\n",
       "  <tbody>\n",
       "    <tr>\n",
       "      <th>0</th>\n",
       "      <td>536365</td>\n",
       "      <td>85123A</td>\n",
       "      <td>WHITE HANGING HEART T-LIGHT HOLDER</td>\n",
       "      <td>6</td>\n",
       "      <td>2010-12-01 08:26:00</td>\n",
       "      <td>2.550</td>\n",
       "      <td>17850.000</td>\n",
       "      <td>United Kingdom</td>\n",
       "    </tr>\n",
       "    <tr>\n",
       "      <th>1</th>\n",
       "      <td>536365</td>\n",
       "      <td>71053</td>\n",
       "      <td>WHITE METAL LANTERN</td>\n",
       "      <td>6</td>\n",
       "      <td>2010-12-01 08:26:00</td>\n",
       "      <td>3.390</td>\n",
       "      <td>17850.000</td>\n",
       "      <td>United Kingdom</td>\n",
       "    </tr>\n",
       "    <tr>\n",
       "      <th>2</th>\n",
       "      <td>536365</td>\n",
       "      <td>84406B</td>\n",
       "      <td>CREAM CUPID HEARTS COAT HANGER</td>\n",
       "      <td>8</td>\n",
       "      <td>2010-12-01 08:26:00</td>\n",
       "      <td>2.750</td>\n",
       "      <td>17850.000</td>\n",
       "      <td>United Kingdom</td>\n",
       "    </tr>\n",
       "    <tr>\n",
       "      <th>3</th>\n",
       "      <td>536365</td>\n",
       "      <td>84029G</td>\n",
       "      <td>KNITTED UNION FLAG HOT WATER BOTTLE</td>\n",
       "      <td>6</td>\n",
       "      <td>2010-12-01 08:26:00</td>\n",
       "      <td>3.390</td>\n",
       "      <td>17850.000</td>\n",
       "      <td>United Kingdom</td>\n",
       "    </tr>\n",
       "    <tr>\n",
       "      <th>4</th>\n",
       "      <td>536365</td>\n",
       "      <td>84029E</td>\n",
       "      <td>RED WOOLLY HOTTIE WHITE HEART.</td>\n",
       "      <td>6</td>\n",
       "      <td>2010-12-01 08:26:00</td>\n",
       "      <td>3.390</td>\n",
       "      <td>17850.000</td>\n",
       "      <td>United Kingdom</td>\n",
       "    </tr>\n",
       "  </tbody>\n",
       "</table>\n",
       "</div>"
      ],
      "text/plain": [
       "  invoice stockcode                          description  quantity         invoicedate  price  customer id         country\n",
       "0  536365    85123A   WHITE HANGING HEART T-LIGHT HOLDER         6 2010-12-01 08:26:00  2.550    17850.000  United Kingdom\n",
       "1  536365     71053                  WHITE METAL LANTERN         6 2010-12-01 08:26:00  3.390    17850.000  United Kingdom\n",
       "2  536365    84406B       CREAM CUPID HEARTS COAT HANGER         8 2010-12-01 08:26:00  2.750    17850.000  United Kingdom\n",
       "3  536365    84029G  KNITTED UNION FLAG HOT WATER BOTTLE         6 2010-12-01 08:26:00  3.390    17850.000  United Kingdom\n",
       "4  536365    84029E       RED WOOLLY HOTTIE WHITE HEART.         6 2010-12-01 08:26:00  3.390    17850.000  United Kingdom"
      ]
     },
     "execution_count": 3,
     "metadata": {},
     "output_type": "execute_result"
    }
   ],
   "source": [
    "df_ = pd.read_excel('/kaggle/input/online-retail-dataset/online_retail_II.xlsx', sheet_name='Year 2010-2011')\n",
    "df = df_.copy()\n",
    "df.columns = [col.lower() for col in df.columns]\n",
    "df.head()"
   ]
  },
  {
   "cell_type": "markdown",
   "id": "88c0bd07",
   "metadata": {
    "papermill": {
     "duration": 0.013528,
     "end_time": "2022-11-23T22:12:32.282051",
     "exception": false,
     "start_time": "2022-11-23T22:12:32.268523",
     "status": "completed"
    },
    "tags": []
   },
   "source": [
    "# Let's prepare the data"
   ]
  },
  {
   "cell_type": "markdown",
   "id": "4aec3418",
   "metadata": {
    "papermill": {
     "duration": 0.014555,
     "end_time": "2022-11-23T22:12:32.310958",
     "exception": false,
     "start_time": "2022-11-23T22:12:32.296403",
     "status": "completed"
    },
    "tags": []
   },
   "source": [
    "### Let's see the missing values"
   ]
  },
  {
   "cell_type": "code",
   "execution_count": 4,
   "id": "81c2b5ae",
   "metadata": {
    "execution": {
     "iopub.execute_input": "2022-11-23T22:12:32.341699Z",
     "iopub.status.busy": "2022-11-23T22:12:32.341214Z",
     "iopub.status.idle": "2022-11-23T22:12:32.455285Z",
     "shell.execute_reply": "2022-11-23T22:12:32.454149Z"
    },
    "papermill": {
     "duration": 0.132613,
     "end_time": "2022-11-23T22:12:32.458316",
     "exception": false,
     "start_time": "2022-11-23T22:12:32.325703",
     "status": "completed"
    },
    "tags": []
   },
   "outputs": [
    {
     "data": {
      "text/plain": [
       "customer id    135080\n",
       "description      1454\n",
       "invoice             0\n",
       "stockcode           0\n",
       "quantity            0\n",
       "invoicedate         0\n",
       "price               0\n",
       "country             0\n",
       "dtype: int64"
      ]
     },
     "execution_count": 4,
     "metadata": {},
     "output_type": "execute_result"
    }
   ],
   "source": [
    "df.isnull().sum().sort_values(ascending=False)"
   ]
  },
  {
   "cell_type": "markdown",
   "id": "aa43aa00",
   "metadata": {
    "papermill": {
     "duration": 0.015442,
     "end_time": "2022-11-23T22:12:32.488611",
     "exception": false,
     "start_time": "2022-11-23T22:12:32.473169",
     "status": "completed"
    },
    "tags": []
   },
   "source": [
    "### Since there are missing data, let's remove them from the dataset"
   ]
  },
  {
   "cell_type": "code",
   "execution_count": 5,
   "id": "bd2df233",
   "metadata": {
    "execution": {
     "iopub.execute_input": "2022-11-23T22:12:32.520483Z",
     "iopub.status.busy": "2022-11-23T22:12:32.520031Z",
     "iopub.status.idle": "2022-11-23T22:12:32.776234Z",
     "shell.execute_reply": "2022-11-23T22:12:32.774587Z"
    },
    "papermill": {
     "duration": 0.274947,
     "end_time": "2022-11-23T22:12:32.778904",
     "exception": false,
     "start_time": "2022-11-23T22:12:32.503957",
     "status": "completed"
    },
    "tags": []
   },
   "outputs": [
    {
     "data": {
      "text/html": [
       "<div>\n",
       "<style scoped>\n",
       "    .dataframe tbody tr th:only-of-type {\n",
       "        vertical-align: middle;\n",
       "    }\n",
       "\n",
       "    .dataframe tbody tr th {\n",
       "        vertical-align: top;\n",
       "    }\n",
       "\n",
       "    .dataframe thead th {\n",
       "        text-align: right;\n",
       "    }\n",
       "</style>\n",
       "<table border=\"1\" class=\"dataframe\">\n",
       "  <thead>\n",
       "    <tr style=\"text-align: right;\">\n",
       "      <th></th>\n",
       "      <th>count</th>\n",
       "      <th>mean</th>\n",
       "      <th>std</th>\n",
       "      <th>min</th>\n",
       "      <th>25%</th>\n",
       "      <th>50%</th>\n",
       "      <th>75%</th>\n",
       "      <th>max</th>\n",
       "    </tr>\n",
       "  </thead>\n",
       "  <tbody>\n",
       "    <tr>\n",
       "      <th>quantity</th>\n",
       "      <td>406830.000</td>\n",
       "      <td>12.061</td>\n",
       "      <td>248.693</td>\n",
       "      <td>-80995.000</td>\n",
       "      <td>2.000</td>\n",
       "      <td>5.000</td>\n",
       "      <td>12.000</td>\n",
       "      <td>80995.000</td>\n",
       "    </tr>\n",
       "    <tr>\n",
       "      <th>price</th>\n",
       "      <td>406830.000</td>\n",
       "      <td>3.461</td>\n",
       "      <td>69.315</td>\n",
       "      <td>0.000</td>\n",
       "      <td>1.250</td>\n",
       "      <td>1.950</td>\n",
       "      <td>3.750</td>\n",
       "      <td>38970.000</td>\n",
       "    </tr>\n",
       "    <tr>\n",
       "      <th>customer id</th>\n",
       "      <td>406830.000</td>\n",
       "      <td>15287.684</td>\n",
       "      <td>1713.603</td>\n",
       "      <td>12346.000</td>\n",
       "      <td>13953.000</td>\n",
       "      <td>15152.000</td>\n",
       "      <td>16791.000</td>\n",
       "      <td>18287.000</td>\n",
       "    </tr>\n",
       "  </tbody>\n",
       "</table>\n",
       "</div>"
      ],
      "text/plain": [
       "                 count      mean      std        min       25%       50%       75%       max\n",
       "quantity    406830.000    12.061  248.693 -80995.000     2.000     5.000    12.000 80995.000\n",
       "price       406830.000     3.461   69.315      0.000     1.250     1.950     3.750 38970.000\n",
       "customer id 406830.000 15287.684 1713.603  12346.000 13953.000 15152.000 16791.000 18287.000"
      ]
     },
     "execution_count": 5,
     "metadata": {},
     "output_type": "execute_result"
    }
   ],
   "source": [
    "df.dropna(inplace=True)\n",
    "df.describe().T"
   ]
  },
  {
   "cell_type": "markdown",
   "id": "58701a5e",
   "metadata": {
    "papermill": {
     "duration": 0.015207,
     "end_time": "2022-11-23T22:12:32.809523",
     "exception": false,
     "start_time": "2022-11-23T22:12:32.794316",
     "status": "completed"
    },
    "tags": []
   },
   "source": [
    "### In this dataset, the returned products are marked with 'C' in the variable invoice. They must be removed from the dataset. Let's fix this"
   ]
  },
  {
   "cell_type": "code",
   "execution_count": 6,
   "id": "3b86d230",
   "metadata": {
    "execution": {
     "iopub.execute_input": "2022-11-23T22:12:32.840970Z",
     "iopub.status.busy": "2022-11-23T22:12:32.840351Z",
     "iopub.status.idle": "2022-11-23T22:12:33.405644Z",
     "shell.execute_reply": "2022-11-23T22:12:33.404432Z"
    },
    "papermill": {
     "duration": 0.584335,
     "end_time": "2022-11-23T22:12:33.408651",
     "exception": false,
     "start_time": "2022-11-23T22:12:32.824316",
     "status": "completed"
    },
    "tags": []
   },
   "outputs": [],
   "source": [
    "df = df[~df['invoice'].str.contains('C', na=False)]"
   ]
  },
  {
   "cell_type": "markdown",
   "id": "dc344c4e",
   "metadata": {
    "papermill": {
     "duration": 0.013857,
     "end_time": "2022-11-23T22:12:33.436936",
     "exception": false,
     "start_time": "2022-11-23T22:12:33.423079",
     "status": "completed"
    },
    "tags": []
   },
   "source": [
    "### The variables price and quantitiy must be bigger than 0. Let's fix this"
   ]
  },
  {
   "cell_type": "code",
   "execution_count": 7,
   "id": "08ff73f6",
   "metadata": {
    "execution": {
     "iopub.execute_input": "2022-11-23T22:12:33.467222Z",
     "iopub.status.busy": "2022-11-23T22:12:33.466815Z",
     "iopub.status.idle": "2022-11-23T22:12:33.634477Z",
     "shell.execute_reply": "2022-11-23T22:12:33.633087Z"
    },
    "papermill": {
     "duration": 0.186346,
     "end_time": "2022-11-23T22:12:33.637571",
     "exception": false,
     "start_time": "2022-11-23T22:12:33.451225",
     "status": "completed"
    },
    "tags": []
   },
   "outputs": [
    {
     "data": {
      "text/html": [
       "<div>\n",
       "<style scoped>\n",
       "    .dataframe tbody tr th:only-of-type {\n",
       "        vertical-align: middle;\n",
       "    }\n",
       "\n",
       "    .dataframe tbody tr th {\n",
       "        vertical-align: top;\n",
       "    }\n",
       "\n",
       "    .dataframe thead th {\n",
       "        text-align: right;\n",
       "    }\n",
       "</style>\n",
       "<table border=\"1\" class=\"dataframe\">\n",
       "  <thead>\n",
       "    <tr style=\"text-align: right;\">\n",
       "      <th></th>\n",
       "      <th>count</th>\n",
       "      <th>mean</th>\n",
       "      <th>std</th>\n",
       "      <th>min</th>\n",
       "      <th>25%</th>\n",
       "      <th>50%</th>\n",
       "      <th>75%</th>\n",
       "      <th>max</th>\n",
       "    </tr>\n",
       "  </thead>\n",
       "  <tbody>\n",
       "    <tr>\n",
       "      <th>quantity</th>\n",
       "      <td>397885.000</td>\n",
       "      <td>12.988</td>\n",
       "      <td>179.332</td>\n",
       "      <td>1.000</td>\n",
       "      <td>2.000</td>\n",
       "      <td>6.000</td>\n",
       "      <td>12.000</td>\n",
       "      <td>80995.000</td>\n",
       "    </tr>\n",
       "    <tr>\n",
       "      <th>price</th>\n",
       "      <td>397885.000</td>\n",
       "      <td>3.117</td>\n",
       "      <td>22.098</td>\n",
       "      <td>0.001</td>\n",
       "      <td>1.250</td>\n",
       "      <td>1.950</td>\n",
       "      <td>3.750</td>\n",
       "      <td>8142.750</td>\n",
       "    </tr>\n",
       "    <tr>\n",
       "      <th>customer id</th>\n",
       "      <td>397885.000</td>\n",
       "      <td>15294.417</td>\n",
       "      <td>1713.144</td>\n",
       "      <td>12346.000</td>\n",
       "      <td>13969.000</td>\n",
       "      <td>15159.000</td>\n",
       "      <td>16795.000</td>\n",
       "      <td>18287.000</td>\n",
       "    </tr>\n",
       "  </tbody>\n",
       "</table>\n",
       "</div>"
      ],
      "text/plain": [
       "                 count      mean      std       min       25%       50%       75%       max\n",
       "quantity    397885.000    12.988  179.332     1.000     2.000     6.000    12.000 80995.000\n",
       "price       397885.000     3.117   22.098     0.001     1.250     1.950     3.750  8142.750\n",
       "customer id 397885.000 15294.417 1713.144 12346.000 13969.000 15159.000 16795.000 18287.000"
      ]
     },
     "execution_count": 7,
     "metadata": {},
     "output_type": "execute_result"
    }
   ],
   "source": [
    "df = df[(df['quantity'] > 0)]\n",
    "df = df[(df['price'] > 0)]\n",
    "df.describe().T"
   ]
  },
  {
   "cell_type": "markdown",
   "id": "a7bdcc47",
   "metadata": {
    "papermill": {
     "duration": 0.01461,
     "end_time": "2022-11-23T22:12:33.667356",
     "exception": false,
     "start_time": "2022-11-23T22:12:33.652746",
     "status": "completed"
    },
    "tags": []
   },
   "source": [
    "### Let's see the outliers before supressing the outliers"
   ]
  },
  {
   "cell_type": "code",
   "execution_count": 8,
   "id": "f32e6248",
   "metadata": {
    "execution": {
     "iopub.execute_input": "2022-11-23T22:12:33.700846Z",
     "iopub.status.busy": "2022-11-23T22:12:33.699358Z",
     "iopub.status.idle": "2022-11-23T22:12:34.135454Z",
     "shell.execute_reply": "2022-11-23T22:12:34.134160Z"
    },
    "papermill": {
     "duration": 0.456333,
     "end_time": "2022-11-23T22:12:34.138464",
     "exception": false,
     "start_time": "2022-11-23T22:12:33.682131",
     "status": "completed"
    },
    "tags": []
   },
   "outputs": [
    {
     "data": {
      "image/png": "[encoded data removed]",
      "text/plain": [
       "<Figure size 432x288 with 2 Axes>"
      ]
     },
     "metadata": {
      "needs_background": "light"
     },
     "output_type": "display_data"
    }
   ],
   "source": [
    "plt.subplot(1, 2, 1)\n",
    "sns.boxplot(x = df['price'])\n",
    "plt.subplot(1, 2, 2)\n",
    "sns.boxplot(x = df['quantity'])\n",
    "plt.show(block=True)"
   ]
  },
  {
   "cell_type": "markdown",
   "id": "bbf65abc",
   "metadata": {
    "papermill": {
     "duration": 0.014355,
     "end_time": "2022-11-23T22:12:34.168095",
     "exception": false,
     "start_time": "2022-11-23T22:12:34.153740",
     "status": "completed"
    },
    "tags": []
   },
   "source": []
  },
  {
   "cell_type": "markdown",
   "id": "34724a4e",
   "metadata": {
    "papermill": {
     "duration": 0.014288,
     "end_time": "2022-11-23T22:12:34.197043",
     "exception": false,
     "start_time": "2022-11-23T22:12:34.182755",
     "status": "completed"
    },
    "tags": []
   },
   "source": [
    "### Let's replace outliers with thresholds determined"
   ]
  },
  {
   "cell_type": "code",
   "execution_count": 9,
   "id": "436f247f",
   "metadata": {
    "execution": {
     "iopub.execute_input": "2022-11-23T22:12:34.229851Z",
     "iopub.status.busy": "2022-11-23T22:12:34.229210Z",
     "iopub.status.idle": "2022-11-23T22:12:34.272063Z",
     "shell.execute_reply": "2022-11-23T22:12:34.270662Z"
    },
    "papermill": {
     "duration": 0.062366,
     "end_time": "2022-11-23T22:12:34.275055",
     "exception": false,
     "start_time": "2022-11-23T22:12:34.212689",
     "status": "completed"
    },
    "tags": []
   },
   "outputs": [],
   "source": [
    "# supressing the outliers\n",
    "def outlier_thresholds(dataframe, variable):\n",
    "    quartile1 = dataframe[variable].quantile(0.01)\n",
    "    quartile3 = dataframe[variable].quantile(0.99)\n",
    "    interquantile_range = quartile3 - quartile1\n",
    "    up_limit = quartile3 + 1.5 * interquantile_range\n",
    "    low_limit = quartile1 - 1.5 * interquantile_range\n",
    "    return low_limit, up_limit\n",
    "\n",
    "def replace_with_thresholds(dataframe, variable):\n",
    "    low_limit, up_limit = outlier_thresholds(dataframe, variable)\n",
    "    dataframe.loc[(dataframe[variable] < low_limit), variable] = round(low_limit, 0)\n",
    "    dataframe.loc[(dataframe[variable] > up_limit), variable] = round(up_limit, 0)\n",
    "    \n",
    "replace_with_thresholds(df, 'quantity')\n",
    "replace_with_thresholds(df, 'price')"
   ]
  },
  {
   "cell_type": "markdown",
   "id": "f168175b",
   "metadata": {
    "papermill": {
     "duration": 0.014314,
     "end_time": "2022-11-23T22:12:34.305106",
     "exception": false,
     "start_time": "2022-11-23T22:12:34.290792",
     "status": "completed"
    },
    "tags": []
   },
   "source": [
    "### Let's check again the outliers"
   ]
  },
  {
   "cell_type": "code",
   "execution_count": 10,
   "id": "e522435f",
   "metadata": {
    "execution": {
     "iopub.execute_input": "2022-11-23T22:12:34.338070Z",
     "iopub.status.busy": "2022-11-23T22:12:34.336712Z",
     "iopub.status.idle": "2022-11-23T22:12:34.717539Z",
     "shell.execute_reply": "2022-11-23T22:12:34.716304Z"
    },
    "papermill": {
     "duration": 0.399504,
     "end_time": "2022-11-23T22:12:34.720112",
     "exception": false,
     "start_time": "2022-11-23T22:12:34.320608",
     "status": "completed"
    },
    "tags": []
   },
   "outputs": [
    {
     "data": {
      "image/png": "[encoded data removed]",
      "text/plain": [
       "<Figure size 432x288 with 2 Axes>"
      ]
     },
     "metadata": {
      "needs_background": "light"
     },
     "output_type": "display_data"
    }
   ],
   "source": [
    "plt.subplot(1, 2, 1)\n",
    "sns.boxplot(x = df['price'])\n",
    "plt.subplot(1, 2, 2)\n",
    "sns.boxplot(x = df['quantity'])\n",
    "plt.show(block=True)"
   ]
  },
  {
   "cell_type": "markdown",
   "id": "ec562965",
   "metadata": {
    "papermill": {
     "duration": 0.014867,
     "end_time": "2022-11-23T22:12:34.749863",
     "exception": false,
     "start_time": "2022-11-23T22:12:34.734996",
     "status": "completed"
    },
    "tags": []
   },
   "source": [
    "### Therefore, a significant part of the outliers were removed from the dataset"
   ]
  },
  {
   "cell_type": "markdown",
   "id": "9bb19cb6",
   "metadata": {
    "papermill": {
     "duration": 0.015045,
     "end_time": "2022-11-23T22:12:34.780072",
     "exception": false,
     "start_time": "2022-11-23T22:12:34.765027",
     "status": "completed"
    },
    "tags": []
   },
   "source": [
    "### Let's create the variable 'total_price'"
   ]
  },
  {
   "cell_type": "code",
   "execution_count": 11,
   "id": "628a3478",
   "metadata": {
    "execution": {
     "iopub.execute_input": "2022-11-23T22:12:34.812264Z",
     "iopub.status.busy": "2022-11-23T22:12:34.811471Z",
     "iopub.status.idle": "2022-11-23T22:12:34.837756Z",
     "shell.execute_reply": "2022-11-23T22:12:34.836449Z"
    },
    "papermill": {
     "duration": 0.045274,
     "end_time": "2022-11-23T22:12:34.840517",
     "exception": false,
     "start_time": "2022-11-23T22:12:34.795243",
     "status": "completed"
    },
    "tags": []
   },
   "outputs": [
    {
     "data": {
      "text/html": [
       "<div>\n",
       "<style scoped>\n",
       "    .dataframe tbody tr th:only-of-type {\n",
       "        vertical-align: middle;\n",
       "    }\n",
       "\n",
       "    .dataframe tbody tr th {\n",
       "        vertical-align: top;\n",
       "    }\n",
       "\n",
       "    .dataframe thead th {\n",
       "        text-align: right;\n",
       "    }\n",
       "</style>\n",
       "<table border=\"1\" class=\"dataframe\">\n",
       "  <thead>\n",
       "    <tr style=\"text-align: right;\">\n",
       "      <th></th>\n",
       "      <th>invoice</th>\n",
       "      <th>stockcode</th>\n",
       "      <th>description</th>\n",
       "      <th>quantity</th>\n",
       "      <th>invoicedate</th>\n",
       "      <th>price</th>\n",
       "      <th>customer id</th>\n",
       "      <th>country</th>\n",
       "      <th>total_price</th>\n",
       "    </tr>\n",
       "  </thead>\n",
       "  <tbody>\n",
       "    <tr>\n",
       "      <th>0</th>\n",
       "      <td>536365</td>\n",
       "      <td>85123A</td>\n",
       "      <td>WHITE HANGING HEART T-LIGHT HOLDER</td>\n",
       "      <td>6</td>\n",
       "      <td>2010-12-01 08:26:00</td>\n",
       "      <td>2.550</td>\n",
       "      <td>17850.000</td>\n",
       "      <td>United Kingdom</td>\n",
       "      <td>15.300</td>\n",
       "    </tr>\n",
       "    <tr>\n",
       "      <th>1</th>\n",
       "      <td>536365</td>\n",
       "      <td>71053</td>\n",
       "      <td>WHITE METAL LANTERN</td>\n",
       "      <td>6</td>\n",
       "      <td>2010-12-01 08:26:00</td>\n",
       "      <td>3.390</td>\n",
       "      <td>17850.000</td>\n",
       "      <td>United Kingdom</td>\n",
       "      <td>20.340</td>\n",
       "    </tr>\n",
       "    <tr>\n",
       "      <th>2</th>\n",
       "      <td>536365</td>\n",
       "      <td>84406B</td>\n",
       "      <td>CREAM CUPID HEARTS COAT HANGER</td>\n",
       "      <td>8</td>\n",
       "      <td>2010-12-01 08:26:00</td>\n",
       "      <td>2.750</td>\n",
       "      <td>17850.000</td>\n",
       "      <td>United Kingdom</td>\n",
       "      <td>22.000</td>\n",
       "    </tr>\n",
       "    <tr>\n",
       "      <th>3</th>\n",
       "      <td>536365</td>\n",
       "      <td>84029G</td>\n",
       "      <td>KNITTED UNION FLAG HOT WATER BOTTLE</td>\n",
       "      <td>6</td>\n",
       "      <td>2010-12-01 08:26:00</td>\n",
       "      <td>3.390</td>\n",
       "      <td>17850.000</td>\n",
       "      <td>United Kingdom</td>\n",
       "      <td>20.340</td>\n",
       "    </tr>\n",
       "    <tr>\n",
       "      <th>4</th>\n",
       "      <td>536365</td>\n",
       "      <td>84029E</td>\n",
       "      <td>RED WOOLLY HOTTIE WHITE HEART.</td>\n",
       "      <td>6</td>\n",
       "      <td>2010-12-01 08:26:00</td>\n",
       "      <td>3.390</td>\n",
       "      <td>17850.000</td>\n",
       "      <td>United Kingdom</td>\n",
       "      <td>20.340</td>\n",
       "    </tr>\n",
       "    <tr>\n",
       "      <th>...</th>\n",
       "      <td>...</td>\n",
       "      <td>...</td>\n",
       "      <td>...</td>\n",
       "      <td>...</td>\n",
       "      <td>...</td>\n",
       "      <td>...</td>\n",
       "      <td>...</td>\n",
       "      <td>...</td>\n",
       "      <td>...</td>\n",
       "    </tr>\n",
       "    <tr>\n",
       "      <th>541905</th>\n",
       "      <td>581587</td>\n",
       "      <td>22899</td>\n",
       "      <td>CHILDREN'S APRON DOLLY GIRL</td>\n",
       "      <td>6</td>\n",
       "      <td>2011-12-09 12:50:00</td>\n",
       "      <td>2.100</td>\n",
       "      <td>12680.000</td>\n",
       "      <td>France</td>\n",
       "      <td>12.600</td>\n",
       "    </tr>\n",
       "    <tr>\n",
       "      <th>541906</th>\n",
       "      <td>581587</td>\n",
       "      <td>23254</td>\n",
       "      <td>CHILDRENS CUTLERY DOLLY GIRL</td>\n",
       "      <td>4</td>\n",
       "      <td>2011-12-09 12:50:00</td>\n",
       "      <td>4.150</td>\n",
       "      <td>12680.000</td>\n",
       "      <td>France</td>\n",
       "      <td>16.600</td>\n",
       "    </tr>\n",
       "    <tr>\n",
       "      <th>541907</th>\n",
       "      <td>581587</td>\n",
       "      <td>23255</td>\n",
       "      <td>CHILDRENS CUTLERY CIRCUS PARADE</td>\n",
       "      <td>4</td>\n",
       "      <td>2011-12-09 12:50:00</td>\n",
       "      <td>4.150</td>\n",
       "      <td>12680.000</td>\n",
       "      <td>France</td>\n",
       "      <td>16.600</td>\n",
       "    </tr>\n",
       "    <tr>\n",
       "      <th>541908</th>\n",
       "      <td>581587</td>\n",
       "      <td>22138</td>\n",
       "      <td>BAKING SET 9 PIECE RETROSPOT</td>\n",
       "      <td>3</td>\n",
       "      <td>2011-12-09 12:50:00</td>\n",
       "      <td>4.950</td>\n",
       "      <td>12680.000</td>\n",
       "      <td>France</td>\n",
       "      <td>14.850</td>\n",
       "    </tr>\n",
       "    <tr>\n",
       "      <th>541909</th>\n",
       "      <td>581587</td>\n",
       "      <td>POST</td>\n",
       "      <td>POSTAGE</td>\n",
       "      <td>1</td>\n",
       "      <td>2011-12-09 12:50:00</td>\n",
       "      <td>18.000</td>\n",
       "      <td>12680.000</td>\n",
       "      <td>France</td>\n",
       "      <td>18.000</td>\n",
       "    </tr>\n",
       "  </tbody>\n",
       "</table>\n",
       "<p>397885 rows × 9 columns</p>\n",
       "</div>"
      ],
      "text/plain": [
       "       invoice stockcode                          description  quantity         invoicedate  price  customer id         country  total_price\n",
       "0       536365    85123A   WHITE HANGING HEART T-LIGHT HOLDER         6 2010-12-01 08:26:00  2.550    17850.000  United Kingdom       15.300\n",
       "1       536365     71053                  WHITE METAL LANTERN         6 2010-12-01 08:26:00  3.390    17850.000  United Kingdom       20.340\n",
       "2       536365    84406B       CREAM CUPID HEARTS COAT HANGER         8 2010-12-01 08:26:00  2.750    17850.000  United Kingdom       22.000\n",
       "3       536365    84029G  KNITTED UNION FLAG HOT WATER BOTTLE         6 2010-12-01 08:26:00  3.390    17850.000  United Kingdom       20.340\n",
       "4       536365    84029E       RED WOOLLY HOTTIE WHITE HEART.         6 2010-12-01 08:26:00  3.390    17850.000  United Kingdom       20.340\n",
       "...        ...       ...                                  ...       ...                 ...    ...          ...             ...          ...\n",
       "541905  581587     22899         CHILDREN'S APRON DOLLY GIRL          6 2011-12-09 12:50:00  2.100    12680.000          France       12.600\n",
       "541906  581587     23254        CHILDRENS CUTLERY DOLLY GIRL          4 2011-12-09 12:50:00  4.150    12680.000          France       16.600\n",
       "541907  581587     23255      CHILDRENS CUTLERY CIRCUS PARADE         4 2011-12-09 12:50:00  4.150    12680.000          France       16.600\n",
       "541908  581587     22138        BAKING SET 9 PIECE RETROSPOT          3 2011-12-09 12:50:00  4.950    12680.000          France       14.850\n",
       "541909  581587      POST                              POSTAGE         1 2011-12-09 12:50:00 18.000    12680.000          France       18.000\n",
       "\n",
       "[397885 rows x 9 columns]"
      ]
     },
     "execution_count": 11,
     "metadata": {},
     "output_type": "execute_result"
    }
   ],
   "source": [
    "df['total_price'] = df['quantity'] * df['price']\n",
    "df"
   ]
  },
  {
   "cell_type": "markdown",
   "id": "825e2340",
   "metadata": {
    "papermill": {
     "duration": 0.015037,
     "end_time": "2022-11-23T22:12:34.871040",
     "exception": false,
     "start_time": "2022-11-23T22:12:34.856003",
     "status": "completed"
    },
    "tags": []
   },
   "source": [
    "### Let's define the analysis day for 2 days after"
   ]
  },
  {
   "cell_type": "code",
   "execution_count": 12,
   "id": "51fbdfb4",
   "metadata": {
    "execution": {
     "iopub.execute_input": "2022-11-23T22:12:34.904103Z",
     "iopub.status.busy": "2022-11-23T22:12:34.903645Z",
     "iopub.status.idle": "2022-11-23T22:12:34.911059Z",
     "shell.execute_reply": "2022-11-23T22:12:34.910156Z"
    },
    "papermill": {
     "duration": 0.026571,
     "end_time": "2022-11-23T22:12:34.913495",
     "exception": false,
     "start_time": "2022-11-23T22:12:34.886924",
     "status": "completed"
    },
    "tags": []
   },
   "outputs": [],
   "source": [
    "df['invoicedate'].max()\n",
    "today_date = dt.datetime(2011, 12, 11)"
   ]
  },
  {
   "cell_type": "markdown",
   "id": "e17cc9b6",
   "metadata": {
    "papermill": {
     "duration": 0.015147,
     "end_time": "2022-11-23T22:12:34.944626",
     "exception": false,
     "start_time": "2022-11-23T22:12:34.929479",
     "status": "completed"
    },
    "tags": []
   },
   "source": [
    "# Let's prepare the lifetime data structure"
   ]
  },
  {
   "cell_type": "markdown",
   "id": "f816eef2",
   "metadata": {
    "papermill": {
     "duration": 0.014978,
     "end_time": "2022-11-23T22:12:34.974939",
     "exception": false,
     "start_time": "2022-11-23T22:12:34.959961",
     "status": "completed"
    },
    "tags": []
   },
   "source": [
    "### Recency, tenure, frequency and monetary"
   ]
  },
  {
   "cell_type": "code",
   "execution_count": 13,
   "id": "6acd1283",
   "metadata": {
    "execution": {
     "iopub.execute_input": "2022-11-23T22:12:35.009174Z",
     "iopub.status.busy": "2022-11-23T22:12:35.008729Z",
     "iopub.status.idle": "2022-11-23T22:12:36.969460Z",
     "shell.execute_reply": "2022-11-23T22:12:36.968049Z"
    },
    "papermill": {
     "duration": 1.981322,
     "end_time": "2022-11-23T22:12:36.972139",
     "exception": false,
     "start_time": "2022-11-23T22:12:34.990817",
     "status": "completed"
    },
    "tags": []
   },
   "outputs": [
    {
     "data": {
      "text/html": [
       "<div>\n",
       "<style scoped>\n",
       "    .dataframe tbody tr th:only-of-type {\n",
       "        vertical-align: middle;\n",
       "    }\n",
       "\n",
       "    .dataframe tbody tr th {\n",
       "        vertical-align: top;\n",
       "    }\n",
       "\n",
       "    .dataframe thead tr th {\n",
       "        text-align: left;\n",
       "    }\n",
       "\n",
       "    .dataframe thead tr:last-of-type th {\n",
       "        text-align: right;\n",
       "    }\n",
       "</style>\n",
       "<table border=\"1\" class=\"dataframe\">\n",
       "  <thead>\n",
       "    <tr>\n",
       "      <th></th>\n",
       "      <th colspan=\"2\" halign=\"left\">invoicedate</th>\n",
       "      <th>invoice</th>\n",
       "      <th>total_price</th>\n",
       "    </tr>\n",
       "    <tr>\n",
       "      <th></th>\n",
       "      <th>&lt;lambda_0&gt;</th>\n",
       "      <th>&lt;lambda_1&gt;</th>\n",
       "      <th>&lt;lambda&gt;</th>\n",
       "      <th>&lt;lambda&gt;</th>\n",
       "    </tr>\n",
       "    <tr>\n",
       "      <th>customer id</th>\n",
       "      <th></th>\n",
       "      <th></th>\n",
       "      <th></th>\n",
       "      <th></th>\n",
       "    </tr>\n",
       "  </thead>\n",
       "  <tbody>\n",
       "    <tr>\n",
       "      <th>12346.000</th>\n",
       "      <td>0</td>\n",
       "      <td>326</td>\n",
       "      <td>1</td>\n",
       "      <td>309.920</td>\n",
       "    </tr>\n",
       "    <tr>\n",
       "      <th>12347.000</th>\n",
       "      <td>365</td>\n",
       "      <td>368</td>\n",
       "      <td>7</td>\n",
       "      <td>4310.000</td>\n",
       "    </tr>\n",
       "    <tr>\n",
       "      <th>12348.000</th>\n",
       "      <td>282</td>\n",
       "      <td>359</td>\n",
       "      <td>4</td>\n",
       "      <td>1770.240</td>\n",
       "    </tr>\n",
       "    <tr>\n",
       "      <th>12349.000</th>\n",
       "      <td>0</td>\n",
       "      <td>19</td>\n",
       "      <td>1</td>\n",
       "      <td>1491.600</td>\n",
       "    </tr>\n",
       "    <tr>\n",
       "      <th>12350.000</th>\n",
       "      <td>0</td>\n",
       "      <td>311</td>\n",
       "      <td>1</td>\n",
       "      <td>331.400</td>\n",
       "    </tr>\n",
       "    <tr>\n",
       "      <th>...</th>\n",
       "      <td>...</td>\n",
       "      <td>...</td>\n",
       "      <td>...</td>\n",
       "      <td>...</td>\n",
       "    </tr>\n",
       "    <tr>\n",
       "      <th>18280.000</th>\n",
       "      <td>0</td>\n",
       "      <td>278</td>\n",
       "      <td>1</td>\n",
       "      <td>180.600</td>\n",
       "    </tr>\n",
       "    <tr>\n",
       "      <th>18281.000</th>\n",
       "      <td>0</td>\n",
       "      <td>181</td>\n",
       "      <td>1</td>\n",
       "      <td>80.820</td>\n",
       "    </tr>\n",
       "    <tr>\n",
       "      <th>18282.000</th>\n",
       "      <td>118</td>\n",
       "      <td>127</td>\n",
       "      <td>2</td>\n",
       "      <td>178.050</td>\n",
       "    </tr>\n",
       "    <tr>\n",
       "      <th>18283.000</th>\n",
       "      <td>333</td>\n",
       "      <td>338</td>\n",
       "      <td>16</td>\n",
       "      <td>2094.880</td>\n",
       "    </tr>\n",
       "    <tr>\n",
       "      <th>18287.000</th>\n",
       "      <td>158</td>\n",
       "      <td>202</td>\n",
       "      <td>3</td>\n",
       "      <td>1837.280</td>\n",
       "    </tr>\n",
       "  </tbody>\n",
       "</table>\n",
       "<p>4338 rows × 4 columns</p>\n",
       "</div>"
      ],
      "text/plain": [
       "            invoicedate             invoice total_price\n",
       "             <lambda_0> <lambda_1> <lambda>    <lambda>\n",
       "customer id                                            \n",
       "12346.000             0        326        1     309.920\n",
       "12347.000           365        368        7    4310.000\n",
       "12348.000           282        359        4    1770.240\n",
       "12349.000             0         19        1    1491.600\n",
       "12350.000             0        311        1     331.400\n",
       "...                 ...        ...      ...         ...\n",
       "18280.000             0        278        1     180.600\n",
       "18281.000             0        181        1      80.820\n",
       "18282.000           118        127        2     178.050\n",
       "18283.000           333        338       16    2094.880\n",
       "18287.000           158        202        3    1837.280\n",
       "\n",
       "[4338 rows x 4 columns]"
      ]
     },
     "execution_count": 13,
     "metadata": {},
     "output_type": "execute_result"
    }
   ],
   "source": [
    "cltv_df = df.groupby('customer id').agg(\n",
    "    {'invoicedate': [lambda invoicedate: (invoicedate.max() - invoicedate.min()).days,\n",
    "        lambda invoicedate: (today_date - invoicedate.min()).days],\n",
    "    'invoice': lambda invoice: invoice.nunique(),\n",
    "    'total_price': lambda total_price: total_price.sum()})\n",
    "cltv_df"
   ]
  },
  {
   "cell_type": "markdown",
   "id": "65983703",
   "metadata": {
    "papermill": {
     "duration": 0.015493,
     "end_time": "2022-11-23T22:12:37.003767",
     "exception": false,
     "start_time": "2022-11-23T22:12:36.988274",
     "status": "completed"
    },
    "tags": []
   },
   "source": [
    "### There is hierarchical index problem in the output. Let's solve this problem"
   ]
  },
  {
   "cell_type": "code",
   "execution_count": 14,
   "id": "cf527198",
   "metadata": {
    "execution": {
     "iopub.execute_input": "2022-11-23T22:12:37.037426Z",
     "iopub.status.busy": "2022-11-23T22:12:37.036975Z",
     "iopub.status.idle": "2022-11-23T22:12:37.053087Z",
     "shell.execute_reply": "2022-11-23T22:12:37.051680Z"
    },
    "papermill": {
     "duration": 0.036243,
     "end_time": "2022-11-23T22:12:37.055549",
     "exception": false,
     "start_time": "2022-11-23T22:12:37.019306",
     "status": "completed"
    },
    "tags": []
   },
   "outputs": [
    {
     "data": {
      "text/html": [
       "<div>\n",
       "<style scoped>\n",
       "    .dataframe tbody tr th:only-of-type {\n",
       "        vertical-align: middle;\n",
       "    }\n",
       "\n",
       "    .dataframe tbody tr th {\n",
       "        vertical-align: top;\n",
       "    }\n",
       "\n",
       "    .dataframe thead th {\n",
       "        text-align: right;\n",
       "    }\n",
       "</style>\n",
       "<table border=\"1\" class=\"dataframe\">\n",
       "  <thead>\n",
       "    <tr style=\"text-align: right;\">\n",
       "      <th></th>\n",
       "      <th>&lt;lambda_0&gt;</th>\n",
       "      <th>&lt;lambda_1&gt;</th>\n",
       "      <th>&lt;lambda&gt;</th>\n",
       "      <th>&lt;lambda&gt;</th>\n",
       "    </tr>\n",
       "    <tr>\n",
       "      <th>customer id</th>\n",
       "      <th></th>\n",
       "      <th></th>\n",
       "      <th></th>\n",
       "      <th></th>\n",
       "    </tr>\n",
       "  </thead>\n",
       "  <tbody>\n",
       "    <tr>\n",
       "      <th>12346.000</th>\n",
       "      <td>0</td>\n",
       "      <td>326</td>\n",
       "      <td>1</td>\n",
       "      <td>309.920</td>\n",
       "    </tr>\n",
       "    <tr>\n",
       "      <th>12347.000</th>\n",
       "      <td>365</td>\n",
       "      <td>368</td>\n",
       "      <td>7</td>\n",
       "      <td>4310.000</td>\n",
       "    </tr>\n",
       "    <tr>\n",
       "      <th>12348.000</th>\n",
       "      <td>282</td>\n",
       "      <td>359</td>\n",
       "      <td>4</td>\n",
       "      <td>1770.240</td>\n",
       "    </tr>\n",
       "    <tr>\n",
       "      <th>12349.000</th>\n",
       "      <td>0</td>\n",
       "      <td>19</td>\n",
       "      <td>1</td>\n",
       "      <td>1491.600</td>\n",
       "    </tr>\n",
       "    <tr>\n",
       "      <th>12350.000</th>\n",
       "      <td>0</td>\n",
       "      <td>311</td>\n",
       "      <td>1</td>\n",
       "      <td>331.400</td>\n",
       "    </tr>\n",
       "    <tr>\n",
       "      <th>...</th>\n",
       "      <td>...</td>\n",
       "      <td>...</td>\n",
       "      <td>...</td>\n",
       "      <td>...</td>\n",
       "    </tr>\n",
       "    <tr>\n",
       "      <th>18280.000</th>\n",
       "      <td>0</td>\n",
       "      <td>278</td>\n",
       "      <td>1</td>\n",
       "      <td>180.600</td>\n",
       "    </tr>\n",
       "    <tr>\n",
       "      <th>18281.000</th>\n",
       "      <td>0</td>\n",
       "      <td>181</td>\n",
       "      <td>1</td>\n",
       "      <td>80.820</td>\n",
       "    </tr>\n",
       "    <tr>\n",
       "      <th>18282.000</th>\n",
       "      <td>118</td>\n",
       "      <td>127</td>\n",
       "      <td>2</td>\n",
       "      <td>178.050</td>\n",
       "    </tr>\n",
       "    <tr>\n",
       "      <th>18283.000</th>\n",
       "      <td>333</td>\n",
       "      <td>338</td>\n",
       "      <td>16</td>\n",
       "      <td>2094.880</td>\n",
       "    </tr>\n",
       "    <tr>\n",
       "      <th>18287.000</th>\n",
       "      <td>158</td>\n",
       "      <td>202</td>\n",
       "      <td>3</td>\n",
       "      <td>1837.280</td>\n",
       "    </tr>\n",
       "  </tbody>\n",
       "</table>\n",
       "<p>4338 rows × 4 columns</p>\n",
       "</div>"
      ],
      "text/plain": [
       "             <lambda_0>  <lambda_1>  <lambda>  <lambda>\n",
       "customer id                                            \n",
       "12346.000             0         326         1   309.920\n",
       "12347.000           365         368         7  4310.000\n",
       "12348.000           282         359         4  1770.240\n",
       "12349.000             0          19         1  1491.600\n",
       "12350.000             0         311         1   331.400\n",
       "...                 ...         ...       ...       ...\n",
       "18280.000             0         278         1   180.600\n",
       "18281.000             0         181         1    80.820\n",
       "18282.000           118         127         2   178.050\n",
       "18283.000           333         338        16  2094.880\n",
       "18287.000           158         202         3  1837.280\n",
       "\n",
       "[4338 rows x 4 columns]"
      ]
     },
     "execution_count": 14,
     "metadata": {},
     "output_type": "execute_result"
    }
   ],
   "source": [
    "cltv_df.columns = cltv_df.columns.droplevel(0)\n",
    "cltv_df"
   ]
  },
  {
   "cell_type": "markdown",
   "id": "8b27b550",
   "metadata": {
    "papermill": {
     "duration": 0.016838,
     "end_time": "2022-11-23T22:12:37.088117",
     "exception": false,
     "start_time": "2022-11-23T22:12:37.071279",
     "status": "completed"
    },
    "tags": []
   },
   "source": [
    "### Let's assign the varibale names as recency, tenure, frequency and monetary"
   ]
  },
  {
   "cell_type": "code",
   "execution_count": 15,
   "id": "6363bdb0",
   "metadata": {
    "execution": {
     "iopub.execute_input": "2022-11-23T22:12:37.123783Z",
     "iopub.status.busy": "2022-11-23T22:12:37.123303Z",
     "iopub.status.idle": "2022-11-23T22:12:37.138841Z",
     "shell.execute_reply": "2022-11-23T22:12:37.137643Z"
    },
    "papermill": {
     "duration": 0.036308,
     "end_time": "2022-11-23T22:12:37.141160",
     "exception": false,
     "start_time": "2022-11-23T22:12:37.104852",
     "status": "completed"
    },
    "tags": []
   },
   "outputs": [
    {
     "data": {
      "text/html": [
       "<div>\n",
       "<style scoped>\n",
       "    .dataframe tbody tr th:only-of-type {\n",
       "        vertical-align: middle;\n",
       "    }\n",
       "\n",
       "    .dataframe tbody tr th {\n",
       "        vertical-align: top;\n",
       "    }\n",
       "\n",
       "    .dataframe thead th {\n",
       "        text-align: right;\n",
       "    }\n",
       "</style>\n",
       "<table border=\"1\" class=\"dataframe\">\n",
       "  <thead>\n",
       "    <tr style=\"text-align: right;\">\n",
       "      <th></th>\n",
       "      <th>recency</th>\n",
       "      <th>tenure</th>\n",
       "      <th>frequency</th>\n",
       "      <th>monetary</th>\n",
       "    </tr>\n",
       "    <tr>\n",
       "      <th>customer id</th>\n",
       "      <th></th>\n",
       "      <th></th>\n",
       "      <th></th>\n",
       "      <th></th>\n",
       "    </tr>\n",
       "  </thead>\n",
       "  <tbody>\n",
       "    <tr>\n",
       "      <th>12346.000</th>\n",
       "      <td>0</td>\n",
       "      <td>326</td>\n",
       "      <td>1</td>\n",
       "      <td>309.920</td>\n",
       "    </tr>\n",
       "    <tr>\n",
       "      <th>12347.000</th>\n",
       "      <td>365</td>\n",
       "      <td>368</td>\n",
       "      <td>7</td>\n",
       "      <td>4310.000</td>\n",
       "    </tr>\n",
       "    <tr>\n",
       "      <th>12348.000</th>\n",
       "      <td>282</td>\n",
       "      <td>359</td>\n",
       "      <td>4</td>\n",
       "      <td>1770.240</td>\n",
       "    </tr>\n",
       "    <tr>\n",
       "      <th>12349.000</th>\n",
       "      <td>0</td>\n",
       "      <td>19</td>\n",
       "      <td>1</td>\n",
       "      <td>1491.600</td>\n",
       "    </tr>\n",
       "    <tr>\n",
       "      <th>12350.000</th>\n",
       "      <td>0</td>\n",
       "      <td>311</td>\n",
       "      <td>1</td>\n",
       "      <td>331.400</td>\n",
       "    </tr>\n",
       "    <tr>\n",
       "      <th>...</th>\n",
       "      <td>...</td>\n",
       "      <td>...</td>\n",
       "      <td>...</td>\n",
       "      <td>...</td>\n",
       "    </tr>\n",
       "    <tr>\n",
       "      <th>18280.000</th>\n",
       "      <td>0</td>\n",
       "      <td>278</td>\n",
       "      <td>1</td>\n",
       "      <td>180.600</td>\n",
       "    </tr>\n",
       "    <tr>\n",
       "      <th>18281.000</th>\n",
       "      <td>0</td>\n",
       "      <td>181</td>\n",
       "      <td>1</td>\n",
       "      <td>80.820</td>\n",
       "    </tr>\n",
       "    <tr>\n",
       "      <th>18282.000</th>\n",
       "      <td>118</td>\n",
       "      <td>127</td>\n",
       "      <td>2</td>\n",
       "      <td>178.050</td>\n",
       "    </tr>\n",
       "    <tr>\n",
       "      <th>18283.000</th>\n",
       "      <td>333</td>\n",
       "      <td>338</td>\n",
       "      <td>16</td>\n",
       "      <td>2094.880</td>\n",
       "    </tr>\n",
       "    <tr>\n",
       "      <th>18287.000</th>\n",
       "      <td>158</td>\n",
       "      <td>202</td>\n",
       "      <td>3</td>\n",
       "      <td>1837.280</td>\n",
       "    </tr>\n",
       "  </tbody>\n",
       "</table>\n",
       "<p>4338 rows × 4 columns</p>\n",
       "</div>"
      ],
      "text/plain": [
       "             recency  tenure  frequency  monetary\n",
       "customer id                                      \n",
       "12346.000          0     326          1   309.920\n",
       "12347.000        365     368          7  4310.000\n",
       "12348.000        282     359          4  1770.240\n",
       "12349.000          0      19          1  1491.600\n",
       "12350.000          0     311          1   331.400\n",
       "...              ...     ...        ...       ...\n",
       "18280.000          0     278          1   180.600\n",
       "18281.000          0     181          1    80.820\n",
       "18282.000        118     127          2   178.050\n",
       "18283.000        333     338         16  2094.880\n",
       "18287.000        158     202          3  1837.280\n",
       "\n",
       "[4338 rows x 4 columns]"
      ]
     },
     "execution_count": 15,
     "metadata": {},
     "output_type": "execute_result"
    }
   ],
   "source": [
    "cltv_df.columns = ['recency', 'tenure', 'frequency', 'monetary']\n",
    "cltv_df"
   ]
  },
  {
   "cell_type": "markdown",
   "id": "d82052dd",
   "metadata": {
    "papermill": {
     "duration": 0.015585,
     "end_time": "2022-11-23T22:12:37.173017",
     "exception": false,
     "start_time": "2022-11-23T22:12:37.157432",
     "status": "completed"
    },
    "tags": []
   },
   "source": [
    "### Let's convert the data to the type requested by the model"
   ]
  },
  {
   "cell_type": "code",
   "execution_count": 16,
   "id": "2906afd9",
   "metadata": {
    "execution": {
     "iopub.execute_input": "2022-11-23T22:12:37.207354Z",
     "iopub.status.busy": "2022-11-23T22:12:37.206857Z",
     "iopub.status.idle": "2022-11-23T22:12:37.231935Z",
     "shell.execute_reply": "2022-11-23T22:12:37.230548Z"
    },
    "papermill": {
     "duration": 0.046606,
     "end_time": "2022-11-23T22:12:37.235597",
     "exception": false,
     "start_time": "2022-11-23T22:12:37.188991",
     "status": "completed"
    },
    "tags": []
   },
   "outputs": [
    {
     "data": {
      "text/html": [
       "<div>\n",
       "<style scoped>\n",
       "    .dataframe tbody tr th:only-of-type {\n",
       "        vertical-align: middle;\n",
       "    }\n",
       "\n",
       "    .dataframe tbody tr th {\n",
       "        vertical-align: top;\n",
       "    }\n",
       "\n",
       "    .dataframe thead th {\n",
       "        text-align: right;\n",
       "    }\n",
       "</style>\n",
       "<table border=\"1\" class=\"dataframe\">\n",
       "  <thead>\n",
       "    <tr style=\"text-align: right;\">\n",
       "      <th></th>\n",
       "      <th>recency</th>\n",
       "      <th>tenure</th>\n",
       "      <th>frequency</th>\n",
       "      <th>monetary</th>\n",
       "    </tr>\n",
       "    <tr>\n",
       "      <th>customer id</th>\n",
       "      <th></th>\n",
       "      <th></th>\n",
       "      <th></th>\n",
       "      <th></th>\n",
       "    </tr>\n",
       "  </thead>\n",
       "  <tbody>\n",
       "    <tr>\n",
       "      <th>12347.000</th>\n",
       "      <td>52.143</td>\n",
       "      <td>52.571</td>\n",
       "      <td>7</td>\n",
       "      <td>615.714</td>\n",
       "    </tr>\n",
       "    <tr>\n",
       "      <th>12348.000</th>\n",
       "      <td>40.286</td>\n",
       "      <td>51.286</td>\n",
       "      <td>4</td>\n",
       "      <td>442.560</td>\n",
       "    </tr>\n",
       "    <tr>\n",
       "      <th>12352.000</th>\n",
       "      <td>37.143</td>\n",
       "      <td>42.429</td>\n",
       "      <td>8</td>\n",
       "      <td>219.468</td>\n",
       "    </tr>\n",
       "    <tr>\n",
       "      <th>12356.000</th>\n",
       "      <td>43.143</td>\n",
       "      <td>46.571</td>\n",
       "      <td>3</td>\n",
       "      <td>937.143</td>\n",
       "    </tr>\n",
       "    <tr>\n",
       "      <th>12358.000</th>\n",
       "      <td>21.286</td>\n",
       "      <td>21.571</td>\n",
       "      <td>2</td>\n",
       "      <td>575.030</td>\n",
       "    </tr>\n",
       "    <tr>\n",
       "      <th>...</th>\n",
       "      <td>...</td>\n",
       "      <td>...</td>\n",
       "      <td>...</td>\n",
       "      <td>...</td>\n",
       "    </tr>\n",
       "    <tr>\n",
       "      <th>18272.000</th>\n",
       "      <td>34.857</td>\n",
       "      <td>35.286</td>\n",
       "      <td>6</td>\n",
       "      <td>513.097</td>\n",
       "    </tr>\n",
       "    <tr>\n",
       "      <th>18273.000</th>\n",
       "      <td>36.429</td>\n",
       "      <td>36.857</td>\n",
       "      <td>3</td>\n",
       "      <td>68.000</td>\n",
       "    </tr>\n",
       "    <tr>\n",
       "      <th>18282.000</th>\n",
       "      <td>16.857</td>\n",
       "      <td>18.143</td>\n",
       "      <td>2</td>\n",
       "      <td>89.025</td>\n",
       "    </tr>\n",
       "    <tr>\n",
       "      <th>18283.000</th>\n",
       "      <td>47.571</td>\n",
       "      <td>48.286</td>\n",
       "      <td>16</td>\n",
       "      <td>130.930</td>\n",
       "    </tr>\n",
       "    <tr>\n",
       "      <th>18287.000</th>\n",
       "      <td>22.571</td>\n",
       "      <td>28.857</td>\n",
       "      <td>3</td>\n",
       "      <td>612.427</td>\n",
       "    </tr>\n",
       "  </tbody>\n",
       "</table>\n",
       "<p>2845 rows × 4 columns</p>\n",
       "</div>"
      ],
      "text/plain": [
       "             recency  tenure  frequency  monetary\n",
       "customer id                                      \n",
       "12347.000     52.143  52.571          7   615.714\n",
       "12348.000     40.286  51.286          4   442.560\n",
       "12352.000     37.143  42.429          8   219.468\n",
       "12356.000     43.143  46.571          3   937.143\n",
       "12358.000     21.286  21.571          2   575.030\n",
       "...              ...     ...        ...       ...\n",
       "18272.000     34.857  35.286          6   513.097\n",
       "18273.000     36.429  36.857          3    68.000\n",
       "18282.000     16.857  18.143          2    89.025\n",
       "18283.000     47.571  48.286         16   130.930\n",
       "18287.000     22.571  28.857          3   612.427\n",
       "\n",
       "[2845 rows x 4 columns]"
      ]
     },
     "execution_count": 16,
     "metadata": {},
     "output_type": "execute_result"
    }
   ],
   "source": [
    "cltv_df = cltv_df[(cltv_df['frequency'] > 1)]\n",
    "cltv_df['monetary'] = cltv_df['monetary'] / cltv_df['frequency']\n",
    "cltv_df['recency'] = cltv_df['recency'] / 7\n",
    "cltv_df['tenure'] = cltv_df['tenure'] / 7\n",
    "cltv_df"
   ]
  },
  {
   "cell_type": "markdown",
   "id": "e90b24d7",
   "metadata": {
    "papermill": {
     "duration": 0.025444,
     "end_time": "2022-11-23T22:12:37.279716",
     "exception": false,
     "start_time": "2022-11-23T22:12:37.254272",
     "status": "completed"
    },
    "tags": []
   },
   "source": [
    "# Let's establish the BG-NBD model"
   ]
  },
  {
   "cell_type": "code",
   "execution_count": 17,
   "id": "52ff049e",
   "metadata": {
    "execution": {
     "iopub.execute_input": "2022-11-23T22:12:37.328524Z",
     "iopub.status.busy": "2022-11-23T22:12:37.327228Z",
     "iopub.status.idle": "2022-11-23T22:12:37.478398Z",
     "shell.execute_reply": "2022-11-23T22:12:37.476648Z"
    },
    "papermill": {
     "duration": 0.179421,
     "end_time": "2022-11-23T22:12:37.483010",
     "exception": false,
     "start_time": "2022-11-23T22:12:37.303589",
     "status": "completed"
    },
    "tags": []
   },
   "outputs": [
    {
     "data": {
      "text/plain": [
       "<lifetimes.BetaGeoFitter: fitted with 2845 subjects, a: 0.12, alpha: 11.41, b: 2.49, r: 2.18>"
      ]
     },
     "execution_count": 17,
     "metadata": {},
     "output_type": "execute_result"
    }
   ],
   "source": [
    "bgf = BetaGeoFitter(penalizer_coef=0.001)\n",
    "bgf.fit(cltv_df['frequency'], cltv_df['recency'], cltv_df['tenure'])\n",
    "bgf"
   ]
  },
  {
   "cell_type": "markdown",
   "id": "2865b6f5",
   "metadata": {
    "papermill": {
     "duration": 0.043563,
     "end_time": "2022-11-23T22:12:37.571141",
     "exception": false,
     "start_time": "2022-11-23T22:12:37.527578",
     "status": "completed"
    },
    "tags": []
   },
   "source": [
    "### Let's get 10 customers with the most expected purchases in a week"
   ]
  },
  {
   "cell_type": "code",
   "execution_count": 18,
   "id": "895bc1c9",
   "metadata": {
    "execution": {
     "iopub.execute_input": "2022-11-23T22:12:37.618079Z",
     "iopub.status.busy": "2022-11-23T22:12:37.617681Z",
     "iopub.status.idle": "2022-11-23T22:12:37.638278Z",
     "shell.execute_reply": "2022-11-23T22:12:37.636963Z"
    },
    "papermill": {
     "duration": 0.04153,
     "end_time": "2022-11-23T22:12:37.640771",
     "exception": false,
     "start_time": "2022-11-23T22:12:37.599241",
     "status": "completed"
    },
    "tags": []
   },
   "outputs": [
    {
     "data": {
      "text/plain": [
       "customer id\n",
       "12748.000   3.250\n",
       "14911.000   3.126\n",
       "17841.000   1.940\n",
       "13089.000   1.537\n",
       "14606.000   1.464\n",
       "15311.000   1.434\n",
       "12971.000   1.357\n",
       "14646.000   1.206\n",
       "13408.000   0.986\n",
       "18102.000   0.969\n",
       "dtype: float64"
      ]
     },
     "execution_count": 18,
     "metadata": {},
     "output_type": "execute_result"
    }
   ],
   "source": [
    "bgf.conditional_expected_number_of_purchases_up_to_time(1, \n",
    "    cltv_df['frequency'], \n",
    "    cltv_df['recency'], \n",
    "    cltv_df['tenure']).sort_values(ascending=False).head(10)\n",
    "# or\n",
    "# bgf.predict(1, \n",
    "#     cltv_df['frequency'], \n",
    "#     cltv_df['recency'], \n",
    "#     cltv_df['tenure']).sort_values(ascending=False).head(10)"
   ]
  },
  {
   "cell_type": "markdown",
   "id": "ed721d5e",
   "metadata": {
    "papermill": {
     "duration": 0.016599,
     "end_time": "2022-11-23T22:12:37.673862",
     "exception": false,
     "start_time": "2022-11-23T22:12:37.657263",
     "status": "completed"
    },
    "tags": []
   },
   "source": [
    "### Let's add the expected purchases in a week into the dataframe cltv_df"
   ]
  },
  {
   "cell_type": "code",
   "execution_count": 19,
   "id": "af856202",
   "metadata": {
    "execution": {
     "iopub.execute_input": "2022-11-23T22:12:37.711562Z",
     "iopub.status.busy": "2022-11-23T22:12:37.710871Z",
     "iopub.status.idle": "2022-11-23T22:12:37.735661Z",
     "shell.execute_reply": "2022-11-23T22:12:37.734462Z"
    },
    "papermill": {
     "duration": 0.04667,
     "end_time": "2022-11-23T22:12:37.738176",
     "exception": false,
     "start_time": "2022-11-23T22:12:37.691506",
     "status": "completed"
    },
    "tags": []
   },
   "outputs": [
    {
     "data": {
      "text/html": [
       "<div>\n",
       "<style scoped>\n",
       "    .dataframe tbody tr th:only-of-type {\n",
       "        vertical-align: middle;\n",
       "    }\n",
       "\n",
       "    .dataframe tbody tr th {\n",
       "        vertical-align: top;\n",
       "    }\n",
       "\n",
       "    .dataframe thead th {\n",
       "        text-align: right;\n",
       "    }\n",
       "</style>\n",
       "<table border=\"1\" class=\"dataframe\">\n",
       "  <thead>\n",
       "    <tr style=\"text-align: right;\">\n",
       "      <th></th>\n",
       "      <th>recency</th>\n",
       "      <th>tenure</th>\n",
       "      <th>frequency</th>\n",
       "      <th>monetary</th>\n",
       "      <th>expected_purch_1_week</th>\n",
       "    </tr>\n",
       "    <tr>\n",
       "      <th>customer id</th>\n",
       "      <th></th>\n",
       "      <th></th>\n",
       "      <th></th>\n",
       "      <th></th>\n",
       "      <th></th>\n",
       "    </tr>\n",
       "  </thead>\n",
       "  <tbody>\n",
       "    <tr>\n",
       "      <th>12347.000</th>\n",
       "      <td>52.143</td>\n",
       "      <td>52.571</td>\n",
       "      <td>7</td>\n",
       "      <td>615.714</td>\n",
       "      <td>0.141</td>\n",
       "    </tr>\n",
       "    <tr>\n",
       "      <th>12348.000</th>\n",
       "      <td>40.286</td>\n",
       "      <td>51.286</td>\n",
       "      <td>4</td>\n",
       "      <td>442.560</td>\n",
       "      <td>0.092</td>\n",
       "    </tr>\n",
       "    <tr>\n",
       "      <th>12352.000</th>\n",
       "      <td>37.143</td>\n",
       "      <td>42.429</td>\n",
       "      <td>8</td>\n",
       "      <td>219.468</td>\n",
       "      <td>0.182</td>\n",
       "    </tr>\n",
       "    <tr>\n",
       "      <th>12356.000</th>\n",
       "      <td>43.143</td>\n",
       "      <td>46.571</td>\n",
       "      <td>3</td>\n",
       "      <td>937.143</td>\n",
       "      <td>0.086</td>\n",
       "    </tr>\n",
       "    <tr>\n",
       "      <th>12358.000</th>\n",
       "      <td>21.286</td>\n",
       "      <td>21.571</td>\n",
       "      <td>2</td>\n",
       "      <td>575.030</td>\n",
       "      <td>0.122</td>\n",
       "    </tr>\n",
       "    <tr>\n",
       "      <th>...</th>\n",
       "      <td>...</td>\n",
       "      <td>...</td>\n",
       "      <td>...</td>\n",
       "      <td>...</td>\n",
       "      <td>...</td>\n",
       "    </tr>\n",
       "    <tr>\n",
       "      <th>18272.000</th>\n",
       "      <td>34.857</td>\n",
       "      <td>35.286</td>\n",
       "      <td>6</td>\n",
       "      <td>513.097</td>\n",
       "      <td>0.172</td>\n",
       "    </tr>\n",
       "    <tr>\n",
       "      <th>18273.000</th>\n",
       "      <td>36.429</td>\n",
       "      <td>36.857</td>\n",
       "      <td>3</td>\n",
       "      <td>68.000</td>\n",
       "      <td>0.104</td>\n",
       "    </tr>\n",
       "    <tr>\n",
       "      <th>18282.000</th>\n",
       "      <td>16.857</td>\n",
       "      <td>18.143</td>\n",
       "      <td>2</td>\n",
       "      <td>89.025</td>\n",
       "      <td>0.136</td>\n",
       "    </tr>\n",
       "    <tr>\n",
       "      <th>18283.000</th>\n",
       "      <td>47.571</td>\n",
       "      <td>48.286</td>\n",
       "      <td>16</td>\n",
       "      <td>130.930</td>\n",
       "      <td>0.302</td>\n",
       "    </tr>\n",
       "    <tr>\n",
       "      <th>18287.000</th>\n",
       "      <td>22.571</td>\n",
       "      <td>28.857</td>\n",
       "      <td>3</td>\n",
       "      <td>612.427</td>\n",
       "      <td>0.121</td>\n",
       "    </tr>\n",
       "  </tbody>\n",
       "</table>\n",
       "<p>2845 rows × 5 columns</p>\n",
       "</div>"
      ],
      "text/plain": [
       "             recency  tenure  frequency  monetary  expected_purch_1_week\n",
       "customer id                                                             \n",
       "12347.000     52.143  52.571          7   615.714                  0.141\n",
       "12348.000     40.286  51.286          4   442.560                  0.092\n",
       "12352.000     37.143  42.429          8   219.468                  0.182\n",
       "12356.000     43.143  46.571          3   937.143                  0.086\n",
       "12358.000     21.286  21.571          2   575.030                  0.122\n",
       "...              ...     ...        ...       ...                    ...\n",
       "18272.000     34.857  35.286          6   513.097                  0.172\n",
       "18273.000     36.429  36.857          3    68.000                  0.104\n",
       "18282.000     16.857  18.143          2    89.025                  0.136\n",
       "18283.000     47.571  48.286         16   130.930                  0.302\n",
       "18287.000     22.571  28.857          3   612.427                  0.121\n",
       "\n",
       "[2845 rows x 5 columns]"
      ]
     },
     "execution_count": 19,
     "metadata": {},
     "output_type": "execute_result"
    }
   ],
   "source": [
    "cltv_df['expected_purch_1_week'] = bgf.predict(1, \n",
    "    cltv_df['frequency'], \n",
    "    cltv_df['recency'], \n",
    "    cltv_df['tenure'])\n",
    "cltv_df"
   ]
  },
  {
   "cell_type": "markdown",
   "id": "34dbc24a",
   "metadata": {
    "papermill": {
     "duration": 0.016349,
     "end_time": "2022-11-23T22:12:37.771602",
     "exception": false,
     "start_time": "2022-11-23T22:12:37.755253",
     "status": "completed"
    },
    "tags": []
   },
   "source": [
    "### Let's get 10 customers with the most expected purchases in a month"
   ]
  },
  {
   "cell_type": "code",
   "execution_count": 20,
   "id": "2bf7cb6a",
   "metadata": {
    "execution": {
     "iopub.execute_input": "2022-11-23T22:12:37.808948Z",
     "iopub.status.busy": "2022-11-23T22:12:37.808103Z",
     "iopub.status.idle": "2022-11-23T22:12:37.845010Z",
     "shell.execute_reply": "2022-11-23T22:12:37.843792Z"
    },
    "papermill": {
     "duration": 0.05867,
     "end_time": "2022-11-23T22:12:37.847645",
     "exception": false,
     "start_time": "2022-11-23T22:12:37.788975",
     "status": "completed"
    },
    "tags": []
   },
   "outputs": [
    {
     "data": {
      "text/html": [
       "<div>\n",
       "<style scoped>\n",
       "    .dataframe tbody tr th:only-of-type {\n",
       "        vertical-align: middle;\n",
       "    }\n",
       "\n",
       "    .dataframe tbody tr th {\n",
       "        vertical-align: top;\n",
       "    }\n",
       "\n",
       "    .dataframe thead th {\n",
       "        text-align: right;\n",
       "    }\n",
       "</style>\n",
       "<table border=\"1\" class=\"dataframe\">\n",
       "  <thead>\n",
       "    <tr style=\"text-align: right;\">\n",
       "      <th></th>\n",
       "      <th>recency</th>\n",
       "      <th>tenure</th>\n",
       "      <th>frequency</th>\n",
       "      <th>monetary</th>\n",
       "      <th>expected_purch_1_week</th>\n",
       "      <th>expected_purch_1_month</th>\n",
       "    </tr>\n",
       "    <tr>\n",
       "      <th>customer id</th>\n",
       "      <th></th>\n",
       "      <th></th>\n",
       "      <th></th>\n",
       "      <th></th>\n",
       "      <th></th>\n",
       "      <th></th>\n",
       "    </tr>\n",
       "  </thead>\n",
       "  <tbody>\n",
       "    <tr>\n",
       "      <th>12347.000</th>\n",
       "      <td>52.143</td>\n",
       "      <td>52.571</td>\n",
       "      <td>7</td>\n",
       "      <td>615.714</td>\n",
       "      <td>0.141</td>\n",
       "      <td>0.564</td>\n",
       "    </tr>\n",
       "    <tr>\n",
       "      <th>12348.000</th>\n",
       "      <td>40.286</td>\n",
       "      <td>51.286</td>\n",
       "      <td>4</td>\n",
       "      <td>442.560</td>\n",
       "      <td>0.092</td>\n",
       "      <td>0.367</td>\n",
       "    </tr>\n",
       "    <tr>\n",
       "      <th>12352.000</th>\n",
       "      <td>37.143</td>\n",
       "      <td>42.429</td>\n",
       "      <td>8</td>\n",
       "      <td>219.468</td>\n",
       "      <td>0.182</td>\n",
       "      <td>0.727</td>\n",
       "    </tr>\n",
       "    <tr>\n",
       "      <th>12356.000</th>\n",
       "      <td>43.143</td>\n",
       "      <td>46.571</td>\n",
       "      <td>3</td>\n",
       "      <td>937.143</td>\n",
       "      <td>0.086</td>\n",
       "      <td>0.344</td>\n",
       "    </tr>\n",
       "    <tr>\n",
       "      <th>12358.000</th>\n",
       "      <td>21.286</td>\n",
       "      <td>21.571</td>\n",
       "      <td>2</td>\n",
       "      <td>575.030</td>\n",
       "      <td>0.122</td>\n",
       "      <td>0.486</td>\n",
       "    </tr>\n",
       "    <tr>\n",
       "      <th>...</th>\n",
       "      <td>...</td>\n",
       "      <td>...</td>\n",
       "      <td>...</td>\n",
       "      <td>...</td>\n",
       "      <td>...</td>\n",
       "      <td>...</td>\n",
       "    </tr>\n",
       "    <tr>\n",
       "      <th>18272.000</th>\n",
       "      <td>34.857</td>\n",
       "      <td>35.286</td>\n",
       "      <td>6</td>\n",
       "      <td>513.097</td>\n",
       "      <td>0.172</td>\n",
       "      <td>0.686</td>\n",
       "    </tr>\n",
       "    <tr>\n",
       "      <th>18273.000</th>\n",
       "      <td>36.429</td>\n",
       "      <td>36.857</td>\n",
       "      <td>3</td>\n",
       "      <td>68.000</td>\n",
       "      <td>0.104</td>\n",
       "      <td>0.416</td>\n",
       "    </tr>\n",
       "    <tr>\n",
       "      <th>18282.000</th>\n",
       "      <td>16.857</td>\n",
       "      <td>18.143</td>\n",
       "      <td>2</td>\n",
       "      <td>89.025</td>\n",
       "      <td>0.136</td>\n",
       "      <td>0.539</td>\n",
       "    </tr>\n",
       "    <tr>\n",
       "      <th>18283.000</th>\n",
       "      <td>47.571</td>\n",
       "      <td>48.286</td>\n",
       "      <td>16</td>\n",
       "      <td>130.930</td>\n",
       "      <td>0.302</td>\n",
       "      <td>1.203</td>\n",
       "    </tr>\n",
       "    <tr>\n",
       "      <th>18287.000</th>\n",
       "      <td>22.571</td>\n",
       "      <td>28.857</td>\n",
       "      <td>3</td>\n",
       "      <td>612.427</td>\n",
       "      <td>0.121</td>\n",
       "      <td>0.481</td>\n",
       "    </tr>\n",
       "  </tbody>\n",
       "</table>\n",
       "<p>2845 rows × 6 columns</p>\n",
       "</div>"
      ],
      "text/plain": [
       "             recency  tenure  frequency  monetary  expected_purch_1_week  expected_purch_1_month\n",
       "customer id                                                                                     \n",
       "12347.000     52.143  52.571          7   615.714                  0.141                   0.564\n",
       "12348.000     40.286  51.286          4   442.560                  0.092                   0.367\n",
       "12352.000     37.143  42.429          8   219.468                  0.182                   0.727\n",
       "12356.000     43.143  46.571          3   937.143                  0.086                   0.344\n",
       "12358.000     21.286  21.571          2   575.030                  0.122                   0.486\n",
       "...              ...     ...        ...       ...                    ...                     ...\n",
       "18272.000     34.857  35.286          6   513.097                  0.172                   0.686\n",
       "18273.000     36.429  36.857          3    68.000                  0.104                   0.416\n",
       "18282.000     16.857  18.143          2    89.025                  0.136                   0.539\n",
       "18283.000     47.571  48.286         16   130.930                  0.302                   1.203\n",
       "18287.000     22.571  28.857          3   612.427                  0.121                   0.481\n",
       "\n",
       "[2845 rows x 6 columns]"
      ]
     },
     "execution_count": 20,
     "metadata": {},
     "output_type": "execute_result"
    }
   ],
   "source": [
    "bgf.predict(1 * 4, \n",
    "    cltv_df['frequency'], \n",
    "    cltv_df['recency'], \n",
    "    cltv_df['tenure']).sort_values(ascending=False).head(10)\n",
    "\n",
    "cltv_df['expected_purch_1_month'] = bgf.predict(1 * 4, \n",
    "    cltv_df['frequency'], \n",
    "    cltv_df['recency'], \n",
    "    cltv_df['tenure'])\n",
    "cltv_df"
   ]
  },
  {
   "cell_type": "markdown",
   "id": "cf520917",
   "metadata": {
    "papermill": {
     "duration": 0.016568,
     "end_time": "2022-11-23T22:12:37.881263",
     "exception": false,
     "start_time": "2022-11-23T22:12:37.864695",
     "status": "completed"
    },
    "tags": []
   },
   "source": [
    "### Let's reach the number of sales expected by the company in a 3-month period"
   ]
  },
  {
   "cell_type": "code",
   "execution_count": 21,
   "id": "e68f3df0",
   "metadata": {
    "execution": {
     "iopub.execute_input": "2022-11-23T22:12:37.918708Z",
     "iopub.status.busy": "2022-11-23T22:12:37.917439Z",
     "iopub.status.idle": "2022-11-23T22:12:37.954334Z",
     "shell.execute_reply": "2022-11-23T22:12:37.953161Z"
    },
    "papermill": {
     "duration": 0.058459,
     "end_time": "2022-11-23T22:12:37.957418",
     "exception": false,
     "start_time": "2022-11-23T22:12:37.898959",
     "status": "completed"
    },
    "tags": []
   },
   "outputs": [
    {
     "data": {
      "text/html": [
       "<div>\n",
       "<style scoped>\n",
       "    .dataframe tbody tr th:only-of-type {\n",
       "        vertical-align: middle;\n",
       "    }\n",
       "\n",
       "    .dataframe tbody tr th {\n",
       "        vertical-align: top;\n",
       "    }\n",
       "\n",
       "    .dataframe thead th {\n",
       "        text-align: right;\n",
       "    }\n",
       "</style>\n",
       "<table border=\"1\" class=\"dataframe\">\n",
       "  <thead>\n",
       "    <tr style=\"text-align: right;\">\n",
       "      <th></th>\n",
       "      <th>recency</th>\n",
       "      <th>tenure</th>\n",
       "      <th>frequency</th>\n",
       "      <th>monetary</th>\n",
       "      <th>expected_purch_1_week</th>\n",
       "      <th>expected_purch_1_month</th>\n",
       "      <th>expected_purch_3_month</th>\n",
       "    </tr>\n",
       "    <tr>\n",
       "      <th>customer id</th>\n",
       "      <th></th>\n",
       "      <th></th>\n",
       "      <th></th>\n",
       "      <th></th>\n",
       "      <th></th>\n",
       "      <th></th>\n",
       "      <th></th>\n",
       "    </tr>\n",
       "  </thead>\n",
       "  <tbody>\n",
       "    <tr>\n",
       "      <th>12347.000</th>\n",
       "      <td>52.143</td>\n",
       "      <td>52.571</td>\n",
       "      <td>7</td>\n",
       "      <td>615.714</td>\n",
       "      <td>0.141</td>\n",
       "      <td>0.564</td>\n",
       "      <td>1.678</td>\n",
       "    </tr>\n",
       "    <tr>\n",
       "      <th>12348.000</th>\n",
       "      <td>40.286</td>\n",
       "      <td>51.286</td>\n",
       "      <td>4</td>\n",
       "      <td>442.560</td>\n",
       "      <td>0.092</td>\n",
       "      <td>0.367</td>\n",
       "      <td>1.092</td>\n",
       "    </tr>\n",
       "    <tr>\n",
       "      <th>12352.000</th>\n",
       "      <td>37.143</td>\n",
       "      <td>42.429</td>\n",
       "      <td>8</td>\n",
       "      <td>219.468</td>\n",
       "      <td>0.182</td>\n",
       "      <td>0.727</td>\n",
       "      <td>2.163</td>\n",
       "    </tr>\n",
       "    <tr>\n",
       "      <th>12356.000</th>\n",
       "      <td>43.143</td>\n",
       "      <td>46.571</td>\n",
       "      <td>3</td>\n",
       "      <td>937.143</td>\n",
       "      <td>0.086</td>\n",
       "      <td>0.344</td>\n",
       "      <td>1.022</td>\n",
       "    </tr>\n",
       "    <tr>\n",
       "      <th>12358.000</th>\n",
       "      <td>21.286</td>\n",
       "      <td>21.571</td>\n",
       "      <td>2</td>\n",
       "      <td>575.030</td>\n",
       "      <td>0.122</td>\n",
       "      <td>0.486</td>\n",
       "      <td>1.439</td>\n",
       "    </tr>\n",
       "    <tr>\n",
       "      <th>...</th>\n",
       "      <td>...</td>\n",
       "      <td>...</td>\n",
       "      <td>...</td>\n",
       "      <td>...</td>\n",
       "      <td>...</td>\n",
       "      <td>...</td>\n",
       "      <td>...</td>\n",
       "    </tr>\n",
       "    <tr>\n",
       "      <th>18272.000</th>\n",
       "      <td>34.857</td>\n",
       "      <td>35.286</td>\n",
       "      <td>6</td>\n",
       "      <td>513.097</td>\n",
       "      <td>0.172</td>\n",
       "      <td>0.686</td>\n",
       "      <td>2.037</td>\n",
       "    </tr>\n",
       "    <tr>\n",
       "      <th>18273.000</th>\n",
       "      <td>36.429</td>\n",
       "      <td>36.857</td>\n",
       "      <td>3</td>\n",
       "      <td>68.000</td>\n",
       "      <td>0.104</td>\n",
       "      <td>0.416</td>\n",
       "      <td>1.235</td>\n",
       "    </tr>\n",
       "    <tr>\n",
       "      <th>18282.000</th>\n",
       "      <td>16.857</td>\n",
       "      <td>18.143</td>\n",
       "      <td>2</td>\n",
       "      <td>89.025</td>\n",
       "      <td>0.136</td>\n",
       "      <td>0.539</td>\n",
       "      <td>1.593</td>\n",
       "    </tr>\n",
       "    <tr>\n",
       "      <th>18283.000</th>\n",
       "      <td>47.571</td>\n",
       "      <td>48.286</td>\n",
       "      <td>16</td>\n",
       "      <td>130.930</td>\n",
       "      <td>0.302</td>\n",
       "      <td>1.203</td>\n",
       "      <td>3.583</td>\n",
       "    </tr>\n",
       "    <tr>\n",
       "      <th>18287.000</th>\n",
       "      <td>22.571</td>\n",
       "      <td>28.857</td>\n",
       "      <td>3</td>\n",
       "      <td>612.427</td>\n",
       "      <td>0.121</td>\n",
       "      <td>0.481</td>\n",
       "      <td>1.427</td>\n",
       "    </tr>\n",
       "  </tbody>\n",
       "</table>\n",
       "<p>2845 rows × 7 columns</p>\n",
       "</div>"
      ],
      "text/plain": [
       "             recency  tenure  frequency  monetary  expected_purch_1_week  expected_purch_1_month  expected_purch_3_month\n",
       "customer id                                                                                                             \n",
       "12347.000     52.143  52.571          7   615.714                  0.141                   0.564                   1.678\n",
       "12348.000     40.286  51.286          4   442.560                  0.092                   0.367                   1.092\n",
       "12352.000     37.143  42.429          8   219.468                  0.182                   0.727                   2.163\n",
       "12356.000     43.143  46.571          3   937.143                  0.086                   0.344                   1.022\n",
       "12358.000     21.286  21.571          2   575.030                  0.122                   0.486                   1.439\n",
       "...              ...     ...        ...       ...                    ...                     ...                     ...\n",
       "18272.000     34.857  35.286          6   513.097                  0.172                   0.686                   2.037\n",
       "18273.000     36.429  36.857          3    68.000                  0.104                   0.416                   1.235\n",
       "18282.000     16.857  18.143          2    89.025                  0.136                   0.539                   1.593\n",
       "18283.000     47.571  48.286         16   130.930                  0.302                   1.203                   3.583\n",
       "18287.000     22.571  28.857          3   612.427                  0.121                   0.481                   1.427\n",
       "\n",
       "[2845 rows x 7 columns]"
      ]
     },
     "execution_count": 21,
     "metadata": {},
     "output_type": "execute_result"
    }
   ],
   "source": [
    "bgf.predict(4 * 3, \n",
    "    cltv_df['frequency'], \n",
    "    cltv_df['recency'], \n",
    "    cltv_df['tenure']).sum()\n",
    "\n",
    "cltv_df['expected_purch_3_month'] = bgf.predict(3 * 4, \n",
    "    cltv_df['frequency'], \n",
    "    cltv_df['recency'], \n",
    "    cltv_df['tenure'])\n",
    "cltv_df"
   ]
  },
  {
   "cell_type": "markdown",
   "id": "b9d1c893",
   "metadata": {
    "papermill": {
     "duration": 0.017586,
     "end_time": "2022-11-23T22:12:37.992980",
     "exception": false,
     "start_time": "2022-11-23T22:12:37.975394",
     "status": "completed"
    },
    "tags": []
   },
   "source": [
    "### Let's evaluate the succes of the prediction results"
   ]
  },
  {
   "cell_type": "code",
   "execution_count": 22,
   "id": "baebe2ff",
   "metadata": {
    "execution": {
     "iopub.execute_input": "2022-11-23T22:12:38.030710Z",
     "iopub.status.busy": "2022-11-23T22:12:38.030242Z",
     "iopub.status.idle": "2022-11-23T22:12:38.886969Z",
     "shell.execute_reply": "2022-11-23T22:12:38.885850Z"
    },
    "papermill": {
     "duration": 0.878421,
     "end_time": "2022-11-23T22:12:38.889886",
     "exception": false,
     "start_time": "2022-11-23T22:12:38.011465",
     "status": "completed"
    },
    "tags": []
   },
   "outputs": [
    {
     "data": {
      "image/png": "[encoded data removed]",
      "text/plain": [
       "<Figure size 432x288 with 1 Axes>"
      ]
     },
     "metadata": {
      "needs_background": "light"
     },
     "output_type": "display_data"
    }
   ],
   "source": [
    "plot_period_transactions(bgf)\n",
    "plt.show(block=True)"
   ]
  },
  {
   "cell_type": "markdown",
   "id": "3f59feab",
   "metadata": {
    "papermill": {
     "duration": 0.017204,
     "end_time": "2022-11-23T22:12:38.924898",
     "exception": false,
     "start_time": "2022-11-23T22:12:38.907694",
     "status": "completed"
    },
    "tags": []
   },
   "source": [
    "# Let's establish the Gamma Gamma model"
   ]
  },
  {
   "cell_type": "code",
   "execution_count": 23,
   "id": "b46d6a32",
   "metadata": {
    "execution": {
     "iopub.execute_input": "2022-11-23T22:12:38.962347Z",
     "iopub.status.busy": "2022-11-23T22:12:38.961943Z",
     "iopub.status.idle": "2022-11-23T22:12:39.028174Z",
     "shell.execute_reply": "2022-11-23T22:12:39.026645Z"
    },
    "papermill": {
     "duration": 0.088658,
     "end_time": "2022-11-23T22:12:39.031212",
     "exception": false,
     "start_time": "2022-11-23T22:12:38.942554",
     "status": "completed"
    },
    "tags": []
   },
   "outputs": [
    {
     "data": {
      "text/plain": [
       "<lifetimes.GammaGammaFitter: fitted with 2845 subjects, p: 3.79, q: 0.34, v: 3.73>"
      ]
     },
     "execution_count": 23,
     "metadata": {},
     "output_type": "execute_result"
    }
   ],
   "source": [
    "ggf = GammaGammaFitter(penalizer_coef=0.01)\n",
    "ggf.fit(cltv_df['frequency'], cltv_df['monetary'])\n",
    "ggf"
   ]
  },
  {
   "cell_type": "markdown",
   "id": "eb118871",
   "metadata": {
    "papermill": {
     "duration": 0.017483,
     "end_time": "2022-11-23T22:12:39.066537",
     "exception": false,
     "start_time": "2022-11-23T22:12:39.049054",
     "status": "completed"
    },
    "tags": []
   },
   "source": [
    "### Let's reach the conditional_expected_averege profit values"
   ]
  },
  {
   "cell_type": "code",
   "execution_count": 24,
   "id": "a240e153",
   "metadata": {
    "execution": {
     "iopub.execute_input": "2022-11-23T22:12:39.104477Z",
     "iopub.status.busy": "2022-11-23T22:12:39.103730Z",
     "iopub.status.idle": "2022-11-23T22:12:39.115475Z",
     "shell.execute_reply": "2022-11-23T22:12:39.114458Z"
    },
    "papermill": {
     "duration": 0.033247,
     "end_time": "2022-11-23T22:12:39.117947",
     "exception": false,
     "start_time": "2022-11-23T22:12:39.084700",
     "status": "completed"
    },
    "tags": []
   },
   "outputs": [
    {
     "data": {
      "text/plain": [
       "customer id\n",
       "12347.000   631.912\n",
       "12348.000   463.605\n",
       "12352.000   224.810\n",
       "12356.000   995.998\n",
       "12358.000   631.705\n",
       "dtype: float64"
      ]
     },
     "execution_count": 24,
     "metadata": {},
     "output_type": "execute_result"
    }
   ],
   "source": [
    "ggf.conditional_expected_average_profit(\n",
    "    cltv_df['frequency'], cltv_df['monetary']).head()"
   ]
  },
  {
   "cell_type": "markdown",
   "id": "6a7b7606",
   "metadata": {
    "papermill": {
     "duration": 0.018344,
     "end_time": "2022-11-23T22:12:39.154649",
     "exception": false,
     "start_time": "2022-11-23T22:12:39.136305",
     "status": "completed"
    },
    "tags": []
   },
   "source": [
    "### Let's reach the conditional_expected_averege profit values in the ascending order"
   ]
  },
  {
   "cell_type": "code",
   "execution_count": 25,
   "id": "1766c886",
   "metadata": {
    "execution": {
     "iopub.execute_input": "2022-11-23T22:12:39.192674Z",
     "iopub.status.busy": "2022-11-23T22:12:39.191876Z",
     "iopub.status.idle": "2022-11-23T22:12:39.203194Z",
     "shell.execute_reply": "2022-11-23T22:12:39.202153Z"
    },
    "papermill": {
     "duration": 0.032992,
     "end_time": "2022-11-23T22:12:39.205637",
     "exception": false,
     "start_time": "2022-11-23T22:12:39.172645",
     "status": "completed"
    },
    "tags": []
   },
   "outputs": [
    {
     "data": {
      "text/plain": [
       "customer id\n",
       "12415.000   5771.632\n",
       "12590.000   5029.205\n",
       "12435.000   4288.941\n",
       "12409.000   3918.811\n",
       "14088.000   3917.106\n",
       "dtype: float64"
      ]
     },
     "execution_count": 25,
     "metadata": {},
     "output_type": "execute_result"
    }
   ],
   "source": [
    "ggf.conditional_expected_average_profit(\n",
    "    cltv_df['frequency'], \n",
    "    cltv_df['monetary']).sort_values(ascending=False).head()"
   ]
  },
  {
   "cell_type": "markdown",
   "id": "f652db29",
   "metadata": {
    "papermill": {
     "duration": 0.017403,
     "end_time": "2022-11-23T22:12:39.241104",
     "exception": false,
     "start_time": "2022-11-23T22:12:39.223701",
     "status": "completed"
    },
    "tags": []
   },
   "source": [
    "### Let's save the conditional_expected_averege profit values in the ascending order into the dataframe cltv_df"
   ]
  },
  {
   "cell_type": "code",
   "execution_count": 26,
   "id": "7d4ab062",
   "metadata": {
    "execution": {
     "iopub.execute_input": "2022-11-23T22:12:39.280662Z",
     "iopub.status.busy": "2022-11-23T22:12:39.280230Z",
     "iopub.status.idle": "2022-11-23T22:12:39.299465Z",
     "shell.execute_reply": "2022-11-23T22:12:39.298314Z"
    },
    "papermill": {
     "duration": 0.043145,
     "end_time": "2022-11-23T22:12:39.301984",
     "exception": false,
     "start_time": "2022-11-23T22:12:39.258839",
     "status": "completed"
    },
    "tags": []
   },
   "outputs": [
    {
     "data": {
      "text/html": [
       "<div>\n",
       "<style scoped>\n",
       "    .dataframe tbody tr th:only-of-type {\n",
       "        vertical-align: middle;\n",
       "    }\n",
       "\n",
       "    .dataframe tbody tr th {\n",
       "        vertical-align: top;\n",
       "    }\n",
       "\n",
       "    .dataframe thead th {\n",
       "        text-align: right;\n",
       "    }\n",
       "</style>\n",
       "<table border=\"1\" class=\"dataframe\">\n",
       "  <thead>\n",
       "    <tr style=\"text-align: right;\">\n",
       "      <th></th>\n",
       "      <th>recency</th>\n",
       "      <th>tenure</th>\n",
       "      <th>frequency</th>\n",
       "      <th>monetary</th>\n",
       "      <th>expected_purch_1_week</th>\n",
       "      <th>expected_purch_1_month</th>\n",
       "      <th>expected_purch_3_month</th>\n",
       "      <th>expected_average_profit</th>\n",
       "    </tr>\n",
       "    <tr>\n",
       "      <th>customer id</th>\n",
       "      <th></th>\n",
       "      <th></th>\n",
       "      <th></th>\n",
       "      <th></th>\n",
       "      <th></th>\n",
       "      <th></th>\n",
       "      <th></th>\n",
       "      <th></th>\n",
       "    </tr>\n",
       "  </thead>\n",
       "  <tbody>\n",
       "    <tr>\n",
       "      <th>12347.000</th>\n",
       "      <td>52.143</td>\n",
       "      <td>52.571</td>\n",
       "      <td>7</td>\n",
       "      <td>615.714</td>\n",
       "      <td>0.141</td>\n",
       "      <td>0.564</td>\n",
       "      <td>1.678</td>\n",
       "      <td>631.912</td>\n",
       "    </tr>\n",
       "    <tr>\n",
       "      <th>12348.000</th>\n",
       "      <td>40.286</td>\n",
       "      <td>51.286</td>\n",
       "      <td>4</td>\n",
       "      <td>442.560</td>\n",
       "      <td>0.092</td>\n",
       "      <td>0.367</td>\n",
       "      <td>1.092</td>\n",
       "      <td>463.605</td>\n",
       "    </tr>\n",
       "    <tr>\n",
       "      <th>12352.000</th>\n",
       "      <td>37.143</td>\n",
       "      <td>42.429</td>\n",
       "      <td>8</td>\n",
       "      <td>219.468</td>\n",
       "      <td>0.182</td>\n",
       "      <td>0.727</td>\n",
       "      <td>2.163</td>\n",
       "      <td>224.810</td>\n",
       "    </tr>\n",
       "    <tr>\n",
       "      <th>12356.000</th>\n",
       "      <td>43.143</td>\n",
       "      <td>46.571</td>\n",
       "      <td>3</td>\n",
       "      <td>937.143</td>\n",
       "      <td>0.086</td>\n",
       "      <td>0.344</td>\n",
       "      <td>1.022</td>\n",
       "      <td>995.998</td>\n",
       "    </tr>\n",
       "    <tr>\n",
       "      <th>12358.000</th>\n",
       "      <td>21.286</td>\n",
       "      <td>21.571</td>\n",
       "      <td>2</td>\n",
       "      <td>575.030</td>\n",
       "      <td>0.122</td>\n",
       "      <td>0.486</td>\n",
       "      <td>1.439</td>\n",
       "      <td>631.705</td>\n",
       "    </tr>\n",
       "    <tr>\n",
       "      <th>...</th>\n",
       "      <td>...</td>\n",
       "      <td>...</td>\n",
       "      <td>...</td>\n",
       "      <td>...</td>\n",
       "      <td>...</td>\n",
       "      <td>...</td>\n",
       "      <td>...</td>\n",
       "      <td>...</td>\n",
       "    </tr>\n",
       "    <tr>\n",
       "      <th>18272.000</th>\n",
       "      <td>34.857</td>\n",
       "      <td>35.286</td>\n",
       "      <td>6</td>\n",
       "      <td>513.097</td>\n",
       "      <td>0.172</td>\n",
       "      <td>0.686</td>\n",
       "      <td>2.037</td>\n",
       "      <td>529.018</td>\n",
       "    </tr>\n",
       "    <tr>\n",
       "      <th>18273.000</th>\n",
       "      <td>36.429</td>\n",
       "      <td>36.857</td>\n",
       "      <td>3</td>\n",
       "      <td>68.000</td>\n",
       "      <td>0.104</td>\n",
       "      <td>0.416</td>\n",
       "      <td>1.235</td>\n",
       "      <td>73.494</td>\n",
       "    </tr>\n",
       "    <tr>\n",
       "      <th>18282.000</th>\n",
       "      <td>16.857</td>\n",
       "      <td>18.143</td>\n",
       "      <td>2</td>\n",
       "      <td>89.025</td>\n",
       "      <td>0.136</td>\n",
       "      <td>0.539</td>\n",
       "      <td>1.593</td>\n",
       "      <td>99.525</td>\n",
       "    </tr>\n",
       "    <tr>\n",
       "      <th>18283.000</th>\n",
       "      <td>47.571</td>\n",
       "      <td>48.286</td>\n",
       "      <td>16</td>\n",
       "      <td>130.930</td>\n",
       "      <td>0.302</td>\n",
       "      <td>1.203</td>\n",
       "      <td>3.583</td>\n",
       "      <td>132.601</td>\n",
       "    </tr>\n",
       "    <tr>\n",
       "      <th>18287.000</th>\n",
       "      <td>22.571</td>\n",
       "      <td>28.857</td>\n",
       "      <td>3</td>\n",
       "      <td>612.427</td>\n",
       "      <td>0.121</td>\n",
       "      <td>0.481</td>\n",
       "      <td>1.427</td>\n",
       "      <td>651.346</td>\n",
       "    </tr>\n",
       "  </tbody>\n",
       "</table>\n",
       "<p>2845 rows × 8 columns</p>\n",
       "</div>"
      ],
      "text/plain": [
       "             recency  tenure  frequency  monetary  expected_purch_1_week  expected_purch_1_month  expected_purch_3_month  expected_average_profit\n",
       "customer id                                                                                                                                      \n",
       "12347.000     52.143  52.571          7   615.714                  0.141                   0.564                   1.678                  631.912\n",
       "12348.000     40.286  51.286          4   442.560                  0.092                   0.367                   1.092                  463.605\n",
       "12352.000     37.143  42.429          8   219.468                  0.182                   0.727                   2.163                  224.810\n",
       "12356.000     43.143  46.571          3   937.143                  0.086                   0.344                   1.022                  995.998\n",
       "12358.000     21.286  21.571          2   575.030                  0.122                   0.486                   1.439                  631.705\n",
       "...              ...     ...        ...       ...                    ...                     ...                     ...                      ...\n",
       "18272.000     34.857  35.286          6   513.097                  0.172                   0.686                   2.037                  529.018\n",
       "18273.000     36.429  36.857          3    68.000                  0.104                   0.416                   1.235                   73.494\n",
       "18282.000     16.857  18.143          2    89.025                  0.136                   0.539                   1.593                   99.525\n",
       "18283.000     47.571  48.286         16   130.930                  0.302                   1.203                   3.583                  132.601\n",
       "18287.000     22.571  28.857          3   612.427                  0.121                   0.481                   1.427                  651.346\n",
       "\n",
       "[2845 rows x 8 columns]"
      ]
     },
     "execution_count": 26,
     "metadata": {},
     "output_type": "execute_result"
    }
   ],
   "source": [
    "cltv_df['expected_average_profit'] = ggf.conditional_expected_average_profit(\n",
    "    cltv_df['frequency'], \n",
    "    cltv_df['monetary'])\n",
    "cltv_df"
   ]
  },
  {
   "cell_type": "markdown",
   "id": "c2628457",
   "metadata": {
    "papermill": {
     "duration": 0.018956,
     "end_time": "2022-11-23T22:12:39.341079",
     "exception": false,
     "start_time": "2022-11-23T22:12:39.322123",
     "status": "completed"
    },
    "tags": []
   },
   "source": [
    "# Let's calculate the cltv using BG-NBD and GG models"
   ]
  },
  {
   "cell_type": "code",
   "execution_count": 27,
   "id": "de152eb1",
   "metadata": {
    "execution": {
     "iopub.execute_input": "2022-11-23T22:12:39.382196Z",
     "iopub.status.busy": "2022-11-23T22:12:39.381754Z",
     "iopub.status.idle": "2022-11-23T22:12:39.447936Z",
     "shell.execute_reply": "2022-11-23T22:12:39.446859Z"
    },
    "papermill": {
     "duration": 0.09079,
     "end_time": "2022-11-23T22:12:39.451094",
     "exception": false,
     "start_time": "2022-11-23T22:12:39.360304",
     "status": "completed"
    },
    "tags": []
   },
   "outputs": [
    {
     "data": {
      "text/plain": [
       "customer id\n",
       "14646.000   55735.470\n",
       "18102.000   47379.080\n",
       "14096.000   29061.237\n",
       "12415.000   27682.481\n",
       "14911.000   27376.165\n",
       "               ...   \n",
       "17912.000       0.905\n",
       "15332.000       0.701\n",
       "16725.000       0.550\n",
       "15107.000       0.395\n",
       "17850.000       0.000\n",
       "Name: clv, Length: 2845, dtype: float64"
      ]
     },
     "execution_count": 27,
     "metadata": {},
     "output_type": "execute_result"
    }
   ],
   "source": [
    "cltv = ggf.customer_lifetime_value(bgf, \n",
    "                                cltv_df['frequency'], \n",
    "                                cltv_df['recency'], \n",
    "                                cltv_df['tenure'], \n",
    "                                cltv_df['monetary'], \n",
    "                                time = 3, # 3 months\n",
    "                                freq = 'W',  # frequency iformation of tenure in weekly\n",
    "                                discount_rate = 0.01)\n",
    "\n",
    "cltv.sort_values(ascending=False)"
   ]
  },
  {
   "cell_type": "markdown",
   "id": "db6d388c",
   "metadata": {
    "papermill": {
     "duration": 0.018014,
     "end_time": "2022-11-23T22:12:39.488168",
     "exception": false,
     "start_time": "2022-11-23T22:12:39.470154",
     "status": "completed"
    },
    "tags": []
   },
   "source": [
    "### There is an index problem in the output yielded. Let's fix this"
   ]
  },
  {
   "cell_type": "code",
   "execution_count": 28,
   "id": "18c16912",
   "metadata": {
    "execution": {
     "iopub.execute_input": "2022-11-23T22:12:39.526759Z",
     "iopub.status.busy": "2022-11-23T22:12:39.526301Z",
     "iopub.status.idle": "2022-11-23T22:12:39.541240Z",
     "shell.execute_reply": "2022-11-23T22:12:39.540434Z"
    },
    "papermill": {
     "duration": 0.037095,
     "end_time": "2022-11-23T22:12:39.543615",
     "exception": false,
     "start_time": "2022-11-23T22:12:39.506520",
     "status": "completed"
    },
    "tags": []
   },
   "outputs": [
    {
     "data": {
      "text/html": [
       "<div>\n",
       "<style scoped>\n",
       "    .dataframe tbody tr th:only-of-type {\n",
       "        vertical-align: middle;\n",
       "    }\n",
       "\n",
       "    .dataframe tbody tr th {\n",
       "        vertical-align: top;\n",
       "    }\n",
       "\n",
       "    .dataframe thead th {\n",
       "        text-align: right;\n",
       "    }\n",
       "</style>\n",
       "<table border=\"1\" class=\"dataframe\">\n",
       "  <thead>\n",
       "    <tr style=\"text-align: right;\">\n",
       "      <th></th>\n",
       "      <th>customer id</th>\n",
       "      <th>clv</th>\n",
       "    </tr>\n",
       "  </thead>\n",
       "  <tbody>\n",
       "    <tr>\n",
       "      <th>0</th>\n",
       "      <td>12347.000</td>\n",
       "      <td>1128.447</td>\n",
       "    </tr>\n",
       "    <tr>\n",
       "      <th>1</th>\n",
       "      <td>12348.000</td>\n",
       "      <td>538.645</td>\n",
       "    </tr>\n",
       "    <tr>\n",
       "      <th>2</th>\n",
       "      <td>12352.000</td>\n",
       "      <td>517.324</td>\n",
       "    </tr>\n",
       "    <tr>\n",
       "      <th>3</th>\n",
       "      <td>12356.000</td>\n",
       "      <td>1083.090</td>\n",
       "    </tr>\n",
       "    <tr>\n",
       "      <th>4</th>\n",
       "      <td>12358.000</td>\n",
       "      <td>966.370</td>\n",
       "    </tr>\n",
       "    <tr>\n",
       "      <th>...</th>\n",
       "      <td>...</td>\n",
       "      <td>...</td>\n",
       "    </tr>\n",
       "    <tr>\n",
       "      <th>2840</th>\n",
       "      <td>18272.000</td>\n",
       "      <td>1146.205</td>\n",
       "    </tr>\n",
       "    <tr>\n",
       "      <th>2841</th>\n",
       "      <td>18273.000</td>\n",
       "      <td>96.565</td>\n",
       "    </tr>\n",
       "    <tr>\n",
       "      <th>2842</th>\n",
       "      <td>18282.000</td>\n",
       "      <td>168.594</td>\n",
       "    </tr>\n",
       "    <tr>\n",
       "      <th>2843</th>\n",
       "      <td>18283.000</td>\n",
       "      <td>505.512</td>\n",
       "    </tr>\n",
       "    <tr>\n",
       "      <th>2844</th>\n",
       "      <td>18287.000</td>\n",
       "      <td>988.302</td>\n",
       "    </tr>\n",
       "  </tbody>\n",
       "</table>\n",
       "<p>2845 rows × 2 columns</p>\n",
       "</div>"
      ],
      "text/plain": [
       "      customer id      clv\n",
       "0       12347.000 1128.447\n",
       "1       12348.000  538.645\n",
       "2       12352.000  517.324\n",
       "3       12356.000 1083.090\n",
       "4       12358.000  966.370\n",
       "...           ...      ...\n",
       "2840    18272.000 1146.205\n",
       "2841    18273.000   96.565\n",
       "2842    18282.000  168.594\n",
       "2843    18283.000  505.512\n",
       "2844    18287.000  988.302\n",
       "\n",
       "[2845 rows x 2 columns]"
      ]
     },
     "execution_count": 28,
     "metadata": {},
     "output_type": "execute_result"
    }
   ],
   "source": [
    "cltv = cltv.reset_index()\n",
    "cltv"
   ]
  },
  {
   "cell_type": "markdown",
   "id": "aa55fb2c",
   "metadata": {
    "papermill": {
     "duration": 0.018459,
     "end_time": "2022-11-23T22:12:39.581186",
     "exception": false,
     "start_time": "2022-11-23T22:12:39.562727",
     "status": "completed"
    },
    "tags": []
   },
   "source": [
    "# Let's create final dataframe"
   ]
  },
  {
   "cell_type": "code",
   "execution_count": 29,
   "id": "81d05517",
   "metadata": {
    "execution": {
     "iopub.execute_input": "2022-11-23T22:12:39.621347Z",
     "iopub.status.busy": "2022-11-23T22:12:39.620649Z",
     "iopub.status.idle": "2022-11-23T22:12:39.642578Z",
     "shell.execute_reply": "2022-11-23T22:12:39.641246Z"
    },
    "papermill": {
     "duration": 0.044913,
     "end_time": "2022-11-23T22:12:39.645493",
     "exception": false,
     "start_time": "2022-11-23T22:12:39.600580",
     "status": "completed"
    },
    "tags": []
   },
   "outputs": [
    {
     "data": {
      "text/html": [
       "<div>\n",
       "<style scoped>\n",
       "    .dataframe tbody tr th:only-of-type {\n",
       "        vertical-align: middle;\n",
       "    }\n",
       "\n",
       "    .dataframe tbody tr th {\n",
       "        vertical-align: top;\n",
       "    }\n",
       "\n",
       "    .dataframe thead th {\n",
       "        text-align: right;\n",
       "    }\n",
       "</style>\n",
       "<table border=\"1\" class=\"dataframe\">\n",
       "  <thead>\n",
       "    <tr style=\"text-align: right;\">\n",
       "      <th></th>\n",
       "      <th>customer id</th>\n",
       "      <th>recency</th>\n",
       "      <th>tenure</th>\n",
       "      <th>frequency</th>\n",
       "      <th>monetary</th>\n",
       "      <th>expected_purch_1_week</th>\n",
       "      <th>expected_purch_1_month</th>\n",
       "      <th>expected_purch_3_month</th>\n",
       "      <th>expected_average_profit</th>\n",
       "      <th>clv</th>\n",
       "    </tr>\n",
       "  </thead>\n",
       "  <tbody>\n",
       "    <tr>\n",
       "      <th>1122</th>\n",
       "      <td>14646.000</td>\n",
       "      <td>50.429</td>\n",
       "      <td>50.714</td>\n",
       "      <td>73</td>\n",
       "      <td>3645.708</td>\n",
       "      <td>1.206</td>\n",
       "      <td>4.812</td>\n",
       "      <td>14.334</td>\n",
       "      <td>3654.447</td>\n",
       "      <td>55735.470</td>\n",
       "    </tr>\n",
       "    <tr>\n",
       "      <th>2761</th>\n",
       "      <td>18102.000</td>\n",
       "      <td>52.286</td>\n",
       "      <td>52.571</td>\n",
       "      <td>60</td>\n",
       "      <td>3857.012</td>\n",
       "      <td>0.969</td>\n",
       "      <td>3.864</td>\n",
       "      <td>11.511</td>\n",
       "      <td>3868.262</td>\n",
       "      <td>47379.080</td>\n",
       "    </tr>\n",
       "    <tr>\n",
       "      <th>843</th>\n",
       "      <td>14096.000</td>\n",
       "      <td>13.857</td>\n",
       "      <td>14.571</td>\n",
       "      <td>17</td>\n",
       "      <td>3163.542</td>\n",
       "      <td>0.729</td>\n",
       "      <td>2.896</td>\n",
       "      <td>8.553</td>\n",
       "      <td>3196.389</td>\n",
       "      <td>29061.237</td>\n",
       "    </tr>\n",
       "    <tr>\n",
       "      <th>36</th>\n",
       "      <td>12415.000</td>\n",
       "      <td>44.714</td>\n",
       "      <td>48.286</td>\n",
       "      <td>21</td>\n",
       "      <td>5723.761</td>\n",
       "      <td>0.380</td>\n",
       "      <td>1.514</td>\n",
       "      <td>4.508</td>\n",
       "      <td>5771.632</td>\n",
       "      <td>27682.481</td>\n",
       "    </tr>\n",
       "    <tr>\n",
       "      <th>1257</th>\n",
       "      <td>14911.000</td>\n",
       "      <td>53.143</td>\n",
       "      <td>53.429</td>\n",
       "      <td>201</td>\n",
       "      <td>691.679</td>\n",
       "      <td>3.126</td>\n",
       "      <td>12.472</td>\n",
       "      <td>37.164</td>\n",
       "      <td>692.295</td>\n",
       "      <td>27376.165</td>\n",
       "    </tr>\n",
       "  </tbody>\n",
       "</table>\n",
       "</div>"
      ],
      "text/plain": [
       "      customer id  recency  tenure  frequency  monetary  expected_purch_1_week  expected_purch_1_month  expected_purch_3_month  expected_average_profit       clv\n",
       "1122    14646.000   50.429  50.714         73  3645.708                  1.206                   4.812                  14.334                 3654.447 55735.470\n",
       "2761    18102.000   52.286  52.571         60  3857.012                  0.969                   3.864                  11.511                 3868.262 47379.080\n",
       "843     14096.000   13.857  14.571         17  3163.542                  0.729                   2.896                   8.553                 3196.389 29061.237\n",
       "36      12415.000   44.714  48.286         21  5723.761                  0.380                   1.514                   4.508                 5771.632 27682.481\n",
       "1257    14911.000   53.143  53.429        201   691.679                  3.126                  12.472                  37.164                  692.295 27376.165"
      ]
     },
     "execution_count": 29,
     "metadata": {},
     "output_type": "execute_result"
    }
   ],
   "source": [
    "cltv_final = cltv_df.merge(cltv, on ='customer id', how='left')\n",
    "cltv_final.sort_values(by='clv', ascending=False).head()"
   ]
  },
  {
   "cell_type": "markdown",
   "id": "188eed1c",
   "metadata": {
    "papermill": {
     "duration": 0.019144,
     "end_time": "2022-11-23T22:12:39.683744",
     "exception": false,
     "start_time": "2022-11-23T22:12:39.664600",
     "status": "completed"
    },
    "tags": []
   },
   "source": [
    "# Let's create segements according to 'clv'"
   ]
  },
  {
   "cell_type": "code",
   "execution_count": 30,
   "id": "e7b134f5",
   "metadata": {
    "execution": {
     "iopub.execute_input": "2022-11-23T22:12:39.724531Z",
     "iopub.status.busy": "2022-11-23T22:12:39.724011Z",
     "iopub.status.idle": "2022-11-23T22:12:39.749254Z",
     "shell.execute_reply": "2022-11-23T22:12:39.748187Z"
    },
    "papermill": {
     "duration": 0.048994,
     "end_time": "2022-11-23T22:12:39.751693",
     "exception": false,
     "start_time": "2022-11-23T22:12:39.702699",
     "status": "completed"
    },
    "tags": []
   },
   "outputs": [
    {
     "data": {
      "text/html": [
       "<div>\n",
       "<style scoped>\n",
       "    .dataframe tbody tr th:only-of-type {\n",
       "        vertical-align: middle;\n",
       "    }\n",
       "\n",
       "    .dataframe tbody tr th {\n",
       "        vertical-align: top;\n",
       "    }\n",
       "\n",
       "    .dataframe thead th {\n",
       "        text-align: right;\n",
       "    }\n",
       "</style>\n",
       "<table border=\"1\" class=\"dataframe\">\n",
       "  <thead>\n",
       "    <tr style=\"text-align: right;\">\n",
       "      <th></th>\n",
       "      <th>customer id</th>\n",
       "      <th>recency</th>\n",
       "      <th>tenure</th>\n",
       "      <th>frequency</th>\n",
       "      <th>monetary</th>\n",
       "      <th>expected_purch_1_week</th>\n",
       "      <th>expected_purch_1_month</th>\n",
       "      <th>expected_purch_3_month</th>\n",
       "      <th>expected_average_profit</th>\n",
       "      <th>clv</th>\n",
       "      <th>segment</th>\n",
       "    </tr>\n",
       "  </thead>\n",
       "  <tbody>\n",
       "    <tr>\n",
       "      <th>1122</th>\n",
       "      <td>14646.000</td>\n",
       "      <td>50.429</td>\n",
       "      <td>50.714</td>\n",
       "      <td>73</td>\n",
       "      <td>3645.708</td>\n",
       "      <td>1.206</td>\n",
       "      <td>4.812</td>\n",
       "      <td>14.334</td>\n",
       "      <td>3654.447</td>\n",
       "      <td>55735.470</td>\n",
       "      <td>A</td>\n",
       "    </tr>\n",
       "    <tr>\n",
       "      <th>2761</th>\n",
       "      <td>18102.000</td>\n",
       "      <td>52.286</td>\n",
       "      <td>52.571</td>\n",
       "      <td>60</td>\n",
       "      <td>3857.012</td>\n",
       "      <td>0.969</td>\n",
       "      <td>3.864</td>\n",
       "      <td>11.511</td>\n",
       "      <td>3868.262</td>\n",
       "      <td>47379.080</td>\n",
       "      <td>A</td>\n",
       "    </tr>\n",
       "    <tr>\n",
       "      <th>843</th>\n",
       "      <td>14096.000</td>\n",
       "      <td>13.857</td>\n",
       "      <td>14.571</td>\n",
       "      <td>17</td>\n",
       "      <td>3163.542</td>\n",
       "      <td>0.729</td>\n",
       "      <td>2.896</td>\n",
       "      <td>8.553</td>\n",
       "      <td>3196.389</td>\n",
       "      <td>29061.237</td>\n",
       "      <td>A</td>\n",
       "    </tr>\n",
       "    <tr>\n",
       "      <th>36</th>\n",
       "      <td>12415.000</td>\n",
       "      <td>44.714</td>\n",
       "      <td>48.286</td>\n",
       "      <td>21</td>\n",
       "      <td>5723.761</td>\n",
       "      <td>0.380</td>\n",
       "      <td>1.514</td>\n",
       "      <td>4.508</td>\n",
       "      <td>5771.632</td>\n",
       "      <td>27682.481</td>\n",
       "      <td>A</td>\n",
       "    </tr>\n",
       "    <tr>\n",
       "      <th>1257</th>\n",
       "      <td>14911.000</td>\n",
       "      <td>53.143</td>\n",
       "      <td>53.429</td>\n",
       "      <td>201</td>\n",
       "      <td>691.679</td>\n",
       "      <td>3.126</td>\n",
       "      <td>12.472</td>\n",
       "      <td>37.164</td>\n",
       "      <td>692.295</td>\n",
       "      <td>27376.165</td>\n",
       "      <td>A</td>\n",
       "    </tr>\n",
       "    <tr>\n",
       "      <th>...</th>\n",
       "      <td>...</td>\n",
       "      <td>...</td>\n",
       "      <td>...</td>\n",
       "      <td>...</td>\n",
       "      <td>...</td>\n",
       "      <td>...</td>\n",
       "      <td>...</td>\n",
       "      <td>...</td>\n",
       "      <td>...</td>\n",
       "      <td>...</td>\n",
       "      <td>...</td>\n",
       "    </tr>\n",
       "    <tr>\n",
       "      <th>2682</th>\n",
       "      <td>17912.000</td>\n",
       "      <td>7.714</td>\n",
       "      <td>52.143</td>\n",
       "      <td>5</td>\n",
       "      <td>62.202</td>\n",
       "      <td>0.001</td>\n",
       "      <td>0.004</td>\n",
       "      <td>0.013</td>\n",
       "      <td>65.211</td>\n",
       "      <td>0.905</td>\n",
       "      <td>D</td>\n",
       "    </tr>\n",
       "    <tr>\n",
       "      <th>1447</th>\n",
       "      <td>15332.000</td>\n",
       "      <td>0.429</td>\n",
       "      <td>52.857</td>\n",
       "      <td>4</td>\n",
       "      <td>415.265</td>\n",
       "      <td>0.000</td>\n",
       "      <td>0.001</td>\n",
       "      <td>0.002</td>\n",
       "      <td>435.072</td>\n",
       "      <td>0.701</td>\n",
       "      <td>D</td>\n",
       "    </tr>\n",
       "    <tr>\n",
       "      <th>2100</th>\n",
       "      <td>16725.000</td>\n",
       "      <td>9.857</td>\n",
       "      <td>53.143</td>\n",
       "      <td>7</td>\n",
       "      <td>111.574</td>\n",
       "      <td>0.000</td>\n",
       "      <td>0.002</td>\n",
       "      <td>0.005</td>\n",
       "      <td>114.957</td>\n",
       "      <td>0.550</td>\n",
       "      <td>D</td>\n",
       "    </tr>\n",
       "    <tr>\n",
       "      <th>1346</th>\n",
       "      <td>15107.000</td>\n",
       "      <td>8.714</td>\n",
       "      <td>53.286</td>\n",
       "      <td>6</td>\n",
       "      <td>53.250</td>\n",
       "      <td>0.001</td>\n",
       "      <td>0.002</td>\n",
       "      <td>0.007</td>\n",
       "      <td>55.476</td>\n",
       "      <td>0.395</td>\n",
       "      <td>D</td>\n",
       "    </tr>\n",
       "    <tr>\n",
       "      <th>2655</th>\n",
       "      <td>17850.000</td>\n",
       "      <td>0.143</td>\n",
       "      <td>53.429</td>\n",
       "      <td>34</td>\n",
       "      <td>158.565</td>\n",
       "      <td>0.000</td>\n",
       "      <td>0.000</td>\n",
       "      <td>0.000</td>\n",
       "      <td>159.489</td>\n",
       "      <td>0.000</td>\n",
       "      <td>D</td>\n",
       "    </tr>\n",
       "  </tbody>\n",
       "</table>\n",
       "<p>2845 rows × 11 columns</p>\n",
       "</div>"
      ],
      "text/plain": [
       "      customer id  recency  tenure  frequency  monetary  expected_purch_1_week  expected_purch_1_month  expected_purch_3_month  expected_average_profit       clv segment\n",
       "1122    14646.000   50.429  50.714         73  3645.708                  1.206                   4.812                  14.334                 3654.447 55735.470       A\n",
       "2761    18102.000   52.286  52.571         60  3857.012                  0.969                   3.864                  11.511                 3868.262 47379.080       A\n",
       "843     14096.000   13.857  14.571         17  3163.542                  0.729                   2.896                   8.553                 3196.389 29061.237       A\n",
       "36      12415.000   44.714  48.286         21  5723.761                  0.380                   1.514                   4.508                 5771.632 27682.481       A\n",
       "1257    14911.000   53.143  53.429        201   691.679                  3.126                  12.472                  37.164                  692.295 27376.165       A\n",
       "...           ...      ...     ...        ...       ...                    ...                     ...                     ...                      ...       ...     ...\n",
       "2682    17912.000    7.714  52.143          5    62.202                  0.001                   0.004                   0.013                   65.211     0.905       D\n",
       "1447    15332.000    0.429  52.857          4   415.265                  0.000                   0.001                   0.002                  435.072     0.701       D\n",
       "2100    16725.000    9.857  53.143          7   111.574                  0.000                   0.002                   0.005                  114.957     0.550       D\n",
       "1346    15107.000    8.714  53.286          6    53.250                  0.001                   0.002                   0.007                   55.476     0.395       D\n",
       "2655    17850.000    0.143  53.429         34   158.565                  0.000                   0.000                   0.000                  159.489     0.000       D\n",
       "\n",
       "[2845 rows x 11 columns]"
      ]
     },
     "execution_count": 30,
     "metadata": {},
     "output_type": "execute_result"
    }
   ],
   "source": [
    "cltv_final['segment'] = pd.qcut(cltv_final['clv'], 4, labels=['D', 'C', 'B', 'A'])\n",
    "cltv_final.sort_values(by='clv', ascending=False)"
   ]
  },
  {
   "cell_type": "markdown",
   "id": "ca86f381",
   "metadata": {
    "papermill": {
     "duration": 0.018962,
     "end_time": "2022-11-23T22:12:39.790671",
     "exception": false,
     "start_time": "2022-11-23T22:12:39.771709",
     "status": "completed"
    },
    "tags": []
   },
   "source": [
    "### Let's define a function named 'decision_process'"
   ]
  },
  {
   "cell_type": "code",
   "execution_count": 31,
   "id": "bc616e2e",
   "metadata": {
    "execution": {
     "iopub.execute_input": "2022-11-23T22:12:39.831347Z",
     "iopub.status.busy": "2022-11-23T22:12:39.830613Z",
     "iopub.status.idle": "2022-11-23T22:12:39.889449Z",
     "shell.execute_reply": "2022-11-23T22:12:39.888576Z"
    },
    "papermill": {
     "duration": 0.08214,
     "end_time": "2022-11-23T22:12:39.892319",
     "exception": false,
     "start_time": "2022-11-23T22:12:39.810179",
     "status": "completed"
    },
    "tags": []
   },
   "outputs": [
    {
     "name": "stdout",
     "output_type": "stream",
     "text": [
      "------------------------------\n",
      "        recency                \n",
      "           mean count       sum\n",
      "segment                        \n",
      "D        22.074   712 15716.571\n",
      "C        30.670   711 21806.143\n",
      "B        29.515   711 20985.000\n",
      "A        31.411   711 22333.143\n",
      "------------------------------\n",
      "        tenure                \n",
      "          mean count       sum\n",
      "segment                       \n",
      "D       40.465   712 28811.000\n",
      "C       38.111   711 27097.000\n",
      "B       34.812   711 24751.143\n",
      "A       34.484   711 24518.143\n",
      "------------------------------\n",
      "        frequency            \n",
      "             mean count   sum\n",
      "segment                      \n",
      "D           3.065   712  2182\n",
      "C           4.096   711  2912\n",
      "B           5.442   711  3869\n",
      "A          11.359   711  8076\n",
      "------------------------------\n",
      "        monetary                 \n",
      "            mean count        sum\n",
      "segment                          \n",
      "D        183.954   712 130975.032\n",
      "C        271.689   711 193170.895\n",
      "B        373.434   711 265511.521\n",
      "A        659.805   711 469121.033\n",
      "------------------------------\n",
      "        expected_purch_1_week              \n",
      "                         mean count     sum\n",
      "segment                                    \n",
      "D                       0.071   712  50.590\n",
      "C                       0.121   711  85.731\n",
      "B                       0.162   711 115.507\n",
      "A                       0.274   711 194.499\n",
      "------------------------------\n",
      "        expected_purch_1_month              \n",
      "                          mean count     sum\n",
      "segment                                     \n",
      "D                        0.283   712 201.477\n",
      "C                        0.480   711 341.394\n",
      "B                        0.647   711 459.693\n",
      "A                        1.089   711 774.330\n",
      "------------------------------\n",
      "        expected_purch_3_month               \n",
      "                          mean count      sum\n",
      "segment                                      \n",
      "D                        0.840   712  598.091\n",
      "C                        1.425   711 1013.218\n",
      "B                        1.917   711 1362.659\n",
      "A                        3.231   711 2297.145\n",
      "------------------------------\n",
      "        expected_average_profit                 \n",
      "                           mean count        sum\n",
      "segment                                         \n",
      "D                       199.428   712 141992.387\n",
      "C                       289.979   711 206175.265\n",
      "B                       393.885   711 280052.374\n",
      "A                       685.844   711 487634.824\n",
      "------------------------------\n",
      "             clv                  \n",
      "            mean count         sum\n",
      "segment                           \n",
      "D        143.292   712  102023.867\n",
      "C        380.784   711  270737.215\n",
      "B        688.250   711  489345.908\n",
      "A       2222.122   711 1579928.640\n"
     ]
    }
   ],
   "source": [
    "def decision_process(dataframe, target, variable):\n",
    "    print(dataframe.groupby(target).agg({variable: ['mean', 'count', 'sum']}))\n",
    "\n",
    "num_cols = [col for col in cltv_final.columns if cltv_final[col].dtypes not in ['bool', 'category', 'object']]\n",
    "num_cols = [col for col in num_cols if 'customer id' not in col]\n",
    "for col in num_cols:\n",
    "    print('--'*15)\n",
    "    decision_process(cltv_final, 'segment', col)"
   ]
  },
  {
   "cell_type": "markdown",
   "id": "e4a43dbe",
   "metadata": {
    "papermill": {
     "duration": 0.018868,
     "end_time": "2022-11-23T22:12:39.930593",
     "exception": false,
     "start_time": "2022-11-23T22:12:39.911725",
     "status": "completed"
    },
    "tags": []
   },
   "source": [
    "# **Thanks for checking my notebook!**"
   ]
  }
 ],
 "metadata": {
  "kernelspec": {
   "display_name": "Python 3",
   "language": "python",
   "name": "python3"
  },
  "language_info": {
   "codemirror_mode": {
    "name": "ipython",
    "version": 3
   },
   "file_extension": ".py",
   "mimetype": "text/x-python",
   "name": "python",
   "nbconvert_exporter": "python",
   "pygments_lexer": "ipython3",
   "version": "3.7.12"
  },
  "papermill": {
   "default_parameters": {},
   "duration": 111.684702,
   "end_time": "2022-11-23T22:12:40.873988",
   "environment_variables": {},
   "exception": null,
   "input_path": "__notebook__.ipynb",
   "output_path": "__notebook__.ipynb",
   "parameters": {},
   "start_time": "2022-11-23T22:10:49.189286",
   "version": "2.3.4"
  }
 },
 "nbformat": 4,
 "nbformat_minor": 5
}
